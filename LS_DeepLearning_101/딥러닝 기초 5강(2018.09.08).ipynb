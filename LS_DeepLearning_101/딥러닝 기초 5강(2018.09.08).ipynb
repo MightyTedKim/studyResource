{
 "cells": [
  {
   "cell_type": "markdown",
   "metadata": {},
   "source": [
    "# 딥러닝 기초 5강(2018.09.08)\n",
    "***    \n",
    "\n",
    "* __강의 목표__: Decision Tree\n",
    "\n",
    "* __이론__: \n",
    "\n",
    "* __실습__:  \n",
    "\n"
   ]
  },
  {
   "cell_type": "code",
   "execution_count": 1,
   "metadata": {},
   "outputs": [],
   "source": [
    "#기본 옵션\n",
    "options(repr.plot.width=4, repr.plot.height=3)"
   ]
  },
  {
   "cell_type": "markdown",
   "metadata": {},
   "source": [
    "# 5강, Decision Tree 관련  \n",
    "\n",
    "__1. Decision tree의 대표격인 CART를 중점적으로 설명한 것인지?__  \n",
    " > Yes, 수업에서는 Decision tree 중 CART를 설명함  \n",
    "\n",
    "__2. 구글링하다보니 CART에 classification있던데?__\n",
    " > Yes, classification, regression 둘다 있는데, classification만 설명함 (분류 문제는 좀 까다로워서)  \n",
    " 참고로, 다른 교재에서 '불순도를 최소화 한다. = logloss를 최소화한다.' 같은 의미임\n",
    "  \n",
    "__3. 앙상블이 정확히 무엇인지?__  \n",
    " > 앙상블은 여러 모델을 합치는 기법들을 총칭함  \n",
    " \n",
    "__4. bagging, boosting과 앙상블, 랜덤 포레스트와의 관계가 어떤 관계인지__\n",
    " > - bagging, boosting은 앙상블 기법의 일종   \n",
    " > - 랜덤포레스트는 bagging의 의 특별한 경우  \n",
    "  \n",
    "__5. bagging에서 unique tree를 위해 random forest 사용으로 이해했는데, bagging과 boosting은 아예 다른 건가요?__    \n",
    "     \n",
    "  > 공통점: 나무1 + 나무2 + ... + 나무B  \n",
    "    차이점: 나무를 어떻게 만드는지      \n",
    "  >  - bagging : 샘플링 -> 나무1, 샘플링 -> 나무2 ...  \n",
    "  >  - boosting : 나무1 -> 나무2 -> ... \n",
    "      \n",
    "__6. 파라미터 tree 갯수를 상관하지 않아도 되는 모델이 있따고 필기했는데, tree는 다 정해줘야 하지 않은지?__  \n",
    " > No, 랜던 포레스트/ bagging은 일정 갯수 이상 나무를 사용하면 성능이 나빠지지도 좋아지지도 않아서  \n",
    " 주의깊게 튜닝해줄 필요가 없다는 뜻이었음  \n",
    "\n",
    "__7. Mytry는 random forest split 할때, 선택될 나무의 갯수로 이해했는데 맞는지?__  \n",
    " > RF를 구성하는 개별 나무들이 자라 나갈 떄, 랜덤하게 자라도록 제어하는 역할임 \n",
    " > (가지 한 번 나눌 때 모든 input을 고려하지 않고 랜덤 추출한 특정한 input만 고려)\n",
    "\n"
   ]
  },
  {
   "cell_type": "markdown",
   "metadata": {},
   "source": [
    "***\n",
    "\n",
    "__요약__     \n",
    "1. Decision Tree: \n",
    ">Tree spliting rule, 파라미터 조합이 아님  \n",
    "어느 영역에 속하느지를 보고 output 값을 찾음  \n",
    "https://www.youtube.com/watch?v=DCZ3tsQIoGU  \n",
    ">classification, regression 둘 다 있지만 classification을 다룰 예정\n",
    "\n",
    "2. CART(Classification And Regression Tree) - 가장 대표적\n",
    "> 가장 잘 분할하는 속성값을 찾는 것\n",
    " Decision tree <- CART, HMC, MARS ...   \n",
    " 불순도: 다수를 차지하는 레코드 중 , 다른 것이 차지하는 비율   \n",
    " \n",
    " > 장점: 해석이 쉬움  \n",
    "  단점: 계산 너무 많아짐, overfitting 되기 쉬움\n",
    "\n",
    "3. 작동 방식 \n",
    "> 1. 분기로 나눠서 cost 측정 \n",
    "> 2. 가장 낮은 cost 선택\n",
    "> 3. 계속 나눔  \n",
    "\n",
    "4. overfitting 피하기 위한 제한   \n",
    "> Maximum depth: tree 깊이 수를 제한 eg) 나무 깊이를 3까지만\n",
    "> Maximum-node-size: 마지막 node의 크기 제한  \n"
   ]
  },
  {
   "cell_type": "markdown",
   "metadata": {},
   "source": [
    "***\n",
    "5. Random Forest 정의  \n",
    "> 무작위로 tree를 나눔, var를 낮춰서 overfitting을 피할 수 있음\n",
    "> Ensemble Machine Learning Algoristh 이라고 불림(weak learner -> strong learner) \n",
    "\n",
    "6. Random Forest 장점\n",
    "> 1. regression/ classification 가능\n",
    "> 2. 데이터 없는 부분을 고려해서 정확도를 높일 수 있음\n",
    "> 3. overfitting 이 발생하지 않음\n",
    "> 4. 큰 데이터 set을 높은 차원에서 다룰 수 있다. \n",
    "> 5. Bagging의 correlation 문제를 해결함  \n",
    "\n",
    "7. Random Forest 단점  \n",
    "> 1. regression은 classification만큼 정확하지 않음\n",
    "> 2. 학습된 범위 밖에 대해서는 설명해주지 않음(regression)\n",
    "> 3. control 하기가 어려움  \n",
    "\n",
    "***\n",
    "\n",
    "8. Ensemble method(Random Forest) 알고리즘 2가지\n",
    "> Bagging/ Boosting\n",
    "> 정의: 여러 모델을 이용하여 데이터를 학습하고, 모든 모델의 예측 결과를 평균하여 예측 \n",
    "> 사용 이유: error 최소화, overfitting 감소(variance 감소)\n",
    "https://www.slideshare.net/freepsw/boosting-bagging-vs-boosting\n",
    "\n",
    "10. Bagging  \n",
    "> 1. 특징: 병렬 앙상블, variance 감소\n",
    "> 2. 방식: resampling(재표본추출)해서 나온 tree들을 평균 취하기   \n",
    "> 3. 장점: 안정성을 높이고, 분산과 정확도를 낮추도록 설계된 알고리즘,   \n",
    "  분산을 줄이고 높이지만 최대치가 안했을 때 분산이랑 똑같아서 손해 보지는 않음\n",
    "> 4. 단점: 비슷한 나무가 많이 나옴 -> 그래서 random forest 사용\n",
    "> 5. Bias: 변하지 않음, 평균값을 나누는 거니까 \n",
    "> 6. Var: p(row)라는 상관 계수로 조절\n",
    "> 7. hyper parameter: var(나무 1개의 분산), B(나무의 갯수), p(상관계수)\n",
    "\n",
    " > 8. 대표 알고리즘 : Random forest는 무작위로 tree 를 정하기 때문에, var 낮아짐(비슷한 나무가 적게 나옴)\n",
    "\n",
    "11. Boosting      \n",
    "> 1. 특징: 연속 앙상블, Bias 감소  \n",
    "> 2. 방식: 편향을 낮추고, supervised learning의 분산을 낮추도록 설계된 알고리즘      \n",
    "직전에 학습된 모델의 잔차를 설명하는 새로운 함수를 만들며 cost를 최소화하는 것  \n",
    "> 3. 적합한 상황: low var, high bias   \n",
    "> 4. Bias: 변하지 않음, 평균값을 나누는 거니까   \n",
    "> 5. Var: p(row)라는 상관 계수로 조절  \n",
    "> 6. hyper parameter: B(나무의 갯수)  \n",
    "  \n",
    " > 7. 대표 알고리즘: gradient Boosting(loss function의 gradient에 가중치 부여), ada Boostinㅎ)    \n",
    "\n",
    "\n",
    "\n",
    "==\n",
    "9. Bayes Error\n",
    "> Bayes Error = Irreducible Error, 내재된 오류  \n",
    "\n",
    "10. E[ e(h) ] = Bayes Error + [Bias(h)]^2 + Var(h)  \n",
    "> 해석: Bayes Error는 어쩔수 없으니, 일반화 오류들의 기댓값 = 편향과 과 분산에 좌우됨\n",
    "  Decision Tree 입장에서는 나무가 많아지면 var가 커지고, overfirtting이 많아짐    \n",
    "  \n",
    "=="
   ]
  },
  {
   "cell_type": "code",
   "execution_count": 5,
   "metadata": {},
   "outputs": [
    {
     "data": {
      "text/html": [
       "<ol class=list-inline>\n",
       "\t<li>'fixed_acidity'</li>\n",
       "\t<li>'volatile_acidity'</li>\n",
       "\t<li>'citric_acid'</li>\n",
       "\t<li>'residual_sugar'</li>\n",
       "\t<li>'chlorides'</li>\n",
       "\t<li>'free_sulfur_dioxide'</li>\n",
       "\t<li>'total_sulfur_dioxide'</li>\n",
       "\t<li>'density'</li>\n",
       "\t<li>'pH'</li>\n",
       "\t<li>'sulphates'</li>\n",
       "\t<li>'alcohol'</li>\n",
       "\t<li>'quality'</li>\n",
       "\t<li>'type'</li>\n",
       "</ol>\n"
      ],
      "text/latex": [
       "\\begin{enumerate*}\n",
       "\\item 'fixed\\_acidity'\n",
       "\\item 'volatile\\_acidity'\n",
       "\\item 'citric\\_acid'\n",
       "\\item 'residual\\_sugar'\n",
       "\\item 'chlorides'\n",
       "\\item 'free\\_sulfur\\_dioxide'\n",
       "\\item 'total\\_sulfur\\_dioxide'\n",
       "\\item 'density'\n",
       "\\item 'pH'\n",
       "\\item 'sulphates'\n",
       "\\item 'alcohol'\n",
       "\\item 'quality'\n",
       "\\item 'type'\n",
       "\\end{enumerate*}\n"
      ],
      "text/markdown": [
       "1. 'fixed_acidity'\n",
       "2. 'volatile_acidity'\n",
       "3. 'citric_acid'\n",
       "4. 'residual_sugar'\n",
       "5. 'chlorides'\n",
       "6. 'free_sulfur_dioxide'\n",
       "7. 'total_sulfur_dioxide'\n",
       "8. 'density'\n",
       "9. 'pH'\n",
       "10. 'sulphates'\n",
       "11. 'alcohol'\n",
       "12. 'quality'\n",
       "13. 'type'\n",
       "\n",
       "\n"
      ],
      "text/plain": [
       " [1] \"fixed_acidity\"        \"volatile_acidity\"     \"citric_acid\"         \n",
       " [4] \"residual_sugar\"       \"chlorides\"            \"free_sulfur_dioxide\" \n",
       " [7] \"total_sulfur_dioxide\" \"density\"              \"pH\"                  \n",
       "[10] \"sulphates\"            \"alcohol\"              \"quality\"             \n",
       "[13] \"type\"                "
      ]
     },
     "metadata": {},
     "output_type": "display_data"
    }
   ],
   "source": [
    "#와인 데이터 불러오기 \n",
    "data4_1 <- read.csv(\"data4_1.csv\", header = TRUE) #한글 깨지지 않으려면 encoding=\"utf-8\" 하면됨\n",
    "\n",
    "test_df <- data4_1\n",
    "colnames(test_df)"
   ]
  },
  {
   "cell_type": "markdown",
   "metadata": {},
   "source": [
    "# 1. lm로 와인데이터 그리기"
   ]
  },
  {
   "cell_type": "code",
   "execution_count": 6,
   "metadata": {},
   "outputs": [],
   "source": [
    "# 와인 데이터 불러오기\n",
    "test_df <- data4_1 #wine\n",
    "set.seed(10)\n",
    "\n",
    "#use 80% of random data as a training set\n",
    "train <- sample(1:nrow(test_df), 0.8*nrow(test_df))\n",
    "\n",
    "#lm quality and other data to train(ofcourse using 80%, which is the train)\n",
    "model <- lm(quality~., data=test_df[train, ])\n",
    "\n",
    "#preidct\n",
    "pred_quality <- predict(model, test_df[-train, ])\n",
    "real_quality <- test_df$quality[-train]\n",
    "\n",
    "validation_error <- mean((real_quality - pred_quality)^2)\n"
   ]
  },
  {
   "cell_type": "code",
   "execution_count": 7,
   "metadata": {},
   "outputs": [
    {
     "data": {
      "text/html": [
       "0.550955108999419"
      ],
      "text/latex": [
       "0.550955108999419"
      ],
      "text/markdown": [
       "0.550955108999419"
      ],
      "text/plain": [
       "[1] 0.5509551"
      ]
     },
     "metadata": {},
     "output_type": "display_data"
    },
    {
     "data": {
      "image/png": "[encoded data removed]",
      "text/plain": [
       "Plot with title \"\""
      ]
     },
     "metadata": {},
     "output_type": "display_data"
    },
    {
     "data": {
      "image/png": "[encoded data removed]",
      "text/plain": [
       "Plot with title \"\""
      ]
     },
     "metadata": {},
     "output_type": "display_data"
    },
    {
     "data": {
      "image/png": "[encoded data removed]",
      "text/plain": [
       "Plot with title \"\""
      ]
     },
     "metadata": {},
     "output_type": "display_data"
    },
    {
     "data": {
      "image/png": "[encoded data removed]",
      "text/plain": [
       "Plot with title \"\""
      ]
     },
     "metadata": {},
     "output_type": "display_data"
    }
   ],
   "source": [
    "#lm result \n",
    "validation_error\n",
    "plot(model)"
   ]
  },
  {
   "cell_type": "markdown",
   "metadata": {},
   "source": [
    "# 2. 와인 데이터로 tree 그리기"
   ]
  },
  {
   "cell_type": "code",
   "execution_count": 8,
   "metadata": {},
   "outputs": [],
   "source": [
    "library(tree)\n",
    "\n",
    "test_df <- data4_1 #wine\n",
    "set.seed(10)\n",
    "\n",
    "#use 80% of random data as a training set\n",
    "train <- sample(1:nrow(test_df), 0.8*nrow(test_df))\n",
    "\n",
    "#lm quality and other data to train(ofcourse using 80%, which is the train)\n",
    "model <- tree(quality~., data=test_df[train, ])\n",
    "\n",
    "#preidct\n",
    "pred_quality <- predict(model, test_df[-train, ])\n",
    "real_quality <- test_df$quality[-train]\n",
    "\n",
    "validation_error <- mean((real_quality - pred_quality)^2)"
   ]
  },
  {
   "cell_type": "code",
   "execution_count": 9,
   "metadata": {},
   "outputs": [
    {
     "data": {
      "text/html": [
       "0.567616036143317"
      ],
      "text/latex": [
       "0.567616036143317"
      ],
      "text/markdown": [
       "0.567616036143317"
      ],
      "text/plain": [
       "[1] 0.567616"
      ]
     },
     "metadata": {},
     "output_type": "display_data"
    },
    {
     "data": {
      "image/png": "[encoded data removed]",
      "text/plain": [
       "plot without title"
      ]
     },
     "metadata": {},
     "output_type": "display_data"
    }
   ],
   "source": [
    "options(repr.plot.width=5, repr.plot.height=4)\n",
    "\n",
    "# tree result \n",
    "# 해석은 편하지만 variance가 높아서 정확도는 떨어질 수 있음\n",
    "validation_error\n",
    "\n",
    "plot(model)\n",
    "text(model)"
   ]
  },
  {
   "cell_type": "markdown",
   "metadata": {},
   "source": [
    "***\n",
    "# a) bagging\n",
    "- 여러개를 뽑아서 평균을 구\n",
    "  bias는 동일함\n",
    "  variance를 줄일 수 있지만 비슷한 나물들이 나옴  \n",
    "      \n",
    "  ρ(row)가 생각보다 작지 않아서, 여러번 코드를 돌려나무가 비슷하게 나옴 ~ 알코올, acidity 에서 크게 달라지지 않음\n",
    "- hyper parementer\n",
    "  max depth : 깊이\n",
    "  min node size : 마지막 node의 데이터 갯수 \n",
    "  b: 몇개 사용할지 고려해야함\n",
    "\n",
    "# b) random forest\n",
    "- 무작위로 뽑는 것 \n",
    "- hyper parementer\n",
    "  b : 나무 갯수 ~ 최적의 나무 갯수 선택해(이론), rf 는 그러지 않음(분산이 늘어나지 않으니까 특정 지점까지 괜찮음),\n",
    "  따라서, max depth, min node size, b : 크게 상관하지 않아도 됨\n",
    "  \n",
    "  가장 중요한 hyperparameter는 몇개 뽑을지 \n",
    "    - 12개 중 12게 뽑으면 bagging  \n",
    "    - 12개 중 n개 뽑으면 random forest(가령, 당도와 밀도를 고려하겠다)\n",
    "        mtry를 낮추다: n 작아질수록, var 줄어듦(유니크한 나무), 늘어\n",
    "        mtry를 높이다; var 늘어남, biase 줄어듦"
   ]
  },
  {
   "cell_type": "markdown",
   "metadata": {},
   "source": [
    "# 3. random forest 실습(ranger library로)"
   ]
  },
  {
   "cell_type": "code",
   "execution_count": 2,
   "metadata": {},
   "outputs": [
    {
     "ename": "ERROR",
     "evalue": "Error in library(ranger): there is no package called 'ranger'\n",
     "output_type": "error",
     "traceback": [
      "Error in library(ranger): there is no package called 'ranger'\nTraceback:\n",
      "1. library(ranger)",
      "2. stop(txt, domain = NA)"
     ]
    }
   ],
   "source": [
    "#random forest 는 오래 걸려서 ranger 사용함 \n",
    "library(ranger)"
   ]
  },
  {
   "cell_type": "code",
   "execution_count": null,
   "metadata": {},
   "outputs": [],
   "source": [
    "test_df <- data4_1 #wine\n",
    "set.seed(10)\n",
    "\n",
    "#use 80% of random data as a training set\n",
    "train <- sample(1:nrow(test_df), 0.8*nrow(test_df))\n",
    "\n",
    "#lm quality and other data to train(ofcourse using 80%, which is the train)\n",
    "model <- ranger(quality~., data=test_df[train, ])\n",
    "\n",
    "#predict에는 $prediction 해줘야함\n",
    "pred_quality <- predict(model, test_df[-train, ])$prediction\n",
    "real_quality <- test_df$quality[-train]\n",
    "\n",
    "validation_error <- mean((real_quality - pred_quality)^2)\n",
    "validation_error"
   ]
  },
  {
   "cell_type": "markdown",
   "metadata": {},
   "source": [
    "hyperparemeter tunning 해보기\n",
    "  hyperparemeter mtry를 3개에서 2개로 바꿔봄\n",
    "  for문 돌리면 mtry=9일 때 가장 낮음\n",
    "  bagging -> mtry=12인 경\n",
    "  \n",
    "  mtry=1 input 1개이면, 변수 정해준거"
   ]
  },
  {
   "cell_type": "code",
   "execution_count": null,
   "metadata": {},
   "outputs": [],
   "source": [
    "test_df <- data4_1 #wine\n",
    "set.seed(10)\n",
    "\n",
    "#use 80% of random data as a training set\n",
    "train <- sample(1:nrow(test_df), 0.8*nrow(test_df))\n",
    "\n",
    "#lm quality and other data to train(ofcourse using 80%, which is the train)\n",
    "model <- ranger(quality~., data=test_df[train, ], mtry=5)\n",
    "\n",
    "#predict에는 $prediction 해줘야함\n",
    "pred_quality <- predict(model, test_df[-train, ])$prediction\n",
    "real_quality <- test_df$quality[-train]\n",
    "\n",
    "validation_error <- mean((real_quality - pred_quality)^2)\n",
    "validation_error"
   ]
  },
  {
   "cell_type": "markdown",
   "metadata": {},
   "source": [
    "그냥 tree 그렸을 때는 error 0.567616036143317  \n",
    "radom forest로 그렸을 때는 error 0.367160728997349  \n"
   ]
  },
  {
   "cell_type": "markdown",
   "metadata": {},
   "source": [
    "# c) boosting \n",
    "따로 모델을 사용하지 않음  "
   ]
  },
  {
   "cell_type": "code",
   "execution_count": null,
   "metadata": {},
   "outputs": [],
   "source": [
    "test_df <- data4_1 #wine\n",
    "set.seed(10)\n",
    "\n",
    "train <- sample(1:nrow(test_df), 0.8*nrow(test_df))\n",
    "\n",
    "model1 <- tree(quality~. ,data=test_df[train, ])\n",
    "# predict(model1, test_df[train, ])\n",
    "test_df$quality[train] <- test_df$quality[train] - predict(model1, test_df[train,])\n",
    "\n",
    "model2 <- tree(quality~. ,data=test_df[train, ])\n",
    "test_df$quality[train] <- test_df$quality[train] - predict(model2, test_df[train,])\n",
    "\n",
    "model3 <- tree(quality~. ,data=test_df[train, ])\n",
    "test_df$quality[train] <- test_df$quality[train] - predict(model3, test_df[train,])\n",
    "\n",
    "model4 <- tree(quality~. ,data=test_df[train, ])\n",
    "test_df$quality[train] <- test_df$quality[train] - predict(model4, test_df[train,])\n",
    "\n",
    "model5 <- tree(quality~. ,data=test_df[train, ])\n",
    "test_df$quality[train] <- test_df$quality[train] - predict(model5, test_df[train,])\n",
    "\n",
    "model5\n",
    "\n",
    "# 첫번째 모델로, validation set이 얼마나 학습되어있는확 확인\n",
    "pred1 <- predict(model1, test_df[-train,])\n",
    "# 두번째\n",
    "pred2 <- predict(model2, test_df[-train,])\n",
    "pred3 <- predict(model3, test_df[-train,])\n",
    "pred4 <- predict(model4, test_df[-train,])\n",
    "pred5 <- predict(model5, test_df[-train,])\n",
    "\n",
    "pred <- pred1 + pred2 + pred3+ pred4 + pred5\n",
    "\n",
    "real <- test_df$quality[-train]\n",
    "\n",
    "mean((real - pred)^2)\n"
   ]
  },
  {
   "cell_type": "markdown",
   "metadata": {},
   "source": [
    "# c-1) Gradient Descent Model(GDM)\n",
    "\n",
    "  boosting 머신은 튜닝엄 엄청 해야됨, 예시는 500개 트레이닝"
   ]
  },
  {
   "cell_type": "code",
   "execution_count": null,
   "metadata": {},
   "outputs": [],
   "source": [
    "library(gbm)"
   ]
  },
  {
   "cell_type": "code",
   "execution_count": null,
   "metadata": {},
   "outputs": [],
   "source": [
    "test_df <- data4_1 #wine\n",
    "set.seed(10)\n",
    "#gradeint descendent는 나무 갯수 정해줘야함\n",
    "tree_num=500\n",
    "\n",
    "train <- sample(1:nrow(test_df), 0.8*nrow(test_df))\n",
    "model <- gbm(quality~. ,data=test_df[train, ], n.trees=tree_num) # n.trees\n",
    "\n",
    "pred_quality <- predict(model, test_df[-train, ], n.trees=tree_num) # n.trees\n",
    "real_quality <- test_df$quality[-train]\n",
    "\n",
    "validation_error <- mean((real_quality - pred_quality)^2)\n",
    "validation_error"
   ]
  },
  {
   "cell_type": "markdown",
   "metadata": {},
   "source": [
    "# c-2) xgboost\n",
    "\n",
    "training error는 줄어들고,\n",
    "validation error는 줄어들다 늘어남\n"
   ]
  },
  {
   "cell_type": "code",
   "execution_count": 14,
   "metadata": {},
   "outputs": [],
   "source": [
    "library(xgboost)"
   ]
  },
  {
   "cell_type": "code",
   "execution_count": 15,
   "metadata": {},
   "outputs": [
    {
     "name": "stdout",
     "output_type": "stream",
     "text": [
      "[1]\ttrain-rmse:4.868037 \n",
      "[2]\ttrain-rmse:4.393776 \n",
      "[3]\ttrain-rmse:3.967971 \n",
      "[4]\ttrain-rmse:3.585775 \n",
      "[5]\ttrain-rmse:3.242929 \n",
      "[6]\ttrain-rmse:2.935563 \n",
      "[7]\ttrain-rmse:2.660522 \n",
      "[8]\ttrain-rmse:2.414585 \n",
      "[9]\ttrain-rmse:2.194769 \n",
      "[10]\ttrain-rmse:1.998759 \n",
      "[11]\ttrain-rmse:1.824116 \n",
      "[12]\ttrain-rmse:1.669077 \n",
      "[13]\ttrain-rmse:1.531559 \n",
      "[14]\ttrain-rmse:1.410289 \n",
      "[15]\ttrain-rmse:1.303285 \n",
      "[16]\ttrain-rmse:1.209228 \n",
      "[17]\ttrain-rmse:1.127033 \n",
      "[18]\ttrain-rmse:1.055764 \n",
      "[19]\ttrain-rmse:0.993477 \n",
      "[20]\ttrain-rmse:0.940041 \n",
      "[21]\ttrain-rmse:0.893813 \n",
      "[22]\ttrain-rmse:0.853577 \n",
      "[23]\ttrain-rmse:0.819538 \n",
      "[24]\ttrain-rmse:0.789933 \n",
      "[25]\ttrain-rmse:0.765907 \n",
      "[26]\ttrain-rmse:0.745305 \n",
      "[27]\ttrain-rmse:0.728032 \n",
      "[28]\ttrain-rmse:0.713305 \n",
      "[29]\ttrain-rmse:0.700605 \n",
      "[30]\ttrain-rmse:0.689578 \n",
      "[31]\ttrain-rmse:0.680602 \n",
      "[32]\ttrain-rmse:0.673889 \n",
      "[33]\ttrain-rmse:0.667158 \n",
      "[34]\ttrain-rmse:0.662167 \n",
      "[35]\ttrain-rmse:0.656822 \n",
      "[36]\ttrain-rmse:0.652696 \n",
      "[37]\ttrain-rmse:0.649965 \n",
      "[38]\ttrain-rmse:0.646231 \n",
      "[39]\ttrain-rmse:0.643885 \n",
      "[40]\ttrain-rmse:0.642213 \n",
      "[41]\ttrain-rmse:0.639788 \n",
      "[42]\ttrain-rmse:0.638207 \n",
      "[43]\ttrain-rmse:0.636359 \n",
      "[44]\ttrain-rmse:0.635433 \n",
      "[45]\ttrain-rmse:0.633687 \n",
      "[46]\ttrain-rmse:0.631984 \n",
      "[47]\ttrain-rmse:0.630876 \n",
      "[48]\ttrain-rmse:0.629577 \n",
      "[49]\ttrain-rmse:0.628252 \n",
      "[50]\ttrain-rmse:0.626464 \n",
      "[51]\ttrain-rmse:0.625787 \n",
      "[52]\ttrain-rmse:0.624608 \n",
      "[53]\ttrain-rmse:0.622861 \n",
      "[54]\ttrain-rmse:0.621057 \n",
      "[55]\ttrain-rmse:0.620275 \n",
      "[56]\ttrain-rmse:0.619930 \n",
      "[57]\ttrain-rmse:0.619117 \n",
      "[58]\ttrain-rmse:0.618664 \n",
      "[59]\ttrain-rmse:0.617050 \n",
      "[60]\ttrain-rmse:0.615729 \n",
      "[61]\ttrain-rmse:0.614924 \n",
      "[62]\ttrain-rmse:0.614664 \n",
      "[63]\ttrain-rmse:0.613764 \n",
      "[64]\ttrain-rmse:0.612350 \n",
      "[65]\ttrain-rmse:0.611996 \n",
      "[66]\ttrain-rmse:0.610764 \n",
      "[67]\ttrain-rmse:0.610125 \n",
      "[68]\ttrain-rmse:0.609567 \n",
      "[69]\ttrain-rmse:0.609420 \n",
      "[70]\ttrain-rmse:0.608241 \n",
      "[71]\ttrain-rmse:0.607287 \n",
      "[72]\ttrain-rmse:0.605731 \n",
      "[73]\ttrain-rmse:0.605491 \n",
      "[74]\ttrain-rmse:0.604955 \n",
      "[75]\ttrain-rmse:0.604269 \n",
      "[76]\ttrain-rmse:0.604083 \n",
      "[77]\ttrain-rmse:0.603776 \n",
      "[78]\ttrain-rmse:0.603200 \n",
      "[79]\ttrain-rmse:0.602313 \n",
      "[80]\ttrain-rmse:0.601905 \n",
      "[81]\ttrain-rmse:0.601513 \n",
      "[82]\ttrain-rmse:0.601063 \n",
      "[83]\ttrain-rmse:0.600681 \n",
      "[84]\ttrain-rmse:0.599264 \n",
      "[85]\ttrain-rmse:0.598975 \n",
      "[86]\ttrain-rmse:0.597672 \n",
      "[87]\ttrain-rmse:0.597425 \n",
      "[88]\ttrain-rmse:0.597215 \n",
      "[89]\ttrain-rmse:0.596753 \n",
      "[90]\ttrain-rmse:0.595892 \n",
      "[91]\ttrain-rmse:0.595479 \n",
      "[92]\ttrain-rmse:0.594682 \n",
      "[93]\ttrain-rmse:0.594583 \n",
      "[94]\ttrain-rmse:0.594196 \n",
      "[95]\ttrain-rmse:0.593087 \n",
      "[96]\ttrain-rmse:0.592431 \n",
      "[97]\ttrain-rmse:0.591182 \n",
      "[98]\ttrain-rmse:0.590955 \n",
      "[99]\ttrain-rmse:0.590113 \n",
      "[100]\ttrain-rmse:0.589694 \n",
      "[101]\ttrain-rmse:0.589118 \n",
      "[102]\ttrain-rmse:0.588951 \n",
      "[103]\ttrain-rmse:0.588335 \n",
      "[104]\ttrain-rmse:0.587104 \n",
      "[105]\ttrain-rmse:0.586048 \n",
      "[106]\ttrain-rmse:0.585274 \n",
      "[107]\ttrain-rmse:0.585089 \n",
      "[108]\ttrain-rmse:0.584735 \n",
      "[109]\ttrain-rmse:0.584260 \n",
      "[110]\ttrain-rmse:0.583020 \n",
      "[111]\ttrain-rmse:0.582770 \n",
      "[112]\ttrain-rmse:0.582409 \n",
      "[113]\ttrain-rmse:0.581214 \n",
      "[114]\ttrain-rmse:0.580104 \n",
      "[115]\ttrain-rmse:0.579302 \n",
      "[116]\ttrain-rmse:0.578986 \n",
      "[117]\ttrain-rmse:0.578629 \n",
      "[118]\ttrain-rmse:0.578150 \n",
      "[119]\ttrain-rmse:0.577287 \n",
      "[120]\ttrain-rmse:0.576840 \n",
      "[121]\ttrain-rmse:0.575879 \n",
      "[122]\ttrain-rmse:0.575096 \n",
      "[123]\ttrain-rmse:0.574278 \n",
      "[124]\ttrain-rmse:0.574018 \n",
      "[125]\ttrain-rmse:0.573832 \n",
      "[126]\ttrain-rmse:0.573242 \n",
      "[127]\ttrain-rmse:0.573129 \n",
      "[128]\ttrain-rmse:0.572237 \n",
      "[129]\ttrain-rmse:0.572024 \n",
      "[130]\ttrain-rmse:0.571026 \n",
      "[131]\ttrain-rmse:0.570900 \n",
      "[132]\ttrain-rmse:0.569891 \n",
      "[133]\ttrain-rmse:0.569727 \n",
      "[134]\ttrain-rmse:0.569374 \n",
      "[135]\ttrain-rmse:0.569154 \n",
      "[136]\ttrain-rmse:0.568508 \n",
      "[137]\ttrain-rmse:0.567789 \n",
      "[138]\ttrain-rmse:0.567008 \n",
      "[139]\ttrain-rmse:0.566438 \n",
      "[140]\ttrain-rmse:0.565390 \n",
      "[141]\ttrain-rmse:0.565282 \n",
      "[142]\ttrain-rmse:0.564902 \n",
      "[143]\ttrain-rmse:0.564377 \n",
      "[144]\ttrain-rmse:0.564103 \n",
      "[145]\ttrain-rmse:0.563682 \n",
      "[146]\ttrain-rmse:0.562946 \n",
      "[147]\ttrain-rmse:0.561773 \n",
      "[148]\ttrain-rmse:0.561625 \n",
      "[149]\ttrain-rmse:0.561559 \n",
      "[150]\ttrain-rmse:0.561409 \n",
      "[151]\ttrain-rmse:0.561314 \n",
      "[152]\ttrain-rmse:0.560570 \n",
      "[153]\ttrain-rmse:0.559986 \n",
      "[154]\ttrain-rmse:0.558879 \n",
      "[155]\ttrain-rmse:0.557963 \n",
      "[156]\ttrain-rmse:0.557606 \n",
      "[157]\ttrain-rmse:0.556526 \n",
      "[158]\ttrain-rmse:0.556093 \n",
      "[159]\ttrain-rmse:0.555297 \n",
      "[160]\ttrain-rmse:0.555185 \n",
      "[161]\ttrain-rmse:0.554551 \n",
      "[162]\ttrain-rmse:0.553445 \n",
      "[163]\ttrain-rmse:0.553136 \n",
      "[164]\ttrain-rmse:0.552646 \n",
      "[165]\ttrain-rmse:0.552017 \n",
      "[166]\ttrain-rmse:0.551193 \n",
      "[167]\ttrain-rmse:0.550796 \n",
      "[168]\ttrain-rmse:0.550020 \n",
      "[169]\ttrain-rmse:0.549743 \n",
      "[170]\ttrain-rmse:0.548705 \n",
      "[171]\ttrain-rmse:0.547989 \n",
      "[172]\ttrain-rmse:0.547784 \n",
      "[173]\ttrain-rmse:0.547583 \n",
      "[174]\ttrain-rmse:0.547049 \n",
      "[175]\ttrain-rmse:0.546766 \n",
      "[176]\ttrain-rmse:0.545813 \n",
      "[177]\ttrain-rmse:0.544751 \n",
      "[178]\ttrain-rmse:0.544408 \n",
      "[179]\ttrain-rmse:0.543763 \n",
      "[180]\ttrain-rmse:0.543455 \n",
      "[181]\ttrain-rmse:0.543291 \n",
      "[182]\ttrain-rmse:0.542751 \n",
      "[183]\ttrain-rmse:0.542595 \n",
      "[184]\ttrain-rmse:0.541951 \n",
      "[185]\ttrain-rmse:0.541239 \n",
      "[186]\ttrain-rmse:0.540492 \n",
      "[187]\ttrain-rmse:0.540067 \n",
      "[188]\ttrain-rmse:0.539490 \n",
      "[189]\ttrain-rmse:0.538491 \n",
      "[190]\ttrain-rmse:0.538338 \n",
      "[191]\ttrain-rmse:0.537615 \n",
      "[192]\ttrain-rmse:0.537296 \n",
      "[193]\ttrain-rmse:0.536589 \n",
      "[194]\ttrain-rmse:0.535749 \n",
      "[195]\ttrain-rmse:0.535259 \n",
      "[196]\ttrain-rmse:0.535130 \n",
      "[197]\ttrain-rmse:0.534933 \n",
      "[198]\ttrain-rmse:0.534368 \n",
      "[199]\ttrain-rmse:0.533999 \n",
      "[200]\ttrain-rmse:0.533103 \n",
      "[201]\ttrain-rmse:0.532106 \n",
      "[202]\ttrain-rmse:0.531624 \n",
      "[203]\ttrain-rmse:0.531308 \n",
      "[204]\ttrain-rmse:0.531241 \n",
      "[205]\ttrain-rmse:0.531130 \n",
      "[206]\ttrain-rmse:0.530510 \n",
      "[207]\ttrain-rmse:0.529960 \n",
      "[208]\ttrain-rmse:0.529754 \n",
      "[209]\ttrain-rmse:0.529579 \n",
      "[210]\ttrain-rmse:0.529514 \n",
      "[211]\ttrain-rmse:0.528774 \n",
      "[212]\ttrain-rmse:0.528376 \n",
      "[213]\ttrain-rmse:0.527730 \n",
      "[214]\ttrain-rmse:0.527137 \n",
      "[215]\ttrain-rmse:0.526046 \n",
      "[216]\ttrain-rmse:0.525533 \n",
      "[217]\ttrain-rmse:0.525150 \n",
      "[218]\ttrain-rmse:0.524930 \n",
      "[219]\ttrain-rmse:0.524127 \n",
      "[220]\ttrain-rmse:0.524074 \n",
      "[221]\ttrain-rmse:0.523955 \n",
      "[222]\ttrain-rmse:0.523741 \n",
      "[223]\ttrain-rmse:0.523225 \n",
      "[224]\ttrain-rmse:0.522951 \n",
      "[225]\ttrain-rmse:0.522350 \n",
      "[226]\ttrain-rmse:0.521800 \n",
      "[227]\ttrain-rmse:0.520942 \n",
      "[228]\ttrain-rmse:0.520454 \n",
      "[229]\ttrain-rmse:0.520257 \n",
      "[230]\ttrain-rmse:0.519757 \n",
      "[231]\ttrain-rmse:0.519470 \n",
      "[232]\ttrain-rmse:0.518922 \n",
      "[233]\ttrain-rmse:0.518557 \n",
      "[234]\ttrain-rmse:0.518245 \n",
      "[235]\ttrain-rmse:0.517376 \n",
      "[236]\ttrain-rmse:0.516638 \n",
      "[237]\ttrain-rmse:0.515993 \n",
      "[238]\ttrain-rmse:0.515490 \n",
      "[239]\ttrain-rmse:0.514913 \n",
      "[240]\ttrain-rmse:0.514359 \n",
      "[241]\ttrain-rmse:0.514150 \n",
      "[242]\ttrain-rmse:0.513878 \n",
      "[243]\ttrain-rmse:0.513415 \n",
      "[244]\ttrain-rmse:0.512822 \n",
      "[245]\ttrain-rmse:0.512150 \n",
      "[246]\ttrain-rmse:0.511447 \n",
      "[247]\ttrain-rmse:0.510921 \n",
      "[248]\ttrain-rmse:0.510605 \n",
      "[249]\ttrain-rmse:0.510555 \n",
      "[250]\ttrain-rmse:0.510210 \n",
      "[251]\ttrain-rmse:0.509645 \n",
      "[252]\ttrain-rmse:0.508918 \n",
      "[253]\ttrain-rmse:0.508388 \n",
      "[254]\ttrain-rmse:0.508002 \n",
      "[255]\ttrain-rmse:0.507757 \n",
      "[256]\ttrain-rmse:0.507716 \n",
      "[257]\ttrain-rmse:0.507078 \n",
      "[258]\ttrain-rmse:0.506566 \n",
      "[259]\ttrain-rmse:0.506089 \n",
      "[260]\ttrain-rmse:0.505925 \n",
      "[261]\ttrain-rmse:0.505747 \n",
      "[262]\ttrain-rmse:0.505115 \n",
      "[263]\ttrain-rmse:0.504735 \n",
      "[264]\ttrain-rmse:0.504243 \n",
      "[265]\ttrain-rmse:0.503678 \n",
      "[266]\ttrain-rmse:0.503139 \n",
      "[267]\ttrain-rmse:0.502633 \n",
      "[268]\ttrain-rmse:0.502221 \n",
      "[269]\ttrain-rmse:0.501496 \n",
      "[270]\ttrain-rmse:0.500625 \n",
      "[271]\ttrain-rmse:0.500249 \n",
      "[272]\ttrain-rmse:0.499504 \n",
      "[273]\ttrain-rmse:0.499045 \n",
      "[274]\ttrain-rmse:0.498781 \n",
      "[275]\ttrain-rmse:0.498225 \n",
      "[276]\ttrain-rmse:0.497779 \n",
      "[277]\ttrain-rmse:0.496984 \n",
      "[278]\ttrain-rmse:0.496139 \n",
      "[279]\ttrain-rmse:0.495650 \n",
      "[280]\ttrain-rmse:0.495587 \n",
      "[281]\ttrain-rmse:0.495359 \n",
      "[282]\ttrain-rmse:0.495177 \n",
      "[283]\ttrain-rmse:0.494933 \n",
      "[284]\ttrain-rmse:0.494695 \n",
      "[285]\ttrain-rmse:0.494181 \n",
      "[286]\ttrain-rmse:0.493640 \n",
      "[287]\ttrain-rmse:0.493270 \n",
      "[288]\ttrain-rmse:0.492525 \n",
      "[289]\ttrain-rmse:0.492458 \n",
      "[290]\ttrain-rmse:0.491785 \n",
      "[291]\ttrain-rmse:0.490967 \n",
      "[292]\ttrain-rmse:0.490554 \n",
      "[293]\ttrain-rmse:0.490393 \n",
      "[294]\ttrain-rmse:0.489771 \n",
      "[295]\ttrain-rmse:0.489406 \n",
      "[296]\ttrain-rmse:0.488940 \n",
      "[297]\ttrain-rmse:0.488612 \n",
      "[298]\ttrain-rmse:0.488377 \n",
      "[299]\ttrain-rmse:0.487872 \n",
      "[300]\ttrain-rmse:0.487732 \n"
     ]
    }
   ],
   "source": [
    "test_df <- data4_1 #wine\n",
    "set.seed(10)\n",
    "\n",
    "wine_xgb <- model.matrix(quality ~., data=test_df)\n",
    "label_wgb <- test_df$quality\n",
    "\n",
    "hyperparam <- list(max_depth = 4, eta =0.1)\n",
    "\n",
    "model <- xgboost(data=wine_xgb[train, ],\n",
    "                label =label_wgb[train],\n",
    "                param = hyperparam,\n",
    "                nrounds =300)\n",
    "\n",
    "\n",
    "pred <- predict(model, wine_xgb[-train,])\n",
    "real <- test_df$quality[-train]\n",
    "\n",
    "# Root Mean Square Error; RMSE"
   ]
  },
  {
   "cell_type": "code",
   "execution_count": 16,
   "metadata": {},
   "outputs": [
    {
     "name": "stdout",
     "output_type": "stream",
     "text": [
      "[1] 1223.215\n"
     ]
    }
   ],
   "source": [
    "print(mean((real*pred)^2))\n"
   ]
  },
  {
   "cell_type": "markdown",
   "metadata": {},
   "source": [
    "__5회 수업 정리__  \n",
    "\n",
    "1. 머신러닝 기초(벡터, 행렬, 도함수)\n",
    "2. Regression (Gradient)\n",
    "3. Classification (MLE, MAP, Sigmoid)\n",
    "4. Overfitting (VC, Cross-validation, R(h), Shrinkage:Lasso/Ridge)\n",
    "5. Decision Tree(CART, Bagging/Boosting)  \n",
    "  \n",
    "  \n",
    "6. 실습    \n",
    "    모델 하나씩 트레이닝 하는 것\n",
    "    약간 다름파라미터, 하나하나 명시해줘야함\n",
    "    요즘 나온 라이브러리는 자동으로 cross-validation을 해줌\n",
    "\n",
    "__+ 2기 수업은 Cnn rnn vae gan까지 포함__\n"
   ]
  }
 ],
 "metadata": {
  "celltoolbar": "Slideshow",
  "kernelspec": {
   "display_name": "R",
   "language": "R",
   "name": "ir"
  },
  "language_info": {
   "codemirror_mode": "r",
   "file_extension": ".r",
   "mimetype": "text/x-r-source",
   "name": "R",
   "pygments_lexer": "r",
   "version": "3.5.1"
  }
 },
 "nbformat": 4,
 "nbformat_minor": 2
}
