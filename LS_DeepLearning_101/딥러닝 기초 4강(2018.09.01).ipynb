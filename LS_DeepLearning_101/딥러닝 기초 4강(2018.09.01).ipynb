{
 "cells": [
  {
   "cell_type": "markdown",
   "metadata": {},
   "source": [
    "# 러닝 기초 4강(2018.09.01)\n",
    "***    \n",
    "\n",
    "* __강의 목표__: Overfitting에 대한 이해\n",
    "\n",
    "* __이론__: VC 이론, cross-validation, model selection, 복잡도, Shrinkage\n",
    "\n",
    "* __실습__: \n",
    "> - LASSO: sparsity, 파라미터 크기  \n",
    " - Ridge: 파라미터 크기  \n",
    " - Elastic net(glmnetUtils): 함수의 복잡도 설명  \n",
    " - Hyperparameter 튜닝 방법, lambda  \n"
   ]
  },
  {
   "cell_type": "markdown",
   "metadata": {},
   "source": [
    "# 4강 Overfitting 관련 질문  \n",
    "\n",
    "__Q1. feature selection과 lasso/ridge와의 관계__\n",
    "> \n",
    "> 학습 공식: traingingLoss(h) + A * R(h)    \n",
    "  공식 해석: R(h) < B, 특정 조건 만족하는 상황에서 training Loss를 최소화하자  \n",
    "\n",
    "> Feature Selection : L0 Norm = 벡터 워소 중 0이 아닌 것의 개수, 적은 수의 파라미터만 0이 아닌 값을 갖도록  \n",
    "> Lasso : L1 Norm, 전체적인 파라미터 벡트 크기 작아지도록  \n",
    "> Ridge : L2 Norm, \n",
    "\n",
    "--- \n",
    "\n",
    "__Q1-2 L0 Norm은 소수의 파라미터만 0이 아닌 값을 가지게 된다고 답 주셨는데, 그건 Lasso의 sparsity 특성 아닌가요?  \n",
    "L0/L1을 함꼐 이해하려니 혼란스러워요__    \n",
    "\n",
    ">    \n",
    "\n",
    "---\n",
    "\n",
    "__Q2. wine 데이터에서 model_all이랑 model_type의 파라미터 값이 왜 같은지 정확히 이해가 안가요\n",
    "그래서 tree에서 mtry를 고르는게 좀 헷갈린 거 같기도 하고__\n",
    "\n",
    "> 제가 질문 자체를 잘못한 것 같아요. 모든 변수를 고려했을 때가 model_all/ 특정 변수만 고려한게 model_type이고   \n",
    "고려하는 변수가 다르니 결과도 다르다는 것 같아요 \n",
    "  \n",
    "<img src=\"./wine_capture.PNG\" width=\"400\">\n",
    "  \n",
    "> 쌤 답변: type 변수의 부호가 다른데 이건 해석할 문제가 있을 가능성이 크다는 것.   \n",
    "modell_all에서는 화이트와인의 질이 낮다는 결론,   \n",
    "model_type은 화이트와인의 질이 좋다는 결론이 나왔으니까  \n",
    "\n",
    "__Q3. glmnetUnits(generalized linear model)는 lasso/ridge를 적당히 섞은 건가요?__\n",
    "> Yes, L1/L2 norm을 모두 사용하는 형태의 regularization임  \n",
    "> alpha(가중치) 가 1이면 lasso에 가깝고, 0이면 ridge에 가까움   \n",
    "> lambda(제약화의 세기) 도 하이퍼 파라미터임  \n",
    "\n",
    "__Q4. validation set approach 안에 kfold와 loo cv 가 있는건가요?   \n",
    "    아니면 validation set approach는 validation 한번만 한거고 여러번 한것이 cross validation)인건가요? __  \n",
    "    \n",
    ">\n",
    "   \n",
    "   \n"
   ]
  },
  {
   "cell_type": "markdown",
   "metadata": {},
   "source": [
    "A1. 학습이라는게 사실 이런거였죠? 'Training_Loss(h) + (어떤 숫자 A) * R(h)를 최소화하라' 근데 사실 저런 문제를 'R(h) < (어떤 숫자 B)를 만족하면서, Training_Loss(h)를 최소화하라' 이렇게도 쓸 수 있어요. (어떤 숫자 A에 대응되는 어떤 숫자 B가 항상 존재하구요.) 그래서 저 두 최적화 문제는 사실 같은 문제의 서로 다른 두 가지 표현이기 때문에 서로를 Lagrange Dual 관계라고 얘기해요. 수업에서는 전자의 형태로 설명했지만 사실 정성적으로 이해하기에는 후자의 형태가 좀 더 편하죠. R(h)를 L1 norm으로 설정하면 LASSO, L2 norm으로 설정하면 Ridge였죠? L0 norm인 경우가 Feature Selection이라는건데, 왜 그러냐면 L0 norm가 단순히 벡터의 원소 중 0이 아닌 것의 개수이기 때문이에요. 가령 (1,2,3,1,0,0,-1)같은 벡터의 L0 norm은 5라는거죠. 우리가 다루는게 parametric model이니 R(h)를 L0 norm으로 설정하면 파라미터 중 0이 아닌 것의 개수이고, 결국에 학습은 '(파라미터 중 0이 아닌 것의 개수) < (어떤 숫자 B)를 만족하면서, Training_Loss(h)를 최소화하라'가 되겠죠. 가령 (어떤 숫자 B)를 3이라고 한다면, 파라미터 중 0이 아닐 수 있는건 많아봐야 2개겠죠. 선형 회귀의 경우에는 변수 2개만을 선택하는 상황이 될거구요. L0 norm을 사용하는게 적은 수의 파라미터만 0이 아닌 값을 갖도록 강제하는거라면, L1 norm을 사용하는건 전체적인 파라미터 벡터의 크기가 작아지기를 바라는거에요. 그런데 사실상 람다(어떤 숫자 A)를 크게 하면 할수록 학습된 파라미터들은 소수만 0이 아닌 값을 가지게 되고, 결국엔 Feature Selection이 되는것과 비슷한 효과를 준다는겁니다!\n",
    "\n",
    "A2. 파라미터의 값이 같다는게 정확히 무슨 말인지 잘 모르겠네요. 파라미터의 값이 다르지 않나요? 그것보다 type 변수에 해당하는 파라미터들의 부호가 달라지는데, 그건 해석할 때 문제가 있을 수 있다는거죠. 왜냐면 model_all에서는 화이트와인의 질이 낮다는 결론을 얻고, model_type에서는 반대의 결론이 나오니까요. 이런건 다중공선성 때문에 발생하는 문제인데 다중공선성을 보이는 변수를 빼 주거나 (VIF라는 통계량을 확인합니다.) Ridge regularization을 사용하면 어느 정도 해소가 되기도 합니다. (질문을 제대로 이해했는지 모르겠네요.)\n",
    "\n",
    "A3. R1(w)을 L1 norm, R2(w)를 L2 norm이라고 하면 elastic net은 'Training_Loss(h) + lambda * (alpha * R1(w) + (1-alpha) * R2(w))를 최소화하라'가 됩니다. alpha가 1이면 LASSO, 0이면 ridge인데, 0과 1 사이의 값을 사용하면 L1, L2 norm을 모두 사용하는 형태의 Regularizaiton이 되겠죠. 따라서 L1와 L2 간 가중치를 조절해주는 alpha, 제약화의 세기를 조절해주는 lambda가 하이퍼파라미터가 됩니다.\n",
    "\n",
    "A4. 제가 수업에서 설명한 알고리즘은 Decision Tree 중 CART입니다. CART는 회귀, 분류 문제를 푸는데 모두 사용할 수 있는데, 저는 회귀 문제를 푸는 경우에 대해 설명했습니다. 분류 문제는 아주 조금 더 까다로워질 수 있는데, 연습문제 삼아서 한번 해 보시는걸 추천드려요. 아마 교재들에서는 \"불순도를 최소화하도록 split한다\"라고 써 있을텐데, 이렇게 생각하시는 것 보다 Logistic Regression에서 했던것처럼 \"logloss를 최소화한다\"라고 생각해보시고 이게 곧 \"불순도를 최소화한다\"와 같은 말이라는걸 유도해보시면 좋을 것 같네요.\n",
    "\n",
    "A5. 앙상블은 모델 여러개를 합치는 기법들을 모두 그렇게 부릅니다. bagging과 boosting은 앙상블 기법의 일종이구요. (이외에 stacking이라는 기법도 존재합니다.) 랜덤포레스트는 decision tree로 구성된 bagging의 특별한 경우라고 보시면 될 것 같아요.\n",
    "\n",
    "A6. bagging과 boosting은 다 \"나무1 + 나무2 + ... + 나무B\" 이렇게 생겼습니다. 그런데 나무를 어떻게 만들어 나가느냐의 차이죠. bagging은 '샘플링 -> 나무1', '샘플링 -> 나무2', ... 이렇게 만들어 나간다면 boosting은 '나무1 -> 나무2 -> ...' 이런 식으로 만들어집니다.\n",
    "\n",
    "A7. 랜덤 포레스트나 bagging이 그렇습니다. 나무의 개수를 정해주지 않아도 된다기 보다는, 일정 갯수 이상의 나무를 사용하면 성능이 나빠지지도 좋아지지도 않기 때문에 주의깊게 튜닝해줄 필요가 없다는 의미입니다.\n",
    "\n",
    "A8. mtry는 랜덤 포레스트를 구성하는 개별적인 나무들이 자라 나갈 때, 그냥 자라는게 아니라 랜덤하게 자라도록 제어해주는 역할을 했었죠. (가지를 한번 나눌 때, 모든 input을 고려하지 않고 랜덤추출한 특정한 input만 고려)"
   ]
  },
  {
   "cell_type": "code",
   "execution_count": 18,
   "metadata": {},
   "outputs": [],
   "source": [
    "#기본 옵션dd\n",
    "options(repr.plot.width=4, repr.plot.height=3)\n",
    "options(scipen=999)"
   ]
  },
  {
   "cell_type": "markdown",
   "metadata": {},
   "source": [
    "***\n",
    "\n",
    "__요약__     \n",
    " \n",
    "1. 과적합의 정의\n",
    "> 모델이 과도하게 학습이 되어, 크게 의미 없는 함수가 나오는 현상\n",
    "  수식:  Ê(ĥ) < E(ĥ), E(ĥ)> Ê(h)\n",
    "  설명: training error(선택된 함수) < training error(전체 함수), \n",
    "      일반화 오류(train set 함수) < 일반화 오류(전체 함수)\n",
    "        \n",
    "2. 머신러닝의 목적  \n",
    "> 예측이 목적, but 통계는 어떤 방향으로 학습(learning)하는지를 알 수 있음  \n",
    " vc 이론을 통해 어디까지 학습해야하는지 알 수 있음\n",
    " \n",
    "3. VC Inequality theory \n",
    "> Ê(ĥ) < E(ĥ) < Ê(ĥ) + bound  \n",
    " 구할 수있는 값, training error<Ê(ĥ)> 로 구할 수 없는 generalization error<E(ĥ)> 추측\n",
    "\n",
    ">  목적: 모든 data가 아닌 training set에 대한 예측 오차를 가장 작게 하는 함수를 찾자\n",
    " ex) \" 나의 키 < 100대 조상의 키 < 나의 키 + 10cm \" 일 것이다.\n",
    "     \n",
    "4. model assesment \n",
    "> 기본 구조 (train > validation > test set)\n",
    "\n",
    "5. validation set을 사용하는 이유\n",
    "> 모델의 성능 평가 /모델의 성능 상승\n",
    "  validation accuracy가 낮으면 overfitting 가능성 높음\n",
    "\n",
    "6. validation 나누는 기준  \n",
    "> validation set approach  \n",
    "> K-fold cv (cross validation)  \n",
    "  LOO CV (leave one out cross-validation)  \n",
    "  \n",
    "7. 함수의 복잡도  \n",
    "> R(h), 함수의 크기, 파라미터의 크기  \n",
    "\n",
    "8. feature selection \n",
    "> Q. feature selection이 정확히 뭔지 모르겠어요. '특징을 선택하고, 원본 데이터의 불필요한 특징 제거'로 이해해서 shrinkage랑 비슷한거 같기도 하고   \n",
    "\n",
    "    > ||w||0: feature selection    \n",
    "\n",
    "    > ||w||1: LASSO regularization (Least Absolute Shrinkage and Selection) \n",
    "       ~ feature selection 기능 있음, sparcity\n",
    "       λ가 빠르게 일부 데이터가 변함\n",
    "\n",
    "    > ||w||2: Ridge regularization (산등성이)\n",
    "       λ가 천천히 모든 데이터가 변함\n",
    " \n",
    "9. error와 복잡도를 고려하는 함수  \n",
    "> argmin { a * Ê(h) + λ * R(h)}  \n",
    "> 'error + 복잡도' 최소화  \n",
    "> 모델 선택 = 함수 선택 = λ 선택 = hyper parameter 튜닝  \n"
   ]
  },
  {
   "cell_type": "markdown",
   "metadata": {},
   "source": [
    "# 1. sparcity가 있는 데이터  불러오기"
   ]
  },
  {
   "cell_type": "code",
   "execution_count": 19,
   "metadata": {},
   "outputs": [
    {
     "data": {
      "text/html": [
       "<ol class=list-inline>\n",
       "\t<li>10</li>\n",
       "\t<li>2</li>\n",
       "</ol>\n"
      ],
      "text/latex": [
       "\\begin{enumerate*}\n",
       "\\item 10\n",
       "\\item 2\n",
       "\\end{enumerate*}\n"
      ],
      "text/markdown": [
       "1. 10\n",
       "2. 2\n",
       "\n",
       "\n"
      ],
      "text/plain": [
       "[1] 10  2"
      ]
     },
     "metadata": {},
     "output_type": "display_data"
    },
    {
     "name": "stdout",
     "output_type": "stream",
     "text": [
      "'data.frame':\t10 obs. of  2 variables:\n",
      " $ input : num  1.236 1.321 1.681 0.201 -1.328 ...\n",
      " $ output: num  1.019 0.88 0.924 0.192 -1.071 ...\n"
     ]
    },
    {
     "data": {
      "text/plain": [
       "     input              output         \n",
       " Min.   :-1.32752   Min.   :-1.071428  \n",
       " 1st Qu.: 0.07292   1st Qu.:-0.003459  \n",
       " Median : 1.13277   Median : 0.828508  \n",
       " Mean   : 0.67780   Mean   : 0.367047  \n",
       " 3rd Qu.: 1.35469   3rd Qu.: 0.898154  \n",
       " Max.   : 2.12212   Max.   : 1.018728  "
      ]
     },
     "metadata": {},
     "output_type": "display_data"
    },
    {
     "data": {
      "text/html": [
       "<table>\n",
       "<thead><tr><th scope=col>input</th><th scope=col>output</th></tr></thead>\n",
       "<tbody>\n",
       "\t<tr><td> 1.23614288</td><td> 1.01872766</td></tr>\n",
       "\t<tr><td> 1.32125747</td><td> 0.87973679</td></tr>\n",
       "\t<tr><td> 1.68123559</td><td> 0.92391037</td></tr>\n",
       "\t<tr><td> 0.20090028</td><td> 0.19218711</td></tr>\n",
       "\t<tr><td>-1.32752445</td><td>-1.07142803</td></tr>\n",
       "\t<tr><td> 2.12212153</td><td> 0.81891040</td></tr>\n",
       "\t<tr><td> 0.03025799</td><td>-0.06867429</td></tr>\n",
       "\t<tr><td> 1.36583766</td><td> 0.90429301</td></tr>\n",
       "\t<tr><td>-0.88166006</td><td>-0.76530006</td></tr>\n",
       "\t<tr><td> 1.02938745</td><td> 0.83810628</td></tr>\n",
       "</tbody>\n",
       "</table>\n"
      ],
      "text/latex": [
       "\\begin{tabular}{r|ll}\n",
       " input & output\\\\\n",
       "\\hline\n",
       "\t  1.23614288 &  1.01872766\\\\\n",
       "\t  1.32125747 &  0.87973679\\\\\n",
       "\t  1.68123559 &  0.92391037\\\\\n",
       "\t  0.20090028 &  0.19218711\\\\\n",
       "\t -1.32752445 & -1.07142803\\\\\n",
       "\t  2.12212153 &  0.81891040\\\\\n",
       "\t  0.03025799 & -0.06867429\\\\\n",
       "\t  1.36583766 &  0.90429301\\\\\n",
       "\t -0.88166006 & -0.76530006\\\\\n",
       "\t  1.02938745 &  0.83810628\\\\\n",
       "\\end{tabular}\n"
      ],
      "text/markdown": [
       "\n",
       "input | output | \n",
       "|---|---|---|---|---|---|---|---|---|---|\n",
       "|  1.23614288 |  1.01872766 | \n",
       "|  1.32125747 |  0.87973679 | \n",
       "|  1.68123559 |  0.92391037 | \n",
       "|  0.20090028 |  0.19218711 | \n",
       "| -1.32752445 | -1.07142803 | \n",
       "|  2.12212153 |  0.81891040 | \n",
       "|  0.03025799 | -0.06867429 | \n",
       "|  1.36583766 |  0.90429301 | \n",
       "| -0.88166006 | -0.76530006 | \n",
       "|  1.02938745 |  0.83810628 | \n",
       "\n",
       "\n"
      ],
      "text/plain": [
       "   input       output     \n",
       "1   1.23614288  1.01872766\n",
       "2   1.32125747  0.87973679\n",
       "3   1.68123559  0.92391037\n",
       "4   0.20090028  0.19218711\n",
       "5  -1.32752445 -1.07142803\n",
       "6   2.12212153  0.81891040\n",
       "7   0.03025799 -0.06867429\n",
       "8   1.36583766  0.90429301\n",
       "9  -0.88166006 -0.76530006\n",
       "10  1.02938745  0.83810628"
      ]
     },
     "metadata": {},
     "output_type": "display_data"
    }
   ],
   "source": [
    "# 데이터 불러오기\n",
    "# sparcity가 있도록 만든 데이터임!\n",
    "data4_2 <- read.csv(\"data4_2.csv\", header = TRUE) #한글 깨지지 않으려면 encoding=\"utf-8\" 하면됨\n",
    "\n",
    "dim(data4_2)\n",
    "str(data4_2)\n",
    "summary(data4_2)\n",
    "\n",
    "data4_2"
   ]
  },
  {
   "cell_type": "markdown",
   "metadata": {},
   "source": [
    "# 2. Linear model 함수 적용"
   ]
  },
  {
   "cell_type": "code",
   "execution_count": 20,
   "metadata": {},
   "outputs": [
    {
     "data": {
      "text/plain": [
       "\n",
       "Call:\n",
       "lm(formula = output ~ input, data = test_df)\n",
       "\n",
       "Residuals:\n",
       "     Min       1Q   Median       3Q      Max \n",
       "-0.48334 -0.11517  0.03765  0.12446  0.29015 \n",
       "\n",
       "Coefficients:\n",
       "            Estimate Std. Error t value  Pr(>|t|)    \n",
       "(Intercept) -0.07183    0.08931  -0.804     0.445    \n",
       "input        0.64750    0.07037   9.202 0.0000157 ***\n",
       "---\n",
       "Signif. codes:  0 '***' 0.001 '**' 0.01 '*' 0.05 '.' 0.1 ' ' 1\n",
       "\n",
       "Residual standard error: 0.2388 on 8 degrees of freedom\n",
       "Multiple R-squared:  0.9137,\tAdjusted R-squared:  0.9029 \n",
       "F-statistic: 84.67 on 1 and 8 DF,  p-value: 0.00001574\n"
      ]
     },
     "metadata": {},
     "output_type": "display_data"
    },
    {
     "data": {
      "image/png": "[encoded data removed]",
      "text/plain": [
       "plot without title"
      ]
     },
     "metadata": {},
     "output_type": "display_data"
    }
   ],
   "source": [
    "# Linear model 함수 적용\n",
    "test_df <- data4_2\n",
    "\n",
    "model <- lm(formula=output ~ input, data=test_df)\n",
    "summary(model)\n",
    "\n",
    "plot(test_df$input, test_df$output, pch=19, cex=1)\n",
    "abline(model, lwd = 0.5, col=\"red\")"
   ]
  },
  {
   "cell_type": "markdown",
   "metadata": {},
   "source": [
    "# 3. k-fold (k등분)\n"
   ]
  },
  {
   "cell_type": "code",
   "execution_count": 21,
   "metadata": {},
   "outputs": [
    {
     "name": "stdout",
     "output_type": "stream",
     "text": [
      "예측:  0.6614561 -0.8129404 0.7360451 \n",
      "실제:  1.018728 -1.071428 0.904293 \n",
      "<오류>:  0.07425539 \n"
     ]
    }
   ],
   "source": [
    "# k 등분해서 진행하기  \n",
    "test_df <- data4_2\n",
    "\n",
    "model <- lm(formula=output ~ input, data=test_df[-c(1,5,8),])\n",
    "\n",
    "#10 개 중 3개 추출\n",
    "pred <- predict(model, test_df[c(1,5,8), ])\n",
    "real <- test_df$output[c(1,5,8)]\n",
    "validation_error <- mean( (real-pred)^2 )\n",
    "\n",
    "cat(\"예측: \" , pred, \"\\n\")\n",
    "cat(\"실제: \" , real, \"\\n\")\n",
    "cat(\"<오류>: \" , validation_error, \"\\n\")"
   ]
  },
  {
   "cell_type": "markdown",
   "metadata": {},
   "source": [
    "# 4. LOO Cross Valiation (leave one out cross-validation)"
   ]
  },
  {
   "cell_type": "code",
   "execution_count": 22,
   "metadata": {},
   "outputs": [
    {
     "name": "stdout",
     "output_type": "stream",
     "text": [
      "\n",
      "< 1 >차 함수 시작합니다.\n",
      "< 2 >차 함수 시작합니다.\n",
      "< 3 >차 함수 시작합니다.\n",
      "< 4 >차 함수 시작합니다.\n",
      "< 5 >차 함수 시작합니다.\n",
      "< 6 >차 함수 시작합니다.\n",
      "< 7 >차 함수 시작합니다."
     ]
    }
   ],
   "source": [
    "test_df <- data4_2\n",
    "total_basket <- data.frame(matrix(ncol = 4, nrow = 0)) # (6*0)표 만들고\n",
    "colnames(total_basket) <- c(\"k차함수\",\"i번째 학습\", \"error\", \"error_ratio\") # header 만들고\n",
    "\n",
    "for (k in 1:7){\n",
    "    cat(\"\\n<\", k, \">차 함수 시작합니다.\")\n",
    "    validation_error <- 0\n",
    "    \n",
    "    for (i in 1:10){\n",
    "        model <- lm(output ~ poly(input, k), data=test_df[-i,])\n",
    "        pred <- predict(model, test_df[i, ])\n",
    "        real <- test_df$output[i]\n",
    "        validation_error <-  + mean( (real-pred)^2 )\n",
    "        validation_error_ratio <- validation_error/10\n",
    "    }\n",
    "    total_basket[nrow(total_basket) + 1,] = list(k, i, validation_error, validation_error_ratio)\n",
    "}\n"
   ]
  },
  {
   "cell_type": "code",
   "execution_count": 23,
   "metadata": {},
   "outputs": [
    {
     "data": {
      "text/html": [
       "<table>\n",
       "<thead><tr><th scope=col>k차함수</th><th scope=col>i번째 학습</th><th scope=col>error</th><th scope=col>error_ratio</th></tr></thead>\n",
       "<tbody>\n",
       "\t<tr><td>1           </td><td>10          </td><td>0.074918972 </td><td>0.0074918972</td></tr>\n",
       "\t<tr><td>2           </td><td>10          </td><td>0.016616469 </td><td>0.0016616469</td></tr>\n",
       "\t<tr><td>3           </td><td>10          </td><td>0.001370623 </td><td>0.0001370623</td></tr>\n",
       "\t<tr><td>4           </td><td>10          </td><td>0.001478596 </td><td>0.0001478596</td></tr>\n",
       "\t<tr><td>5           </td><td>10          </td><td>0.002006433 </td><td>0.0002006433</td></tr>\n",
       "\t<tr><td>6           </td><td>10          </td><td>0.015196429 </td><td>0.0015196429</td></tr>\n",
       "\t<tr><td>7           </td><td>10          </td><td>0.136079451 </td><td>0.0136079451</td></tr>\n",
       "</tbody>\n",
       "</table>\n"
      ],
      "text/latex": [
       "\\begin{tabular}{r|llll}\n",
       " k차함수 & i번째 학습 & error & error\\_ratio\\\\\n",
       "\\hline\n",
       "\t 1            & 10           & 0.074918972  & 0.0074918972\\\\\n",
       "\t 2            & 10           & 0.016616469  & 0.0016616469\\\\\n",
       "\t 3            & 10           & 0.001370623  & 0.0001370623\\\\\n",
       "\t 4            & 10           & 0.001478596  & 0.0001478596\\\\\n",
       "\t 5            & 10           & 0.002006433  & 0.0002006433\\\\\n",
       "\t 6            & 10           & 0.015196429  & 0.0015196429\\\\\n",
       "\t 7            & 10           & 0.136079451  & 0.0136079451\\\\\n",
       "\\end{tabular}\n"
      ],
      "text/markdown": [
       "\n",
       "k차함수 | i번째 학습 | error | error_ratio | \n",
       "|---|---|---|---|---|---|---|\n",
       "| 1            | 10           | 0.074918972  | 0.0074918972 | \n",
       "| 2            | 10           | 0.016616469  | 0.0016616469 | \n",
       "| 3            | 10           | 0.001370623  | 0.0001370623 | \n",
       "| 4            | 10           | 0.001478596  | 0.0001478596 | \n",
       "| 5            | 10           | 0.002006433  | 0.0002006433 | \n",
       "| 6            | 10           | 0.015196429  | 0.0015196429 | \n",
       "| 7            | 10           | 0.136079451  | 0.0136079451 | \n",
       "\n",
       "\n"
      ],
      "text/plain": [
       "  k차함수 i번째 학습 error       error_ratio \n",
       "1 1       10         0.074918972 0.0074918972\n",
       "2 2       10         0.016616469 0.0016616469\n",
       "3 3       10         0.001370623 0.0001370623\n",
       "4 4       10         0.001478596 0.0001478596\n",
       "5 5       10         0.002006433 0.0002006433\n",
       "6 6       10         0.015196429 0.0015196429\n",
       "7 7       10         0.136079451 0.0136079451"
      ]
     },
     "metadata": {},
     "output_type": "display_data"
    },
    {
     "data": {
      "image/png": "[encoded data removed]",
      "text/plain": [
       "plot without title"
      ]
     },
     "metadata": {},
     "output_type": "display_data"
    }
   ],
   "source": [
    "total_basket\n",
    "plot(total_basket$k차함수, total_basket$error_ratio)"
   ]
  },
  {
   "cell_type": "markdown",
   "metadata": {},
   "source": [
    "__해석__\n",
    "3차 함수에서 에러_ratio가 가장 낮음  \n",
    "> 5, 6,7차 함수는 overfitting  \n",
    "1,2차 함수는 underfitting\n"
   ]
  },
  {
   "cell_type": "markdown",
   "metadata": {},
   "source": [
    "# 5. 와인 데이터 불러오기"
   ]
  },
  {
   "cell_type": "code",
   "execution_count": 24,
   "metadata": {},
   "outputs": [
    {
     "name": "stdout",
     "output_type": "stream",
     "text": [
      "<mode_all> "
     ]
    },
    {
     "data": {
      "text/plain": [
       "\n",
       "Call:\n",
       "lm(formula = quality ~ ., data = test_df)\n",
       "\n",
       "Coefficients:\n",
       "         (Intercept)         fixed_acidity      volatile_acidity  \n",
       "          104.751754              0.085066             -1.492406  \n",
       "         citric_acid        residual_sugar             chlorides  \n",
       "           -0.062621              0.062437             -0.757251  \n",
       " free_sulfur_dioxide  total_sulfur_dioxide               density  \n",
       "            0.004937             -0.001403           -103.909624  \n",
       "                  pH             sulphates               alcohol  \n",
       "            0.498756              0.721744              0.222670  \n",
       "                type  \n",
       "           -0.361332  \n"
      ]
     },
     "metadata": {},
     "output_type": "display_data"
    }
   ],
   "source": [
    "data4_1 <- read.csv(\"data4_1.csv\", header = TRUE) #한글 깨지지 않으려면 encoding=\"utf-8\" 하면됨\n",
    "\n",
    "# lm  \n",
    "test_df <- data4_1\n",
    "\n",
    "model_all <- lm(quality ~. , data=test_df)\n",
    "model_type <- lm(quality ~ type , data=test_df)\n",
    "model_residual_sugar <- lm(quality ~ residual_sugar , data=test_df)\n",
    "\n",
    "cat(\"<mode_all> \")\n",
    "model_all "
   ]
  },
  {
   "cell_type": "code",
   "execution_count": 25,
   "metadata": {},
   "outputs": [
    {
     "name": "stdout",
     "output_type": "stream",
     "text": [
      "<model_type> "
     ]
    },
    {
     "data": {
      "text/plain": [
       "\n",
       "Call:\n",
       "lm(formula = quality ~ type, data = test_df)\n",
       "\n",
       "Coefficients:\n",
       "(Intercept)         type  \n",
       "     5.6360       0.2419  \n"
      ]
     },
     "metadata": {},
     "output_type": "display_data"
    }
   ],
   "source": [
    "cat(\"<model_type> \")\n",
    "model_type"
   ]
  },
  {
   "cell_type": "code",
   "execution_count": 26,
   "metadata": {},
   "outputs": [
    {
     "name": "stdout",
     "output_type": "stream",
     "text": [
      "<model_residual_sugar>"
     ]
    },
    {
     "data": {
      "text/plain": [
       "\n",
       "Call:\n",
       "lm(formula = quality ~ residual_sugar, data = test_df)\n",
       "\n",
       "Coefficients:\n",
       "   (Intercept)  residual_sugar  \n",
       "      5.855323       -0.006787  \n"
      ]
     },
     "metadata": {},
     "output_type": "display_data"
    }
   ],
   "source": [
    "cat(\"<model_residual_sugar>\")\n",
    "model_residual_sugar"
   ]
  },
  {
   "cell_type": "markdown",
   "metadata": {},
   "source": [
    "__stepwise Regression__  \n",
    "input의 갯수가 늘어나면 고려해야되는 가설공간이 2배 늘어남,   \n",
    "지금은 파라미터가 12개니까 `r 2^12` 개가 나옴 (2^12)     \n",
    "기하급수적으로 늘어나는 것은 컴퓨터 공학에서 풀 수 없다고 봄     \n",
    " \n",
    "  1. 12*11 / 2로 계산할 수 있음. 4097번이 67으로 줄어들기 때문에, 변수 선택에 중요한 영향을 줌  \n",
    "  2. (통계) 중요한 변수만 들어가면 설명이 가능함  \n",
    "  3. (머신러닝) 중요한 변수만 들어가면 노이즈를 줄임(오버피팅 방지, 가설공간 줄임)  \n"
   ]
  },
  {
   "cell_type": "code",
   "execution_count": 27,
   "metadata": {},
   "outputs": [
    {
     "data": {
      "text/html": [
       "<ol class=list-inline>\n",
       "\t<li>'fixed_acidity'</li>\n",
       "\t<li>'volatile_acidity'</li>\n",
       "\t<li>'citric_acid'</li>\n",
       "\t<li>'residual_sugar'</li>\n",
       "\t<li>'chlorides'</li>\n",
       "\t<li>'free_sulfur_dioxide'</li>\n",
       "\t<li>'total_sulfur_dioxide'</li>\n",
       "\t<li>'density'</li>\n",
       "\t<li>'pH'</li>\n",
       "\t<li>'sulphates'</li>\n",
       "\t<li>'alcohol'</li>\n",
       "\t<li>'quality'</li>\n",
       "\t<li>'type'</li>\n",
       "</ol>\n"
      ],
      "text/latex": [
       "\\begin{enumerate*}\n",
       "\\item 'fixed\\_acidity'\n",
       "\\item 'volatile\\_acidity'\n",
       "\\item 'citric\\_acid'\n",
       "\\item 'residual\\_sugar'\n",
       "\\item 'chlorides'\n",
       "\\item 'free\\_sulfur\\_dioxide'\n",
       "\\item 'total\\_sulfur\\_dioxide'\n",
       "\\item 'density'\n",
       "\\item 'pH'\n",
       "\\item 'sulphates'\n",
       "\\item 'alcohol'\n",
       "\\item 'quality'\n",
       "\\item 'type'\n",
       "\\end{enumerate*}\n"
      ],
      "text/markdown": [
       "1. 'fixed_acidity'\n",
       "2. 'volatile_acidity'\n",
       "3. 'citric_acid'\n",
       "4. 'residual_sugar'\n",
       "5. 'chlorides'\n",
       "6. 'free_sulfur_dioxide'\n",
       "7. 'total_sulfur_dioxide'\n",
       "8. 'density'\n",
       "9. 'pH'\n",
       "10. 'sulphates'\n",
       "11. 'alcohol'\n",
       "12. 'quality'\n",
       "13. 'type'\n",
       "\n",
       "\n"
      ],
      "text/plain": [
       " [1] \"fixed_acidity\"        \"volatile_acidity\"     \"citric_acid\"         \n",
       " [4] \"residual_sugar\"       \"chlorides\"            \"free_sulfur_dioxide\" \n",
       " [7] \"total_sulfur_dioxide\" \"density\"              \"pH\"                  \n",
       "[10] \"sulphates\"            \"alcohol\"              \"quality\"             \n",
       "[13] \"type\"                "
      ]
     },
     "metadata": {},
     "output_type": "display_data"
    },
    {
     "data": {
      "text/plain": [
       "\n",
       "Call:\n",
       "lm(formula = quality ~ fixed_acidity + type, data = test_df)\n",
       "\n",
       "Coefficients:\n",
       "  (Intercept)  fixed_acidity           type  \n",
       "      5.77309       -0.01647        0.21775  \n"
      ]
     },
     "metadata": {},
     "output_type": "display_data"
    }
   ],
   "source": [
    "### model_acid_type 결과 보기  \n",
    "\n",
    "test_df <- data4_1\n",
    "\n",
    "model_acid_type <- lm(quality ~ fixed_acidity + type, data=test_df)\n",
    "colnames(test_df)\n",
    "\n",
    "model_acid_type"
   ]
  },
  {
   "cell_type": "markdown",
   "metadata": {},
   "source": [
    "lm 에 type 추가  \n",
    "여기서 +는 수치를 더하는것이 아니라 파라미터 하나 더 추라하는 것  \n",
    "  \n",
    "red가 1, white가 0이니까 red wine가 0.21775의 가중치를 가짐, 1.21775가 더 크다고 볼 수 있다.  \n"
   ]
  },
  {
   "cell_type": "markdown",
   "metadata": {},
   "source": [
    "# 6. 함수의 복잡도 설명 (glmnetUtils)\n",
    "\n",
    "The glmnetUtils package provides a collection of tools to streamline the process of fitting elastic net models with glmnet. \n",
    "\n",
    "elastic net models: Elastic Net 회귀 모형은 가중치의 절대값의 합과 제곱합을 동시에 제약 조건으로 가지는 모형이다.\n",
    "    L1 + L2도 하자.\n",
    "    튜닝파라미터\n",
    "    람다 : 정규화를 얼마나 강하게 할 것이냐? 높으면 정규화가 높다. (모델이 단순하게) 적게 하면 예측률이 높아질듯.\n",
    "    알파 : L1,L2를 몇대 몇으로 할것이냐. 0~1, 알파 : 0 릿지만, 알파 : 1 라쏘만.\n",
    "    \n",
    "    -> 알파와 라쏘를 섞어서 일정 비율로 섞는 하이퍼 파라미터를 사용 \n",
    "https://byungjun0689.github.io/R_for_Data_Science(Machine_Learning_with_R)/"
   ]
  },
  {
   "cell_type": "code",
   "execution_count": 28,
   "metadata": {},
   "outputs": [
    {
     "data": {
      "text/html": [
       "<ol class=list-inline>\n",
       "\t<li>'Y'</li>\n",
       "\t<li>'X1'</li>\n",
       "\t<li>'X2'</li>\n",
       "\t<li>'X3'</li>\n",
       "\t<li>'X4'</li>\n",
       "\t<li>'X5'</li>\n",
       "\t<li>'X6'</li>\n",
       "\t<li>'X7'</li>\n",
       "\t<li>'X8'</li>\n",
       "\t<li>'X9'</li>\n",
       "\t<li>'X10'</li>\n",
       "\t<li>'X11'</li>\n",
       "\t<li>'X12'</li>\n",
       "\t<li>'X13'</li>\n",
       "\t<li>'X14'</li>\n",
       "\t<li>'X15'</li>\n",
       "\t<li>'X16'</li>\n",
       "\t<li>'X17'</li>\n",
       "\t<li>'X18'</li>\n",
       "\t<li>'X19'</li>\n",
       "\t<li>'X20'</li>\n",
       "\t<li>'X21'</li>\n",
       "\t<li>'X22'</li>\n",
       "\t<li>'X23'</li>\n",
       "\t<li>'X24'</li>\n",
       "\t<li>'X25'</li>\n",
       "\t<li>'X26'</li>\n",
       "\t<li>'X27'</li>\n",
       "\t<li>'X28'</li>\n",
       "\t<li>'X29'</li>\n",
       "\t<li>'X30'</li>\n",
       "\t<li>'X31'</li>\n",
       "\t<li>'X32'</li>\n",
       "\t<li>'X33'</li>\n",
       "\t<li>'X34'</li>\n",
       "\t<li>'X35'</li>\n",
       "\t<li>'X36'</li>\n",
       "\t<li>'X37'</li>\n",
       "\t<li>'X38'</li>\n",
       "\t<li>'X39'</li>\n",
       "\t<li>'X40'</li>\n",
       "\t<li>'X41'</li>\n",
       "\t<li>'X42'</li>\n",
       "\t<li>'X43'</li>\n",
       "\t<li>'X44'</li>\n",
       "\t<li>'X45'</li>\n",
       "\t<li>'X46'</li>\n",
       "\t<li>'X47'</li>\n",
       "\t<li>'X48'</li>\n",
       "\t<li>'X49'</li>\n",
       "\t<li>'X50'</li>\n",
       "\t<li>'X51'</li>\n",
       "\t<li>'X52'</li>\n",
       "\t<li>'X53'</li>\n",
       "\t<li>'X54'</li>\n",
       "\t<li>'X55'</li>\n",
       "\t<li>'X56'</li>\n",
       "\t<li>'X57'</li>\n",
       "\t<li>'X58'</li>\n",
       "\t<li>'X59'</li>\n",
       "\t<li>'X60'</li>\n",
       "\t<li>'X61'</li>\n",
       "\t<li>'X62'</li>\n",
       "\t<li>'X63'</li>\n",
       "\t<li>'X64'</li>\n",
       "\t<li>'X65'</li>\n",
       "\t<li>'X66'</li>\n",
       "\t<li>'X67'</li>\n",
       "\t<li>'X68'</li>\n",
       "\t<li>'X69'</li>\n",
       "\t<li>'X70'</li>\n",
       "\t<li>'X71'</li>\n",
       "\t<li>'X72'</li>\n",
       "\t<li>'X73'</li>\n",
       "\t<li>'X74'</li>\n",
       "\t<li>'X75'</li>\n",
       "\t<li>'X76'</li>\n",
       "\t<li>'X77'</li>\n",
       "\t<li>'X78'</li>\n",
       "\t<li>'X79'</li>\n",
       "\t<li>'X80'</li>\n",
       "\t<li>'X81'</li>\n",
       "\t<li>'X82'</li>\n",
       "\t<li>'X83'</li>\n",
       "\t<li>'X84'</li>\n",
       "\t<li>'X85'</li>\n",
       "\t<li>'X86'</li>\n",
       "\t<li>'X87'</li>\n",
       "\t<li>'X88'</li>\n",
       "\t<li>'X89'</li>\n",
       "\t<li>'X90'</li>\n",
       "\t<li>'X91'</li>\n",
       "\t<li>'X92'</li>\n",
       "\t<li>'X93'</li>\n",
       "\t<li>'X94'</li>\n",
       "\t<li>'X95'</li>\n",
       "\t<li>'X96'</li>\n",
       "\t<li>'X97'</li>\n",
       "\t<li>'X98'</li>\n",
       "\t<li>'X99'</li>\n",
       "\t<li>'X100'</li>\n",
       "</ol>\n"
      ],
      "text/latex": [
       "\\begin{enumerate*}\n",
       "\\item 'Y'\n",
       "\\item 'X1'\n",
       "\\item 'X2'\n",
       "\\item 'X3'\n",
       "\\item 'X4'\n",
       "\\item 'X5'\n",
       "\\item 'X6'\n",
       "\\item 'X7'\n",
       "\\item 'X8'\n",
       "\\item 'X9'\n",
       "\\item 'X10'\n",
       "\\item 'X11'\n",
       "\\item 'X12'\n",
       "\\item 'X13'\n",
       "\\item 'X14'\n",
       "\\item 'X15'\n",
       "\\item 'X16'\n",
       "\\item 'X17'\n",
       "\\item 'X18'\n",
       "\\item 'X19'\n",
       "\\item 'X20'\n",
       "\\item 'X21'\n",
       "\\item 'X22'\n",
       "\\item 'X23'\n",
       "\\item 'X24'\n",
       "\\item 'X25'\n",
       "\\item 'X26'\n",
       "\\item 'X27'\n",
       "\\item 'X28'\n",
       "\\item 'X29'\n",
       "\\item 'X30'\n",
       "\\item 'X31'\n",
       "\\item 'X32'\n",
       "\\item 'X33'\n",
       "\\item 'X34'\n",
       "\\item 'X35'\n",
       "\\item 'X36'\n",
       "\\item 'X37'\n",
       "\\item 'X38'\n",
       "\\item 'X39'\n",
       "\\item 'X40'\n",
       "\\item 'X41'\n",
       "\\item 'X42'\n",
       "\\item 'X43'\n",
       "\\item 'X44'\n",
       "\\item 'X45'\n",
       "\\item 'X46'\n",
       "\\item 'X47'\n",
       "\\item 'X48'\n",
       "\\item 'X49'\n",
       "\\item 'X50'\n",
       "\\item 'X51'\n",
       "\\item 'X52'\n",
       "\\item 'X53'\n",
       "\\item 'X54'\n",
       "\\item 'X55'\n",
       "\\item 'X56'\n",
       "\\item 'X57'\n",
       "\\item 'X58'\n",
       "\\item 'X59'\n",
       "\\item 'X60'\n",
       "\\item 'X61'\n",
       "\\item 'X62'\n",
       "\\item 'X63'\n",
       "\\item 'X64'\n",
       "\\item 'X65'\n",
       "\\item 'X66'\n",
       "\\item 'X67'\n",
       "\\item 'X68'\n",
       "\\item 'X69'\n",
       "\\item 'X70'\n",
       "\\item 'X71'\n",
       "\\item 'X72'\n",
       "\\item 'X73'\n",
       "\\item 'X74'\n",
       "\\item 'X75'\n",
       "\\item 'X76'\n",
       "\\item 'X77'\n",
       "\\item 'X78'\n",
       "\\item 'X79'\n",
       "\\item 'X80'\n",
       "\\item 'X81'\n",
       "\\item 'X82'\n",
       "\\item 'X83'\n",
       "\\item 'X84'\n",
       "\\item 'X85'\n",
       "\\item 'X86'\n",
       "\\item 'X87'\n",
       "\\item 'X88'\n",
       "\\item 'X89'\n",
       "\\item 'X90'\n",
       "\\item 'X91'\n",
       "\\item 'X92'\n",
       "\\item 'X93'\n",
       "\\item 'X94'\n",
       "\\item 'X95'\n",
       "\\item 'X96'\n",
       "\\item 'X97'\n",
       "\\item 'X98'\n",
       "\\item 'X99'\n",
       "\\item 'X100'\n",
       "\\end{enumerate*}\n"
      ],
      "text/markdown": [
       "1. 'Y'\n",
       "2. 'X1'\n",
       "3. 'X2'\n",
       "4. 'X3'\n",
       "5. 'X4'\n",
       "6. 'X5'\n",
       "7. 'X6'\n",
       "8. 'X7'\n",
       "9. 'X8'\n",
       "10. 'X9'\n",
       "11. 'X10'\n",
       "12. 'X11'\n",
       "13. 'X12'\n",
       "14. 'X13'\n",
       "15. 'X14'\n",
       "16. 'X15'\n",
       "17. 'X16'\n",
       "18. 'X17'\n",
       "19. 'X18'\n",
       "20. 'X19'\n",
       "21. 'X20'\n",
       "22. 'X21'\n",
       "23. 'X22'\n",
       "24. 'X23'\n",
       "25. 'X24'\n",
       "26. 'X25'\n",
       "27. 'X26'\n",
       "28. 'X27'\n",
       "29. 'X28'\n",
       "30. 'X29'\n",
       "31. 'X30'\n",
       "32. 'X31'\n",
       "33. 'X32'\n",
       "34. 'X33'\n",
       "35. 'X34'\n",
       "36. 'X35'\n",
       "37. 'X36'\n",
       "38. 'X37'\n",
       "39. 'X38'\n",
       "40. 'X39'\n",
       "41. 'X40'\n",
       "42. 'X41'\n",
       "43. 'X42'\n",
       "44. 'X43'\n",
       "45. 'X44'\n",
       "46. 'X45'\n",
       "47. 'X46'\n",
       "48. 'X47'\n",
       "49. 'X48'\n",
       "50. 'X49'\n",
       "51. 'X50'\n",
       "52. 'X51'\n",
       "53. 'X52'\n",
       "54. 'X53'\n",
       "55. 'X54'\n",
       "56. 'X55'\n",
       "57. 'X56'\n",
       "58. 'X57'\n",
       "59. 'X58'\n",
       "60. 'X59'\n",
       "61. 'X60'\n",
       "62. 'X61'\n",
       "63. 'X62'\n",
       "64. 'X63'\n",
       "65. 'X64'\n",
       "66. 'X65'\n",
       "67. 'X66'\n",
       "68. 'X67'\n",
       "69. 'X68'\n",
       "70. 'X69'\n",
       "71. 'X70'\n",
       "72. 'X71'\n",
       "73. 'X72'\n",
       "74. 'X73'\n",
       "75. 'X74'\n",
       "76. 'X75'\n",
       "77. 'X76'\n",
       "78. 'X77'\n",
       "79. 'X78'\n",
       "80. 'X79'\n",
       "81. 'X80'\n",
       "82. 'X81'\n",
       "83. 'X82'\n",
       "84. 'X83'\n",
       "85. 'X84'\n",
       "86. 'X85'\n",
       "87. 'X86'\n",
       "88. 'X87'\n",
       "89. 'X88'\n",
       "90. 'X89'\n",
       "91. 'X90'\n",
       "92. 'X91'\n",
       "93. 'X92'\n",
       "94. 'X93'\n",
       "95. 'X94'\n",
       "96. 'X95'\n",
       "97. 'X96'\n",
       "98. 'X97'\n",
       "99. 'X98'\n",
       "100. 'X99'\n",
       "101. 'X100'\n",
       "\n",
       "\n"
      ],
      "text/plain": [
       "  [1] \"Y\"    \"X1\"   \"X2\"   \"X3\"   \"X4\"   \"X5\"   \"X6\"   \"X7\"   \"X8\"   \"X9\"  \n",
       " [11] \"X10\"  \"X11\"  \"X12\"  \"X13\"  \"X14\"  \"X15\"  \"X16\"  \"X17\"  \"X18\"  \"X19\" \n",
       " [21] \"X20\"  \"X21\"  \"X22\"  \"X23\"  \"X24\"  \"X25\"  \"X26\"  \"X27\"  \"X28\"  \"X29\" \n",
       " [31] \"X30\"  \"X31\"  \"X32\"  \"X33\"  \"X34\"  \"X35\"  \"X36\"  \"X37\"  \"X38\"  \"X39\" \n",
       " [41] \"X40\"  \"X41\"  \"X42\"  \"X43\"  \"X44\"  \"X45\"  \"X46\"  \"X47\"  \"X48\"  \"X49\" \n",
       " [51] \"X50\"  \"X51\"  \"X52\"  \"X53\"  \"X54\"  \"X55\"  \"X56\"  \"X57\"  \"X58\"  \"X59\" \n",
       " [61] \"X60\"  \"X61\"  \"X62\"  \"X63\"  \"X64\"  \"X65\"  \"X66\"  \"X67\"  \"X68\"  \"X69\" \n",
       " [71] \"X70\"  \"X71\"  \"X72\"  \"X73\"  \"X74\"  \"X75\"  \"X76\"  \"X77\"  \"X78\"  \"X79\" \n",
       " [81] \"X80\"  \"X81\"  \"X82\"  \"X83\"  \"X84\"  \"X85\"  \"X86\"  \"X87\"  \"X88\"  \"X89\" \n",
       " [91] \"X90\"  \"X91\"  \"X92\"  \"X93\"  \"X94\"  \"X95\"  \"X96\"  \"X97\"  \"X98\"  \"X99\" \n",
       "[101] \"X100\""
      ]
     },
     "metadata": {},
     "output_type": "display_data"
    }
   ],
   "source": [
    "library(\"glmnetUtils\")\n",
    "data4_3 <- read.csv(\"data4_3.csv\", header = TRUE) #한글 깨지지 않으려면 encoding=\"utf-8\" 하면됨\n",
    "\n",
    "test_df <- data4_3\n",
    "colnames(test_df)"
   ]
  },
  {
   "cell_type": "code",
   "execution_count": 29,
   "metadata": {},
   "outputs": [
    {
     "data": {
      "text/plain": [
       "\n",
       "Call:\n",
       "lm(formula = Y ~ ., data = test_df)\n",
       "\n",
       "Coefficients:\n",
       "(Intercept)           X1           X2           X3           X4           X5  \n",
       "   1.257008     1.065963     0.023143     0.023425    -0.069477    -0.080231  \n",
       "         X6           X7           X8           X9          X10          X11  \n",
       "   0.056536    -0.035723    -0.031815     0.152955    -0.012982    -0.064110  \n",
       "        X12          X13          X14          X15          X16          X17  \n",
       "   0.017474     0.117016    -0.032945     0.015036    -0.246596    -0.108870  \n",
       "        X18          X19          X20          X21          X22          X23  \n",
       "  -0.131736     0.181305    -0.006779     0.112091     0.095405     0.063288  \n",
       "        X24          X25          X26          X27          X28          X29  \n",
       "  -0.052944    -0.003376    -0.026710     0.247813    -0.009410    -0.048134  \n",
       "        X30          X31          X32          X33          X34          X35  \n",
       "  -0.044487    -0.095561    -0.156647    -0.042266     0.112269     0.193337  \n",
       "        X36          X37          X38          X39          X40          X41  \n",
       "  -0.009977    -0.007624     0.138271    -0.022279    -0.053125     0.076579  \n",
       "        X42          X43          X44          X45          X46          X47  \n",
       "  -0.020526     0.061609     0.138769    -0.129197    -0.051660     0.055959  \n",
       "        X48          X49          X50          X51          X52          X53  \n",
       "  -0.015451     0.050696     1.844057     0.043100     0.019202     0.074139  \n",
       "        X54          X55          X56          X57          X58          X59  \n",
       "   0.045271     0.035127    -0.008514    -0.005816    -0.056528    -0.046850  \n",
       "        X60          X61          X62          X63          X64          X65  \n",
       "   0.046566     0.062639    -0.106560     0.017154    -0.099002     0.067973  \n",
       "        X66          X67          X68          X69          X70          X71  \n",
       "  -0.080119     0.051963     0.163752    -0.039898     2.993952     0.012700  \n",
       "        X72          X73          X74          X75          X76          X77  \n",
       "   0.092739     0.067774    -0.071860    -0.002685     0.033593    -0.010826  \n",
       "        X78          X79          X80          X81          X82          X83  \n",
       "  -0.115510     0.070332    -1.023690     0.159778    -0.042075     0.027155  \n",
       "        X84          X85          X86          X87          X88          X89  \n",
       "   0.221621    -0.003188     0.083880     0.004072    -0.017214    -0.068442  \n",
       "        X90          X91          X92          X93          X94          X95  \n",
       "  -0.138030     0.035861    -0.077178     0.110371     0.048320     0.010864  \n",
       "        X96          X97          X98          X99         X100  \n",
       "   0.041291    -0.081461    -0.049578     0.066385    -0.023610  \n"
      ]
     },
     "metadata": {},
     "output_type": "display_data"
    }
   ],
   "source": [
    "test_df <- data4_3\n",
    "\n",
    "model <- lm(Y ~., test_df)\n",
    "model"
   ]
  },
  {
   "cell_type": "code",
   "execution_count": 30,
   "metadata": {},
   "outputs": [
    {
     "data": {
      "text/html": [
       "4.67178508485376"
      ],
      "text/latex": [
       "4.67178508485376"
      ],
      "text/markdown": [
       "4.67178508485376"
      ],
      "text/plain": [
       "[1] 4.671785"
      ]
     },
     "metadata": {},
     "output_type": "display_data"
    }
   ],
   "source": [
    "# lambda는 1일 때\n",
    "test_df <- data4_3\n",
    "set.seed(123)\n",
    "\n",
    "train <- sample(1:nrow(test_df), 0.7 * nrow(test_df))\n",
    "\n",
    "model <- glmnet(Y ~., \n",
    "                    data = test_df[train, ],\n",
    "                    lambda = 1 ) # 70% 선택했으니 train set\n",
    "\n",
    "pred <- predict(model, test_df[-train, ])\n",
    "real <- test_df$Y[-train]\n",
    "validation_Error <- mean((real - pred) ^ 2)\n",
    "\n",
    "validation_Error"
   ]
  },
  {
   "cell_type": "code",
   "execution_count": 31,
   "metadata": {},
   "outputs": [
    {
     "name": "stdout",
     "output_type": "stream",
     "text": [
      "\n",
      "lambda  0 의 validation_error는  2.816874 입니다.\n",
      "lambda  0.1 의 validation_error는  1.041327 입니다.\n",
      "lambda  0.5 의 validation_error는  1.723713 입니다.\n",
      "lambda  1 의 validation_error는  4.671785 입니다."
     ]
    }
   ],
   "source": [
    "# lambda는 가 list일때 \n",
    "total_basket2 <- data.frame(matrix(ncol = 2, nrow = 0)) # (6*0)표 만들고\n",
    "colnames(total_basket2) <- c(\"lambda\", \"error\") # header 만들고\n",
    "\n",
    "lambda_example = list(0, 0.1, 0.5, 1)\n",
    "\n",
    "for (lambda in lambda_example){\n",
    "    test_df <- data4_3\n",
    "    set.seed(123)\n",
    "    \n",
    "    train <- sample(1:nrow(test_df), 0.7 * nrow(test_df))\n",
    "    model <- glmnet(Y ~., \n",
    "                        data = test_df[train, ],\n",
    "                        lambda = lambda ) # 70% 선택했으니 train set\n",
    "\n",
    "    pred <- predict(model, test_df[-train, ])\n",
    "    real <- test_df$Y[-train]\n",
    "    validation_Error <- mean((real - pred) ^ 2)\n",
    "\n",
    "    cat('\\nlambda ', lambda, '의 validation_error는 ' , validation_Error , '입니다.')\n",
    "    total_basket2[nrow(total_basket2) + 1,] = list(lambda, validation_Error)\n",
    "}"
   ]
  },
  {
   "cell_type": "code",
   "execution_count": 32,
   "metadata": {},
   "outputs": [
    {
     "data": {
      "image/png": "[encoded data removed]",
      "text/plain": [
       "plot without title"
      ]
     },
     "metadata": {},
     "output_type": "display_data"
    }
   ],
   "source": [
    "\n",
    "plot(total_basket2$lambda, total_basket2$error)"
   ]
  },
  {
   "cell_type": "code",
   "execution_count": 33,
   "metadata": {},
   "outputs": [
    {
     "data": {
      "text/html": [
       "<ol class=list-inline>\n",
       "\t<li>2</li>\n",
       "\t<li>4</li>\n",
       "\t<li>1</li>\n",
       "</ol>\n"
      ],
      "text/latex": [
       "\\begin{enumerate*}\n",
       "\\item 2\n",
       "\\item 4\n",
       "\\item 1\n",
       "\\end{enumerate*}\n"
      ],
      "text/markdown": [
       "1. 2\n",
       "2. 4\n",
       "3. 1\n",
       "\n",
       "\n"
      ],
      "text/plain": [
       "[1] 2 4 1"
      ]
     },
     "metadata": {},
     "output_type": "display_data"
    },
    {
     "data": {
      "text/html": [
       "<ol class=list-inline>\n",
       "\t<li>1</li>\n",
       "\t<li>3</li>\n",
       "</ol>\n"
      ],
      "text/latex": [
       "\\begin{enumerate*}\n",
       "\\item 1\n",
       "\\item 3\n",
       "\\end{enumerate*}\n"
      ],
      "text/markdown": [
       "1. 1\n",
       "2. 3\n",
       "\n",
       "\n"
      ],
      "text/plain": [
       "[1] 1 3"
      ]
     },
     "metadata": {},
     "output_type": "display_data"
    },
    {
     "data": {
      "text/html": [
       "<ol class=list-inline>\n",
       "\t<li>1</li>\n",
       "\t<li>4</li>\n",
       "\t<li>3</li>\n",
       "\t<li>2</li>\n",
       "</ol>\n"
      ],
      "text/latex": [
       "\\begin{enumerate*}\n",
       "\\item 1\n",
       "\\item 4\n",
       "\\item 3\n",
       "\\item 2\n",
       "\\end{enumerate*}\n"
      ],
      "text/markdown": [
       "1. 1\n",
       "2. 4\n",
       "3. 3\n",
       "4. 2\n",
       "\n",
       "\n"
      ],
      "text/plain": [
       "[1] 1 4 3 2"
      ]
     },
     "metadata": {},
     "output_type": "display_data"
    }
   ],
   "source": [
    "# sample() 함수  \n",
    "#  무작위로 특정 행까지 뽑는 함수, 반복해서 실행하면 다르게 나옴\n",
    "sample(c(1,2,3,4), 3)\n",
    "sample(c(1,2,3,4), 2)\n",
    "sample(c(1,2,3,4), 4)"
   ]
  },
  {
   "cell_type": "code",
   "execution_count": 34,
   "metadata": {},
   "outputs": [
    {
     "data": {
      "text/html": [
       "<ol class=list-inline>\n",
       "\t<li>2</li>\n",
       "\t<li>3</li>\n",
       "\t<li>1</li>\n",
       "</ol>\n"
      ],
      "text/latex": [
       "\\begin{enumerate*}\n",
       "\\item 2\n",
       "\\item 3\n",
       "\\item 1\n",
       "\\end{enumerate*}\n"
      ],
      "text/markdown": [
       "1. 2\n",
       "2. 3\n",
       "3. 1\n",
       "\n",
       "\n"
      ],
      "text/plain": [
       "[1] 2 3 1"
      ]
     },
     "metadata": {},
     "output_type": "display_data"
    },
    {
     "data": {
      "text/html": [
       "<ol class=list-inline>\n",
       "\t<li>4</li>\n",
       "\t<li>3</li>\n",
       "</ol>\n"
      ],
      "text/latex": [
       "\\begin{enumerate*}\n",
       "\\item 4\n",
       "\\item 3\n",
       "\\end{enumerate*}\n"
      ],
      "text/markdown": [
       "1. 4\n",
       "2. 3\n",
       "\n",
       "\n"
      ],
      "text/plain": [
       "[1] 4 3"
      ]
     },
     "metadata": {},
     "output_type": "display_data"
    },
    {
     "data": {
      "text/html": [
       "<ol class=list-inline>\n",
       "\t<li>1</li>\n",
       "\t<li>2</li>\n",
       "\t<li>3</li>\n",
       "\t<li>4</li>\n",
       "</ol>\n"
      ],
      "text/latex": [
       "\\begin{enumerate*}\n",
       "\\item 1\n",
       "\\item 2\n",
       "\\item 3\n",
       "\\item 4\n",
       "\\end{enumerate*}\n"
      ],
      "text/markdown": [
       "1. 1\n",
       "2. 2\n",
       "3. 3\n",
       "4. 4\n",
       "\n",
       "\n"
      ],
      "text/plain": [
       "[1] 1 2 3 4"
      ]
     },
     "metadata": {},
     "output_type": "display_data"
    }
   ],
   "source": [
    "# sample() 함수  \n",
    "set.seed(123)\n",
    "# set.seed 해주면 변하지 않음\n",
    "sample(c(1,2,3,4), 3)\n",
    "sample(c(1,2,3,4), 2)\n",
    "sample(c(1,2,3,4), 4)"
   ]
  },
  {
   "cell_type": "markdown",
   "metadata": {},
   "source": [
    "__6강에서 배울 내용__  \n",
    "\n",
    ">kaggle 데이터 실습  \n"
   ]
  }
 ],
 "metadata": {
  "kernelspec": {
   "display_name": "R",
   "language": "R",
   "name": "ir"
  },
  "language_info": {
   "codemirror_mode": "r",
   "file_extension": ".r",
   "mimetype": "text/x-r-source",
   "name": "R",
   "pygments_lexer": "r",
   "version": "3.5.1"
  }
 },
 "nbformat": 4,
 "nbformat_minor": 2
}
