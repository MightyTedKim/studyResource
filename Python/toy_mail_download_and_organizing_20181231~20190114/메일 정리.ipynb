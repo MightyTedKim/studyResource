{
 "cells": [
  {
   "cell_type": "markdown",
   "metadata": {},
   "source": [
    "# \"*** 진흥원 파일 자동 다운로드\"\n",
    "### 작성자: 김학건\n",
    "### 날짜: 2019-01-03\n",
    "- .gitIgnore: PASSWORD.json\n",
    "- 성능보다 오류 감소를 위해 코드를 짰음, 그래서 time.sleep()이 많음\n",
    "    - 추후 수정 예정\n",
    "- 먼저, 작동하도록 짠 코드라 더러움\n"
   ]
  },
  {
   "cell_type": "markdown",
   "metadata": {},
   "source": [
    "<img src=\"chromeSetting.PNG\" alt=\"Drawing\" style=\"width: 400px;\"/>"
   ]
  },
  {
   "cell_type": "markdown",
   "metadata": {},
   "source": [
    "# 라이브러리"
   ]
  },
  {
   "cell_type": "code",
   "execution_count": null,
   "metadata": {},
   "outputs": [],
   "source": [
    "from selenium import webdriver\n",
    "import pandas as pd\n",
    "import time, os, re, json "
   ]
  },
  {
   "cell_type": "markdown",
   "metadata": {},
   "source": [
    "# 함수 정의"
   ]
  },
  {
   "cell_type": "code",
   "execution_count": null,
   "metadata": {},
   "outputs": [],
   "source": [
    "# 함수: 프레임 바꾸기\n",
    "def fnSwitchToMain() :\n",
    "#     print(\"* switchToMain\")\n",
    "    driver.switch_to_default_content()\n",
    "    driver.switch_to.frame('main')\n",
    "\n",
    "def fnSwitchToFrame(FRAME) :\n",
    "#     print('* switchToMain_' + FRAME)\n",
    "    driver.switch_to_default_content()\n",
    "    driver.switch_to.frame('main')\n",
    "    driver.switch_to.frame(FRAME)\n",
    "    \n",
    "# 함수 로그인\n",
    "def fnLogin(ID, PW):\n",
    "    fnSwitchToMain()\n",
    "    temp_element = driver.find_element_by_name(\"USERS_ID\")\n",
    "    temp_element.clear()\n",
    "    temp_element.send_keys(ID)\n",
    "    \n",
    "    temp_element = driver.find_element_by_name(\"USERS_PASSWD\")\n",
    "    temp_element.clear()\n",
    "    temp_element.send_keys(PW)\n",
    "\n",
    "# 버튼 누르기\n",
    "def fnBtnClick(FRAME, NAME):\n",
    "    fnSwitchToFrame(FRAME)\n",
    "    driver.find_element_by_class_name(NAME).click()\n",
    "\n",
    "# 검색어 입력\n",
    "def fnInputKeyword(NAME, KEYWORD):\n",
    "    fnSwitchToFrame('mainPanel')\n",
    "    temp_element = driver.find_element_by_name(NAME)\n",
    "    temp_element.clear()\n",
    "    temp_element.send_keys(KEYWORD)\n",
    "    temp_element.send_keys(u'\\ue007') # enter\n",
    "    \n",
    "def fnDownloadFile(title, sender, date):  \n",
    "    try:\n",
    "        time.sleep(1)\n",
    "        print(\"[fn: 다운로드 시작]\")\n",
    "        index = 2\n",
    "        count = 0\n",
    "\n",
    "        fnSwitchToFrame('mainPanel')\n",
    "\n",
    "        past = time.time()\n",
    "#         time.sleep(1)\n",
    "        #download\n",
    "        download_count = len(driver.find_elements_by_class_name(\"k_txAliL\"))\n",
    "\n",
    "\n",
    "        print(\"\\t * \" + str(download_count) + \"개의 파일을 다운로드 하겠습니다.\")\n",
    "        while  count < download_count:\n",
    "            xpath = '//*[@id=\"mail_box_layout\"]/table[1]/tbody/tr/td/table/tbody/tr/td/form/table/tbody/tr[' + str(index) + ']/td[2]/a'\n",
    "            download_click = driver.find_elements_by_xpath(xpath)\n",
    "\n",
    "            file_name = download_click[0].text\n",
    "            print(\"  \\t[다운로드 (\" + str(count + 1) + \")] \" + file_name)\n",
    "            download_click[0].click()\n",
    "\n",
    "            time.sleep(1)\n",
    "            # 엑셀 저장용\n",
    "            download_list.append(file_name)\n",
    "            title_list.append(title)\n",
    "            sender_list.append(sender)\n",
    "            date_list.append(date)\n",
    "            # 엑셀 저장용\n",
    "\n",
    "            index += 1\n",
    "            count += 1\n",
    "\n",
    "#         time.sleep(1)\n",
    "        present = time.time()\n",
    "        return [past, present]\n",
    "\n",
    "    except Exception as e:\n",
    "        print(\"\\n[오류] fnDownloadFile()에서 오류가 났습니다. 다시 실행해주세요\")\n",
    "        print(e)\n",
    "\n",
    "        \n",
    "def fnChangeFileName(time_past_present, sender, date):\n",
    "    print(\"\\t[fn: 파일명 변경]\", end=\"\")\n",
    "    try: \n",
    "#         time.sleep(1)\n",
    "        past = time_past_present[0]\n",
    "        present = time_past_present[1]\n",
    "\n",
    "        file_index = 1\n",
    "\n",
    "        for (dirpath, dirnames, filenames) in os.walk(PATH):\n",
    "            for filename in filenames:\n",
    "                f = '/'.join([dirpath,filename])\n",
    "                mtime = os.path.getmtime(f)\n",
    "                if(past < mtime and mtime < present): \n",
    "                    new_file_name = \"[파일명]\" + sender + \"(\" + str(file_index) + \")\"+ \"_\" + date[:10] + \"_\" + filename\n",
    "                    new_file_name_regexp = re.sub('[\\/:*?\"<>|]','',new_file_name)\n",
    "                    os.rename(f, '/'.join([dirpath, new_file_name_regexp]))\n",
    "                    file_index += 1\n",
    "        print(\"\\t*완료*\")\n",
    "                    \n",
    "    except Exception as e:\n",
    "        print(\"\\n[오류] fnChangeFileName()에서 오류가 났습니다. 다시 실행해주세요\")\n",
    "        print(e)\n",
    "        \n",
    "def fnTitleClickPerGroup():\n",
    "    try:\n",
    "        title_click = driver.find_elements_by_xpath('//*[contains(@id, \"mailTitleStr\")]')\n",
    "        index = 0\n",
    "        while index < (len(title_click)):\n",
    "            time.sleep(1)\n",
    "            # 제목 객체는 이상하게 계속 만들어줘야함\n",
    "            title_click = driver.find_elements_by_xpath('//*[contains(@id, \"mailTitleStr\")]')\n",
    "\n",
    "            # 페이지 이동\n",
    "            title_click[index].click()\n",
    "\n",
    "            # 파일 정보\n",
    "            title = driver.find_elements_by_xpath('//*[@id=\"mail_box_layout\"]/form/table[3]/tbody/tr[1]/td[2]/table/tbody/tr/td[1]')[0].text\n",
    "            sender = driver.find_elements_by_xpath('//*[@id=\"mail_box_layout\"]/form/table[3]/tbody/tr[3]/td[2]/table/tbody/tr/td[1]/a')[0].text\n",
    "            date = driver.find_elements_by_class_name('t_left10')[1].text\n",
    "\n",
    "            print(\"====================\")\n",
    "            print(\"  [순번]: \" + str(index + 1) + \"/\" + str(len(title_click)))\n",
    "            print(\"  [제목]: \" + title)\n",
    "            print(\"  [제목]: \" + sender)\n",
    "            print(\"  [날짜]: \" + date)\n",
    "            print(\"====================\")\n",
    "\n",
    "            time_past_present = fnDownloadFile(title, sender, date) # 파일 다운로드 진행\n",
    "            fnDownloadCheck() # 파일 다운로드 완료\n",
    "            fnChangeFileName(time_past_present, sender, date)# 파일 명 변경\n",
    "\n",
    "            # 전 페이지로 돌아가기\n",
    "            driver.execute_script(\"window.history.go(-1)\")\n",
    "            index += 1\n",
    "\n",
    "        print(\"\\n\\n [완료] 파일 다운로드가 모두 완료 되었습니다. (총 \" + str(index) + \"개)\")\n",
    "\n",
    "    except Exception as e:\n",
    "        print(\"\\n[오류] fnTitleClickPerGroup()에서 오류가 났습니다. 다시 실행해주세요\")\n",
    "        print(e)\n",
    "        driver.execute_script(\"window.history.go(-1)\")\n",
    "\n"
   ]
  },
  {
   "cell_type": "markdown",
   "metadata": {},
   "source": [
    "# 변수 설정"
   ]
  },
  {
   "cell_type": "code",
   "execution_count": null,
   "metadata": {},
   "outputs": [],
   "source": [
    "# 변수 설정\n",
    "\n",
    "PATH = os.path.expanduser('~/Downloads')\n",
    "\n",
    "# JSON 에서 정보 가져오기(보안)\n",
    "with open('PASSWORD.json') as f:\n",
    "    loginData = json.load(f)\n",
    "\n",
    "WEB_URL = loginData[\"web_url\" ]\n",
    "ID = loginData[\"id\"]\n",
    "PW = loginData[\"pw\"]\n",
    "\n",
    "title_list = []\n",
    "sender_list = []\n",
    "date_list = []\n",
    "download_list =[]"
   ]
  },
  {
   "cell_type": "markdown",
   "metadata": {},
   "source": [
    "# 실행"
   ]
  },
  {
   "cell_type": "markdown",
   "metadata": {},
   "source": [
    "- 1. 페이지 열기 + 로그인"
   ]
  },
  {
   "cell_type": "code",
   "execution_count": null,
   "metadata": {},
   "outputs": [],
   "source": [
    "# 창열기\n",
    "driver = webdriver.Chrome('./driver/chromedriver')\n",
    "driver.get(WEB_URL)\n",
    "driver.maximize_window()\n",
    "\n",
    "fnLogin(ID, PW)\n",
    "driver.find_element_by_class_name('loginBtn').click()"
   ]
  },
  {
   "cell_type": "markdown",
   "metadata": {},
   "source": [
    "- 2. 검색어 입력"
   ]
  },
  {
   "cell_type": "code",
   "execution_count": null,
   "metadata": {},
   "outputs": [],
   "source": [
    "# 클릭: 받은 편지함\n",
    "fnBtnClick('api', \"receiveMail\")\n",
    "\n",
    "# 입력: 메일함 검색\n",
    "INPUT = input(\"[검색어 입력] = \")\n",
    "fnInputKeyword(\"S_search_strKeyword\", INPUT)"
   ]
  },
  {
   "cell_type": "code",
   "execution_count": null,
   "metadata": {},
   "outputs": [],
   "source": [
    "# 배치로 바꿔야할듯\n",
    "\n",
    "def fnDownloadCheck():\n",
    "    try:\n",
    "        print(\"\\t[fn: 다운로드 여부 확인]\", end=\"\")\n",
    "        first_boolean = True\n",
    "        for file in os.listdir(PATH):\n",
    "            if(first_boolean):\n",
    "                print(first_boolean)\n",
    "                first_boolean = False        \n",
    "                print(\" \\t\\t 다운로드 중 = \" + file +\" \")\n",
    "            \n",
    "            if \".crdownload\" in file:\n",
    "                print(\"*\", end=\"\")\n",
    "                time.sleep(0.5) #0.5초뒤 다시 확인\n",
    "                fnDownloadCheck() # 재귀\n",
    "        \n",
    "        print(\"\\t*완료*\")\n",
    "    except Exception as e:\n",
    "        print(\"\\n[오류] fnDownloadCheck()에서 오류가 났습니다. 다시 실행해주세요\")\n",
    "        print(e)"
   ]
  },
  {
   "cell_type": "markdown",
   "metadata": {},
   "source": [
    "- 3. 파일 다운로드"
   ]
  },
  {
   "cell_type": "code",
   "execution_count": null,
   "metadata": {
    "scrolled": true
   },
   "outputs": [],
   "source": [
    "fnSwitchToFrame('mainPanel')\n",
    "\n",
    "total_page = 1\n",
    "elems = driver.find_elements_by_xpath(\"//a[@href]\")\n",
    "\n",
    "last_href = elems[-1].get_attribute(\"href\")\n",
    "if \"goMailListRefresh\" in last_href:\n",
    "    total_page = re.findall(r'\\d+', last_href)[0]\n",
    "print(\"[총 페이지 수] \" + str(total_page))\n",
    "print(\"====================\")\n",
    "\n",
    "i = 1\n",
    "while i < int(total_page) + 1:\n",
    "    try:\n",
    "        print(\"  [페이지]: \" + str(i) + \"/\" + str(total_page))\n",
    "        fnTitleClickPerGroup()\n",
    "        if i != 1:\n",
    "            elem = driver.find_element_by_css_selector(\"a[href*='goMailListRefresh(\" + str(i + 1) + \")']\")\n",
    "            elem.click()\n",
    "        print(\"페이지 끝 = \" + str(i))\n",
    "        i += 1\n",
    "    except Exception as e:\n",
    "        print('pass= ' + str(e))\n",
    "        print(e)"
   ]
  },
  {
   "cell_type": "markdown",
   "metadata": {},
   "source": [
    "- 6. 엑셀 파일로 저장"
   ]
  },
  {
   "cell_type": "code",
   "execution_count": null,
   "metadata": {},
   "outputs": [],
   "source": [
    "# 엑셀 파일 저장\n",
    "from pandas import ExcelWriter\n",
    "print(\"[엑셀] 파일을 저장합니다.\")\n",
    "\n",
    "download_list_df = pd.DataFrame.from_dict(\n",
    "        {\n",
    "        'download_list':download_list,\n",
    "        \"title_list\" : title_list,\n",
    "        \"sender_list\" : sender_list,\n",
    "        \"date_list\" : date_list,\n",
    "            \n",
    "        }\n",
    "    )\n",
    "\n",
    "current_time = time.strftime(\"%Y-%m-%d %H:%M:%S\", time.gmtime() );\n",
    "new_file_name_regexp = re.sub('[\\/:*?\"<>|]','', \"[다운로드]\" + INPUT + \"_\" + str(current_time) )\n",
    "\n",
    "writer = ExcelWriter('/'.join([PATH, new_file_name_regexp + '.xlsx']))\n",
    "download_list_df.to_excel(writer,'다운로드 파일')\n",
    "\n",
    "print(new_file_name_regexp + '.xlsx ', end = '')\n",
    "writer.save()"
   ]
  }
 ],
 "metadata": {
  "kernelspec": {
   "display_name": "Python 3",
   "language": "python",
   "name": "python3"
  },
  "language_info": {
   "codemirror_mode": {
    "name": "ipython",
    "version": 3
   },
   "file_extension": ".py",
   "mimetype": "text/x-python",
   "name": "python",
   "nbconvert_exporter": "python",
   "pygments_lexer": "ipython3",
   "version": "3.7.1"
  }
 },
 "nbformat": 4,
 "nbformat_minor": 2
}
