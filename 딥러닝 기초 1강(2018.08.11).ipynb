{
 "cells": [
  {
   "cell_type": "markdown",
   "metadata": {},
   "source": [
    "# 딥러닝 기초 1강(2018.08.11)\n",
    "***  \n",
    "\n",
    "* __강의 목표__: 수리 기본 및 딥러닝 개념 설명    \n",
    "\n",
    "* __이론__: 도함수, 경사하강법    \n",
    "\n",
    "* __실습__: 경사하강법    \n",
    "\n"
   ]
  },
  {
   "cell_type": "markdown",
   "metadata": {},
   "source": [
    "***\n",
    "\n",
    "# 0.요약\n",
    "\n",
    "1. 도함수    \n",
    "2. 벡터    \n",
    "3. 경사하강법    \n"
   ]
  },
  {
   "cell_type": "code",
   "execution_count": 1,
   "metadata": {},
   "outputs": [],
   "source": [
    "#기본 옵션\n",
    "options(repr.plot.width=4, repr.plot.height=3)"
   ]
  },
  {
   "cell_type": "markdown",
   "metadata": {},
   "source": [
    "# 1. 기본 그래프 그리기"
   ]
  },
  {
   "cell_type": "code",
   "execution_count": 2,
   "metadata": {},
   "outputs": [
    {
     "data": {
      "image/png": "[encoded data removed]",
      "text/plain": [
       "Plot with title \"4*x^3 - 12*x -1\""
      ]
     },
     "metadata": {},
     "output_type": "display_data"
    }
   ],
   "source": [
    "# abline  (a = NULL, b = NULL, h = NULL, v = NULL, ..)    \n",
    "# https://thebook.io/006723/ch06/03/03/\n",
    "\n",
    "# R 기초: 함수 그리고, 점 표시하기\n",
    "eq = function(x){\n",
    "  4*x^3 - 12*x -1\n",
    "}\n",
    "\n",
    "# -3부터 3까지 점을 1000개 뽑기\n",
    "x <- seq(-3, 3, length.out = 1000)\n",
    "plot(x, eq(x), type = 'l', col = \"Blue\", ylab='y', xlab='x', main='4*x^3 - 12*x -1')\n",
    "\n",
    "# x축, y축 만들기\n",
    "abline(v = 0, lty=\"solid\")\n",
    "abline(h = 0, lty=\"solid\")\n",
    "\n",
    "# y=0인 부분 표시\n",
    "lines(1.772303, eq(1.772303), type = 'p') "
   ]
  },
  {
   "cell_type": "markdown",
   "metadata": {},
   "source": [
    "# 2. 파일 불러오는 방법  \n",
    " machine, cost, Gradient\n",
    " 여기서는 실제 계산이 돌아가지 않고, 그냥 함수만 정의  \n",
    " 1.  `machine`은 위에서 경사하강법 실행했던`4*x^3 - 12*x -1`과 동일함\n",
    " 2.  `cost` 는 `(오차 합)^2`의 평균\n",
    " 3.  `Gradient`는 `w`의 변화량, `b`의 변화량을 `training`으로 실시간 대입해줌  "
   ]
  },
  {
   "cell_type": "code",
   "execution_count": 3,
   "metadata": {},
   "outputs": [
    {
     "name": "stdout",
     "output_type": "stream",
     "text": [
      "       score        wage\n",
      "1 -2.0186887 -0.35395741\n",
      "2  0.3488350  0.05626581\n",
      "3  0.7616395  0.35214978\n",
      "4 -1.2887162  0.52468914\n",
      "5  1.4824027  2.31733785\n",
      "6  0.3851548  1.82964766\n"
     ]
    }
   ],
   "source": [
    "#파일 불러오기\n",
    "test_df <- read.csv(\"data1_1.csv\", header = TRUE)\n",
    "\n",
    "#한글 깨져서 영어로 컬럼 값 바꾸기\n",
    "colnames(test_df) <- c(\"score\", \"wage\") \n",
    "x <- test_df[,1] #성적\n",
    "y <- test_df[,2] #임금\n",
    "\n",
    "print(head(test_df)) # 상위 6개만 출력"
   ]
  },
  {
   "cell_type": "markdown",
   "metadata": {},
   "source": [
    "# 3. 머신러닝 함수 구조  \n",
    " machine, cost, Gradient\n"
   ]
  },
  {
   "cell_type": "code",
   "execution_count": 4,
   "metadata": {},
   "outputs": [],
   "source": [
    "#1. Machine: 가장 간단한 형태의 모형, 함수라고 불러도 됨\n",
    "Machine <- function(x, w, b){\n",
    "\ty_hat <- w * x + b\n",
    "\treturn(y_hat)\n",
    "}\n",
    "\n",
    "#2. Cost: Cost를 측정해주는 함수를 만들자.\n",
    "Cost <- function(x, y, w, b){\n",
    "\ty_hat <- Machine(x, w, b) # 위에서 만든 Machine 함수 사용\n",
    "\tloss <- (y - y_hat)^2\n",
    "\tcost <- mean(loss)\n",
    "\treturn(cost)\n",
    "}\n",
    "\n",
    "#3. Gradient: Computational Graph를 사용하여 Gradient를 정확하게 계산할 수 있다.\n",
    "Gradient <- function(x, y, w, b){\n",
    "\ty_hat <- Machine(x,w,b)  # 위에서 만든 Machine 함수 사용\n",
    "\t#Gradient를 근사적으로 구할수도 있다. (그러나 느리고, 정확하지 않다.)\n",
    "\tdw <- mean(-2 * x * (y-y_hat)) #(Cost(x, y, w + 0.0001, b) - Cost(x, y, w, b))/0.0001\n",
    "\tdb <- mean(-2 * (y-y_hat))     #(Cost(x, y, w, b + 0.0001) - Cost(x, y, w, b))/0.0001 \n",
    "\tgrad <- list(dw = dw, db = db) #R의 list 함수가 익숙하지 않다면 사용법을 검색하여 숙지하라.\n",
    "\treturn(grad)\n",
    "}"
   ]
  },
  {
   "cell_type": "markdown",
   "metadata": {},
   "source": [
    "# 4. 경사하강법  \n",
    " error를 줄일 수 있는 방향으로 학습하는 학습법\n",
    " \n",
    " 1.  `machine(모델`은 위에서 경사하강법 실행할 `wx+b`\n",
    " 2.  `cost` 는 `(오차 합)^2`의 평균\n",
    " 3.  `Gradient`는 `w`의 변화량, `b`의 변화량을 `training`으로 실시간 대입해줌  \n",
    " 4. `f(x) = wx + b`의 변수인 `w`, `b`를 찾는 것; `Parametric Approach"
   ]
  },
  {
   "cell_type": "code",
   "execution_count": 5,
   "metadata": {},
   "outputs": [
    {
     "data": {
      "image/png": "[encoded data removed]",
      "text/plain": [
       "plot without title"
      ]
     },
     "metadata": {},
     "output_type": "display_data"
    }
   ],
   "source": [
    "# 1. 초기값 설정\n",
    "learning_rate <- 0.01 \n",
    "w <- 100 # 초깃값을 바꾸어 가며 학습을 관찰해보자\n",
    "b <- -10 \n",
    "cost_basket <- NULL\n",
    "\n",
    "#2.  점 그리고\n",
    "plot(x, y, pch = 19, col = 'black') \n",
    "\n",
    "#3. 1000개 그렸을 \n",
    "for(i in 1:1000){\n",
    "  grad <- Gradient(x, y, w, b)\n",
    "  w <- w - learning_rate * grad$dw\n",
    "  b <- b - learning_rate * grad$db\n",
    "\n",
    "    if(i==1){\n",
    "        abline(b, w, lwd = 3, col=\"blue\")\n",
    "    } else if(i==1000){\n",
    "        abline(b, w, lwd = 3, col=\"red\") \n",
    "    } else{\n",
    "        abline(b, w, lwd = 0.1, col=\"grey\")\n",
    "    }\n",
    "  cost_basket[i] <- Cost(x, y, w, b)\n",
    "}\n",
    "\n",
    "# 4. x,y축은 마지막에 놔야지 가장 앞에 배치됨(단그러면 색깔 선들 뒤에 있음)\n",
    "abline(v = 0, lty=\"solid\") # y축 만들기\n",
    "abline(h = 0, lty=\"solid\") # x축 만들\n"
   ]
  },
  {
   "cell_type": "code",
   "execution_count": 6,
   "metadata": {},
   "outputs": [
    {
     "data": {
      "image/png": "[encoded data removed]",
      "text/plain": [
       "plot without title"
      ]
     },
     "metadata": {},
     "output_type": "display_data"
    }
   ],
   "source": [
    "# cost가 줄어드는 추세\n",
    "plot(cost_basket, type = 'l', lwd = 3)"
   ]
  },
  {
   "cell_type": "markdown",
   "metadata": {},
   "source": [
    "# 5. 경사하강법 함수 설명\n",
    "특정 시점에서 cost가 쭉 줄어든다.  \n",
    "cost는 loss의 평균  \n",
    "loss는 (기대값 - 실제값)^2 (보통 제곱함)  \n",
    "기대값은 모델로 돌린것  \n",
    "\n",
    "1. __모델(machine)__   \n",
    "`Machine <- function(x, w, b){\n",
    "\ty_hat <- w * x + b\n",
    "\treturn(y_hat)\n",
    "}`  \n",
    "여기에서 `wx+b`라는 모델을 사용했고, `y_hat`이라는 기대값을 얻어냈음  \n",
    "    \n",
    "    \n",
    "2. __cost__  \n",
    "`Cost <- function(x, y, w, b){\n",
    "    y_hat <- Machine(x, w, b) # 위에서 만든 Machine 함수 사용\n",
    "    loss <- (y - y_hat)^2\n",
    "    cost <- mean(loss)\n",
    "    return(cost)\n",
    "}`\n",
    "\n",
    "    `y_hat`에 또 `모델`을 넣어서 계산하는데 이게 `학습`  \n",
    "    `wx+b`니까 `w`랑 `b`를 새롭게 계산줌  \n",
    "  \n",
    "    \n",
    "    \n",
    "3. __경사하강법__  \n",
    "`Gradient <- function(x, y, w, b){\n",
    "\ty_hat <- Machine(x,w,b)  # 위에서 만든 Machine 함수 사용\n",
    "\tdw <- mean(-2 * x * (y-y_hat)) \n",
    "\tdb <- mean(-2 * (y-y_hat))  \n",
    "\tgrad <- list(dw = dw, db = db)\n",
    "\treturn(grad)\n",
    "}`\n",
    "\n",
    "`dw`는 w가 변하는 정도, `db`는 b가 변하는 정도, 다음 시간에 도함수로 계산하는 법 배움  \n",
    "\n"
   ]
  },
  {
   "cell_type": "markdown",
   "metadata": {},
   "source": [
    "__2강에서 배울 내용__  \n",
    "\n",
    "`경사하강법` 모델 자세히 설명  \n"
   ]
  }
 ],
 "metadata": {
  "kernelspec": {
   "display_name": "R",
   "language": "R",
   "name": "ir"
  },
  "language_info": {
   "codemirror_mode": "r",
   "file_extension": ".r",
   "mimetype": "text/x-r-source",
   "name": "R",
   "pygments_lexer": "r",
   "version": "3.5.1"
  }
 },
 "nbformat": 4,
 "nbformat_minor": 2
}
