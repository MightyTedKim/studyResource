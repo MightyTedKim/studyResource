{
 "cells": [
  {
   "cell_type": "code",
   "execution_count": 14,
   "metadata": {},
   "outputs": [],
   "source": [
    "# coding=utf-8\n",
    "import json\n",
    "import re\n",
    "import urllib.request\n",
    "import datetime\n",
    "\n",
    "import pandas as pd\n",
    "import numpy as np\n",
    "import matplotlib.pyplot as plt\n",
    "%matplotlib inline\n",
    "\n",
    "import csv\n",
    "import os\n",
    "import sqlite3\n",
    "\n",
    "import platform\n",
    "from matplotlib import font_manager, rc\n",
    "\n",
    "plt.rcParams['axes.unicode_minus'] = False\n",
    "\n",
    "if platform.system() == 'Darwin':\n",
    "    rc('font', family='AppleGothic')\n",
    "elif platform.system() =='Windows':\n",
    "    path=\"c:/Windows/fonts/malgun.ttf\"\n",
    "    font_name = font_manager.FontProperties(fname=path).get_name()\n",
    "    rc('font', family=font_name)\n",
    "else:\n",
    "    print('Unknown system.. sorry')"
   ]
  },
  {
   "cell_type": "code",
   "execution_count": 15,
   "metadata": {},
   "outputs": [],
   "source": [
    "client_id = \"5GMyBAkCtJK7apyvTNoN\"\n",
    "client_secret = \"5KoYygDBTg\""
   ]
  },
  {
   "cell_type": "code",
   "execution_count": 16,
   "metadata": {},
   "outputs": [],
   "source": [
    "def get_request_url(url): # url 받아서 연결\n",
    "    #print(\">###get_request_url()###\")\n",
    "    req = urllib.request.Request(url)\n",
    "    req.add_header(\"X-Naver-Client-Id\", client_id)\n",
    "    req.add_header(\"X-Naver-Client-Secret\", client_secret)\n",
    "    try:\n",
    "        response = urllib.request.urlopen(req)\n",
    "        if response.getcode() == 200:\n",
    "            print(\"[%s] Url Request Success\" % datetime.datetime.now())\n",
    "            return response.read().decode('utf-8')\n",
    "    except Exception as e:\n",
    "        print(e)\n",
    "        print(\"[%s] Error for URL : %s\" % (datetime.datetime.now(), url))\n",
    "        return None"
   ]
  },
  {
   "cell_type": "code",
   "execution_count": 17,
   "metadata": {},
   "outputs": [],
   "source": [
    "def getNaverSearchResult(sNode, search_text, page_start, display): # url 합치고 연결하도록 get_request_url 호출\n",
    "    #print(\">###getNaverSearchResult()###\")\n",
    "    base = \"https://openapi.naver.com/v1/search\"\n",
    "    node = \"/%s.json\" % sNode\n",
    "    parameters = \"?query=%s&start=%s&display=%s\" % (urllib.parse.quote(search_text), page_start, display)\n",
    "    url = base + node + parameters\n",
    "\n",
    "    retData = get_request_url(url)    \n",
    "    if (retData == None):\n",
    "        print(\"<getNaverSearchResult, retData> 없음, none 리턴\")\n",
    "        return None\n",
    "    else:\n",
    "        # print(\"<getNaverSearchResult, retData > 있음, retData 리턴 \")\n",
    "        return json.loads(retData)"
   ]
  },
  {
   "cell_type": "code",
   "execution_count": 18,
   "metadata": {},
   "outputs": [],
   "source": [
    "def getPostData(post, data_list): # json 형식으로 받은 데이터 리스트로 누적해서 저장\n",
    "    #print(\">###getPostData()###\")\n",
    "    title = post['title']\n",
    "    description = post['description']\n",
    "    org_link = post['originallink']\n",
    "    link = post['link']\n",
    "\n",
    "    pDate = datetime.datetime.strptime(post['pubDate'], '%a, %d %b %Y %H:%M:%S +0900')     # Tue, 14 Feb 2017 18:46:00 +0900\n",
    "    pDate = pDate.strftime('%Y-%m-%d %H:%M:%S')\n",
    "    \n",
    "    list_temp = [title, description, org_link, link, pDate]\n",
    "    data_list.append(list_temp)\n",
    "    return"
   ]
  },
  {
   "cell_type": "code",
   "execution_count": 19,
   "metadata": {},
   "outputs": [],
   "source": [
    "def save_sqlite(db_filename, data_list):\n",
    "    #db 연결\n",
    "    db = sqlite3.connect(db_filename + \".db\")\n",
    "    cur = db.cursor()\n",
    "    \n",
    "    db_is_new = not os.path.exists(db_filename)\n",
    "    conn = sqlite3.connect(db_filename)\n",
    "\n",
    "    if db_is_new:\n",
    "        print(db_filename, \"db 생성\")\n",
    "    else:\n",
    "        print('이미 db 생성')\n",
    "\n",
    "    # 테이블 생성\n",
    "    cur.execute(\"Drop table if exists %s\" % (keyword))\n",
    "    cur.execute(\"create table %s (title text, description text, org_link text, link text, date text)\" % (keyword))\n",
    "    print(\"%s table 생성\" % (keyword))\n",
    "    \n",
    "    # 테이블에 삽입\n",
    "    sql = 'insert into %s values (?, ?, ?, ?, ?)' % (keyword)\n",
    "    cur.executemany(sql, data_list)\n",
    "    db.commit()\n",
    "    print(\"%s table 삽입 완료\" % (keyword))\n",
    "    \n",
    "    # dataframe으로 저장\n",
    "    cur.execute('select * from %s' %(keyword))\n",
    "    info_temp = cur.fetchall()\n",
    "    df = pd.DataFrame(info_temp,columns=['title','description','org_link','link', 'date'])\n",
    "    \n",
    "    db.close()\n",
    "    return df\n",
    " "
   ]
  },
  {
   "cell_type": "code",
   "execution_count": 20,
   "metadata": {},
   "outputs": [],
   "source": [
    "def main(keyword):\n",
    "    print(\">###main()###\")\n",
    "    # parmas\n",
    "    sNode = 'news'\n",
    "    search_text = keyword\n",
    "    nStart = 1\n",
    "    display_count = 100\n",
    "\n",
    "    # empty list\n",
    "    data_list = []\n",
    "\n",
    "    while( (nStart< 1000)):\n",
    "        # bring data with url\n",
    "        print(\"nStart= \", nStart)\n",
    "        jsonSearch = getNaverSearchResult(sNode, search_text, nStart, display_count)\n",
    "        if jsonSearch == None:\n",
    "            print(\"검색이 되지 않습니다. \")\n",
    "            break\n",
    "        elif jsonSearch['display'] == 0:\n",
    "            print(\"더 이상 검색이 되지 않습니다. display value is 0 \")\n",
    "            break\n",
    "        # parse data with loop\n",
    "        for post in jsonSearch['items']: \n",
    "            # save json result in a data_list\n",
    "            getPostData(post, data_list)\n",
    "\n",
    "        # make new nstart int value for loop: 1 + 100, 101 + 100\n",
    "        nStart = jsonSearch['start'] + jsonSearch['display'] \n",
    "    print(\"검색이 완료 되었습니다.\\n\")\n",
    "    return data_list"
   ]
  },
  {
   "cell_type": "code",
   "execution_count": 21,
   "metadata": {},
   "outputs": [
    {
     "name": "stdout",
     "output_type": "stream",
     "text": [
      "검색할 키워드 입력 => 오티스 엘리베이터\n",
      ">###main()###\n",
      "nStart=  1\n",
      "[2018-10-01 18:57:57.170491] Url Request Success\n",
      "nStart=  101\n",
      "[2018-10-01 18:57:57.383208] Url Request Success\n",
      "nStart=  201\n",
      "[2018-10-01 18:57:57.504882] Url Request Success\n",
      "nStart=  301\n",
      "[2018-10-01 18:57:57.696743] Url Request Success\n",
      "nStart=  401\n",
      "[2018-10-01 18:57:57.790450] Url Request Success\n",
      "nStart=  501\n",
      "[2018-10-01 18:57:57.973882] Url Request Success\n",
      "nStart=  601\n",
      "[2018-10-01 18:57:58.191350] Url Request Success\n",
      "nStart=  701\n",
      "[2018-10-01 18:57:58.297329] Url Request Success\n",
      "nStart=  801\n",
      "[2018-10-01 18:57:58.494931] Url Request Success\n",
      "nStart=  901\n",
      "[2018-10-01 18:57:58.705621] Url Request Success\n",
      "검색이 완료 되었습니다.\n",
      "\n",
      "이미 db 생성\n",
      "\"오티스 엘리베이터\" table 생성\n",
      "\"오티스 엘리베이터\" table 삽입 완료\n",
      "end\n"
     ]
    }
   ],
   "source": [
    "if __name__ == '__main__':\n",
    "    keyword = '\"' + input(\"검색할 키워드 입력 => \") + '\"'\n",
    "    db_filename = \"news_crawling\"\n",
    "\n",
    "    data_list = main(keyword)\n",
    "    df = save_sqlite(db_filename, data_list)\n",
    "    \n",
    "    df.to_csv(\"news_crawling.csv\", encoding='utf-8', index=False)\n",
    "    print(\"end\")\n"
   ]
  },
  {
   "cell_type": "code",
   "execution_count": 30,
   "metadata": {},
   "outputs": [
    {
     "name": "stdout",
     "output_type": "stream",
     "text": [
      "929\n",
      "1000\n"
     ]
    }
   ],
   "source": [
    "temp_df = pd.read_csv('news_crawling.csv')\n",
    "df = temp_df.iloc[:,[0,1,4]]\n",
    "df.sort_values(by=\"date\", ascending=False).head()\n",
    "\n",
    "print(df.title.nunique())\n",
    "print(len(df))"
   ]
  },
  {
   "cell_type": "code",
   "execution_count": 50,
   "metadata": {},
   "outputs": [
    {
     "name": "stderr",
     "output_type": "stream",
     "text": [
      "c:\\bigdeep\\python36\\lib\\site-packages\\konlpy\\tag\\_okt.py:16: UserWarning: \"Twitter\" has changed to \"Okt\" since KoNLPy v0.4.5.\n",
      "  warn('\"Twitter\" has changed to \"Okt\" since KoNLPy v0.4.5.')\n"
     ]
    }
   ],
   "source": [
    "import nltk\n",
    "from konlpy.corpus import kolaw\n",
    "from konlpy.tag import Hannanum; Hannanum = Hannanum()\n",
    "from konlpy.tag import Kkma; Kkma = Kkma()\n",
    "from konlpy.tag import Komoran\n",
    "from konlpy.tag import Mecab\n",
    "from konlpy.tag import Twitter; t = Twitter()"
   ]
  },
  {
   "cell_type": "markdown",
   "metadata": {},
   "source": [
    "# 제목/ 전체로 나눠서 시각화하기"
   ]
  },
  {
   "cell_type": "code",
   "execution_count": 51,
   "metadata": {},
   "outputs": [],
   "source": [
    "# 제목만 먼저 보기\n",
    "temp_df_title = \"\"\n",
    "for i in temp_df[\"title\"]:\n",
    "    temp_df_title += \" \" + i\n",
    "    \n",
    "temp_df_title_ko = Hannanum.nouns(temp_df_title)"
   ]
  },
  {
   "cell_type": "code",
   "execution_count": 78,
   "metadata": {},
   "outputs": [
    {
     "name": "stdout",
     "output_type": "stream",
     "text": [
      "5611\n",
      "2184\n"
     ]
    },
    {
     "data": {
      "text/plain": [
       "FreqDist({'엘리베이터': 139, '>,': 105, '<b>오티스': 97, '현대엘리베이터': 82, '승강기': 80, '오티스,': 79, '사장': 79, '장병우': 71, '>': 64, '오티스': 62, ...})"
      ]
     },
     "execution_count": 78,
     "metadata": {},
     "output_type": "execute_result"
    }
   ],
   "source": [
    "# 토큰 알아보기\n",
    "\n",
    "ko = nltk.Text(temp_df_title_ko)\n",
    "\n",
    "print(len(ko.tokens))       # returns number of tokens (document length)\n",
    "print(len(set(ko.tokens)))  # returns number of unique tokens\n",
    "ko.vocab()                  # returns frequency distribution"
   ]
  },
  {
   "cell_type": "code",
   "execution_count": 64,
   "metadata": {},
   "outputs": [
    {
     "data": {
      "image/png": "[encoded data removed]",
      "text/plain": [
       "<Figure size 864x432 with 1 Axes>"
      ]
     },
     "metadata": {
      "needs_background": "light"
     },
     "output_type": "display_data"
    }
   ],
   "source": [
    "# 그래프로 보기\n",
    "\n",
    "stop_words = ['.', '(', ')', ',', \"'\",'%','_', 'X', ').', 'x', '의', '자', '에', '안','번','호', '을', '이','다', '만','로','가','를', \\\n",
    "             '>,', '<b>', '>', '취', '수', '신']\n",
    "ko = [each_word for each_word in ko if each_word not in stop_words]\n",
    "\n",
    "ko2 = nltk.Text(ko)\n",
    "plt.figure(figsize=(12,6))\n",
    "ko2.plot(50)\n",
    "plt.show()"
   ]
  },
  {
   "cell_type": "code",
   "execution_count": 80,
   "metadata": {},
   "outputs": [
    {
     "data": {
      "text/plain": [
       "[('엘리베이터', 139),\n",
       " ('>,', 105),\n",
       " ('<b>오티스', 97),\n",
       " ('현대엘리베이터', 82),\n",
       " ('승강기', 80),\n",
       " ('오티스,', 79),\n",
       " ('사장', 79),\n",
       " ('장병우', 71),\n",
       " ('>', 64),\n",
       " ('오티스', 62),\n",
       " ('1위', 51),\n",
       " ('신', 49),\n",
       " ('세계', 44),\n",
       " ('내정', 35),\n",
       " ('기업', 33),\n",
       " ('롯데월드타워', 32),\n",
       " ('선정', 31),\n",
       " ('부문', 30),\n",
       " ('고문', 30),\n",
       " ('인천시', 27)]"
      ]
     },
     "execution_count": 80,
     "metadata": {},
     "output_type": "execute_result"
    }
   ],
   "source": [
    "ko2 = nltk.Text(ko)\n",
    "ko2.vocab().most_common(20)"
   ]
  },
  {
   "cell_type": "markdown",
   "metadata": {},
   "source": [
    "경쟁사인 현대 엘리베이터가 보이고,  \n",
    "최근 사장님이 바귀었는지 사장/장병우 이런 명사들이 많이 나온다. 아마 \"세계\", \"1위\"와 같은 이야기를 취임사에 많이 넣으 셨나보다.  \n",
    "\n",
    "롯데우러드타워는 오티스가 한 대표적인 고층 건물이고,   \n",
    "음 그거 말고는 크게 두드러진 것이 없다.\n",
    "\n",
    "그래서 3가지 기능으로 더 알아보려 한다.\n",
    "> collocations  \n",
    " concordance  \n",
    " similar  "
   ]
  },
  {
   "cell_type": "code",
   "execution_count": 81,
   "metadata": {},
   "outputs": [
    {
     "name": "stdout",
     "output_type": "stream",
     "text": [
      "현대엘리베이터 장병우; 오티스 젠투라이프,; '광진 블리스힐'; 유지관리 10만대; 스카이라이즈 제품군; ‘그린슈츠 캠페인’;\n",
      "2017 이노스타'; 엘리베이터 스카이라이즈; 디자인 어워드; 김기영 송산특수엘리베이터; 목적층 선행등록; 자동차 파킹시스템;\n",
      "‘시그니처 서비스’; 안상수 창원시장; 승강기 유지관리; 선행등록 시스템; 초고층 엘리베이터; GeN2, ‘2015; 디자인\n",
      "어워드'; 오티스 젠투다이나믹,\n"
     ]
    }
   ],
   "source": [
    "# 같이 나온 글자\n",
    "ko2.collocations()"
   ]
  },
  {
   "cell_type": "markdown",
   "metadata": {},
   "source": [
    "음.. 같이 묶인것도 특별한게 없다.    \n",
    "장병우 대표이사님이 취임하셨나보다.    \n",
    "  \n",
    "젠투라이프가 밀고 있는 기종이고    \n",
    "유지관리 10만대를 강조하고 싶었나보다   \n",
    "\n",
    "그린슈츠와 캠페인이 많이 나왔다."
   ]
  },
  {
   "cell_type": "code",
   "execution_count": 82,
   "metadata": {},
   "outputs": [
    {
     "name": "stdout",
     "output_type": "stream",
     "text": [
      "Displaying 5 of 5 matches:\n",
      "리 대비 [잡식]언젠간 쓸모 지 지식 18 <b>오티스 > 코리아, 그린슈츠 캠페인 진행 오티스, 지역 아동센터 엘리베이터 전 교육 <b>오티스\n",
      "오티스, 지역 아동센터 엘리베이터 전 교육 <b>오티스 > 코리아, 그린슈츠 캠페인 진행 <b>오티스 >, ‘그린슈츠 캠페인’ 진행 <b>오티스\n",
      "들 엘리베이터 교육 &quot;엘리베이터 안전하게&quot; 오티스 그린슈츠 캠페인 <b>오티스 >, ‘그린슈츠 캠페인’ 실시 >, 어린이 안전\n",
      "교육 ‘그린슈츠’ 진행 오티스 코리아, 안전한 엘리베이터 이용 교육 그린슈츠 프로그램 런칭 오티스코리아, '그린슈츠 프로그램 런칭… 확대 세계 \n",
      " 안전한 승강기 이용 사회공헌활동 런칭 오티스 안전 승강기 이용교육 그린슈츠 진행 오티스 코리아, 안전한 엘리베이터 이용 교육…그린슈츠 프로그램\n"
     ]
    }
   ],
   "source": [
    "ko2.concordance('그린슈츠')"
   ]
  },
  {
   "cell_type": "markdown",
   "metadata": {},
   "source": [
    "봉사활동의 보도자료다"
   ]
  },
  {
   "cell_type": "code",
   "execution_count": 83,
   "metadata": {},
   "outputs": [
    {
     "name": "stdout",
     "output_type": "stream",
     "text": [
      "Displaying 7 of 7 matches:\n",
      "용 오티스 전세계 승강기 정보 연결…‘커넥티드 디지털 생태계’ 구축 김기영 송산특수엘리베이터 대표 &quot;승강기산업 주권 찾는다&quot;\n",
      "단 하이테크 산업 세계 유일 승강기 대학 세계 1등 기술 수출 가속 김기영 송산특수엘리베이터 대표 | [올부 이야기⑨] 30년 엘리베이터맨, \n",
      "티스 젠투다이나믹, 플랫벨트 적용 시 위험 [박순욱 기업 탐방 34 김기영 송산특수엘리베이터 대표 | 300명 탑승 헬스케어타운 제2 제주공항\n",
      "송산특수엘리베이터] 세계최초 500명 탑승 엘리베이터 개발 [핌톡] 김기영 한국엘리베이터 협회장 한탄 전세계 기술‘골리앗 엘리베이터’ 승부 김\n",
      "영 한국엘리베이터 협회장 한탄 전세계 기술‘골리앗 엘리베이터’ 승부 김기영 송산특수엘리베이 김기영 한국엘리베이터협회장, “중국산 점령한 엘리베\n",
      " 한탄 전세계 기술‘골리앗 엘리베이터’ 승부 김기영 송산특수엘리베이 김기영 한국엘리베이터협회장, “중국산 점령한 엘리베이터 시장 기술력 &qu\n",
      "행 불참 >, 승강기 유지보수시장 1위 [CEO&amp;Story] 김기영 송산특수엘리베이터 대표 창원국가산업단지 투자 불황타개 2015 춘계\n"
     ]
    }
   ],
   "source": [
    "ko2.concordance('김기영')"
   ]
  },
  {
   "cell_type": "markdown",
   "metadata": {},
   "source": [
    "김기영이라는 분이 오티스 출신으로 송산특수엘리베이터에서 높으신 분인가보다. "
   ]
  },
  {
   "cell_type": "code",
   "execution_count": 84,
   "metadata": {},
   "outputs": [
    {
     "name": "stdout",
     "output_type": "stream",
     "text": [
      "신 사장 적극 대표 선 내정 케네스\n"
     ]
    }
   ],
   "source": [
    "ko2.similar('장병우')"
   ]
  },
  {
   "cell_type": "markdown",
   "metadata": {},
   "source": [
    "장병우 대표님이 사장으로 내정되셨고, 적극적으로 세계화 시대에 노력하겠다는 이야기를 많이 하셨나보다.  "
   ]
  },
  {
   "cell_type": "code",
   "execution_count": 99,
   "metadata": {},
   "outputs": [
    {
     "data": {
      "image/png": "[encoded data removed]",
      "text/plain": [
       "<Figure size 864x432 with 1 Axes>"
      ]
     },
     "metadata": {
      "needs_background": "light"
     },
     "output_type": "display_data"
    }
   ],
   "source": [
    "plt.figure(figsize=(12,6))\n",
    "ko2.dispersion_plot(['엘리베이터', '오티스', '장병우'])"
   ]
  },
  {
   "cell_type": "markdown",
   "metadata": {},
   "source": [
    "총 5000개 정도의 글자가 추출되었는데 엘리베이터라는 키워드가 많다.  \n",
    "이제 워드 클라우드로 함 만들어보려한다.\n",
    "좀 더 다듬어야 하는데 일단 이렇게 할란다. "
   ]
  },
  {
   "cell_type": "code",
   "execution_count": 89,
   "metadata": {},
   "outputs": [
    {
     "data": {
      "image/png": "[encoded data removed]",
      "text/plain": [
       "<Figure size 864x576 with 1 Axes>"
      ]
     },
     "metadata": {
      "needs_background": "light"
     },
     "output_type": "display_data"
    }
   ],
   "source": [
    "from wordcloud import WordCloud, STOPWORDS\n",
    "from PIL import Image\n",
    "\n",
    "data = ko2.vocab().most_common(150)\n",
    "\n",
    "wordcloud = WordCloud(font_path='/Library/Fonts/malgun.ttf',\n",
    "                    relative_scaling = 0.2,\n",
    "                    background_color='white',\n",
    "        ).generate_from_frequencies(dict(data))\n",
    "\n",
    "plt.figure(figsize=(12,8))\n",
    "plt.imshow(wordcloud)\n",
    "plt.axis(\"off\")\n",
    "plt.show()"
   ]
  },
  {
   "cell_type": "markdown",
   "metadata": {},
   "source": [
    "### 제목 말고 내용까지 고려해보려한다.  \n",
    "- 단 기사의 전문을 가져온 것이 아니라, 첫 문단만 가져왔다.  네이버 API 사용해서  "
   ]
  },
  {
   "cell_type": "code",
   "execution_count": 91,
   "metadata": {},
   "outputs": [
    {
     "data": {
      "text/plain": [
       "['현대', '상반기', '엘리베이터', '시공', '넘버']"
      ]
     },
     "execution_count": 91,
     "metadata": {},
     "output_type": "execute_result"
    }
   ],
   "source": [
    "# 데이터 합치고\n",
    "temp_df_total = \"\"\n",
    "for i in temp_df[\"title\"]:\n",
    "    temp_df_total += \" \" + i\n",
    "\n",
    "for i in temp_df[\"description\"]:\n",
    "    temp_df_total += \" \" + i    \n",
    "    \n",
    "temp_df_total_ko = Hannanum.nouns(temp_df_total)\n",
    "temp_df_total_ko[:5]"
   ]
  },
  {
   "cell_type": "code",
   "execution_count": 92,
   "metadata": {},
   "outputs": [
    {
     "name": "stdout",
     "output_type": "stream",
     "text": [
      "25362\n",
      "5741\n"
     ]
    },
    {
     "data": {
      "text/plain": [
       "FreqDist({'>': 836, '<b>오티스': 545, '엘리베이터': 528, '등': 352, '사장': 330, '현대엘리베이터': 254, '승강기': 229, '코리아': 212, '오티스': 200, '>,': 198, ...})"
      ]
     },
     "execution_count": 92,
     "metadata": {},
     "output_type": "execute_result"
    }
   ],
   "source": [
    "ko = nltk.Text(temp_df_total_ko)\n",
    "\n",
    "print(len(ko.tokens))\n",
    "print(len(set(ko.tokens)))\n",
    "ko.vocab()\n"
   ]
  },
  {
   "cell_type": "code",
   "execution_count": 98,
   "metadata": {},
   "outputs": [
    {
     "data": {
      "image/png": "[encoded data removed]",
      "text/plain": [
       "<Figure size 864x432 with 1 Axes>"
      ]
     },
     "metadata": {
      "needs_background": "light"
     },
     "output_type": "display_data"
    }
   ],
   "source": [
    "stop_words = ['.', '(', ')', ',', \"'\",'%','_', 'X', ').', 'x', '의', '자', '에', '안','번','호', '을', '이','다', '만','로','가','를', \\\n",
    "             '>,', '<b>', '>', '취']\n",
    "ko = [each_word for each_word in ko if each_word not in stop_words]\n",
    "\n",
    "ko2 = nltk.Text(ko)\n",
    "plt.figure(figsize=(12,6))\n",
    "ko2.plot(50)\n",
    "plt.show()"
   ]
  },
  {
   "cell_type": "code",
   "execution_count": 100,
   "metadata": {},
   "outputs": [
    {
     "data": {
      "image/png": "[encoded data removed]",
      "text/plain": [
       "<Figure size 864x432 with 1 Axes>"
      ]
     },
     "metadata": {
      "needs_background": "light"
     },
     "output_type": "display_data"
    }
   ],
   "source": [
    "plt.figure(figsize=(12,6))\n",
    "ko2.dispersion_plot(['오티스', '사고', '사망', '위험', '불만'])"
   ]
  },
  {
   "cell_type": "markdown",
   "metadata": {},
   "source": [
    "사고, 사망, 위험, 불만 같은 키워드는 간혹 있는 것 같다.\n",
    "저것이 무엇인지는 DB 들어가서 보면 될듯"
   ]
  },
  {
   "cell_type": "code",
   "execution_count": 112,
   "metadata": {
    "scrolled": true
   },
   "outputs": [
    {
     "data": {
      "text/html": [
       "<div>\n",
       "<style scoped>\n",
       "    .dataframe tbody tr th:only-of-type {\n",
       "        vertical-align: middle;\n",
       "    }\n",
       "\n",
       "    .dataframe tbody tr th {\n",
       "        vertical-align: top;\n",
       "    }\n",
       "\n",
       "    .dataframe thead th {\n",
       "        text-align: right;\n",
       "    }\n",
       "</style>\n",
       "<table border=\"1\" class=\"dataframe\">\n",
       "  <thead>\n",
       "    <tr style=\"text-align: right;\">\n",
       "      <th></th>\n",
       "      <th>title</th>\n",
       "      <th>description</th>\n",
       "      <th>org_link</th>\n",
       "      <th>link</th>\n",
       "      <th>date</th>\n",
       "    </tr>\n",
       "  </thead>\n",
       "  <tbody>\n",
       "    <tr>\n",
       "      <th>43</th>\n",
       "      <td>벤처·과학기술계 &amp;quot;데이터 개방&amp;quot; 촉구</td>\n",
       "      <td>주제 발표를 맡은 이민화 벤처기업협회 명예 회장은 &amp;quot;&lt;b&gt;오티스 엘리베이터...</td>\n",
       "      <td>http://www.newstomato.com/ReadNews.aspx?no=803802</td>\n",
       "      <td>http://www.newstomato.com/ReadNews.aspx?no=803802</td>\n",
       "      <td>2018-01-31 17:32:00</td>\n",
       "    </tr>\n",
       "    <tr>\n",
       "      <th>213</th>\n",
       "      <td>홍콩서 4층 높이 에스컬레이터 역주행해 18명 부상…2명 체포</td>\n",
       "      <td>경찰은 엘리베이터 제조업체 &lt;b&gt;오티스 엘리베이터&lt;/b&gt; 컴퍼니의 직원 2명을 체포...</td>\n",
       "      <td>http://app.yonhapnews.co.kr/YNA/Basic/SNS/r.as...</td>\n",
       "      <td>https://news.naver.com/main/read.nhn?mode=LSD&amp;...</td>\n",
       "      <td>2017-03-28 00:14:00</td>\n",
       "    </tr>\n",
       "    <tr>\n",
       "      <th>281</th>\n",
       "      <td>&amp;quot;1초에 21미터&amp;quot;…초고속에 멀티 엘리베이터까지</td>\n",
       "      <td>▶ 인터뷰 : 이은영 / &lt;b&gt;오티스엘리베이터&lt;/b&gt; 부장 - &amp;quot;지진이 발...</td>\n",
       "      <td>http://www.mbn.co.kr/pages/vod/programView.mbn...</td>\n",
       "      <td>https://news.naver.com/main/read.nhn?mode=LSD&amp;...</td>\n",
       "      <td>2016-11-17 20:09:00</td>\n",
       "    </tr>\n",
       "    <tr>\n",
       "      <th>284</th>\n",
       "      <td>&amp;quot;1초에 21미터&amp;quot;…초고속에 멀티 엘리베이터까지</td>\n",
       "      <td>▶ 인터뷰 : 이은영 / &lt;b&gt;오티스엘리베이터&lt;/b&gt; 부장 - &amp;quot;지진이 발...</td>\n",
       "      <td>http://mbn.mk.co.kr/pages/news/newsView.php?ca...</td>\n",
       "      <td>https://news.naver.com/main/read.nhn?mode=LSD&amp;...</td>\n",
       "      <td>2016-11-17 19:43:00</td>\n",
       "    </tr>\n",
       "    <tr>\n",
       "      <th>348</th>\n",
       "      <td>승강기 보수 최저가입찰제 폐지…현대엘리베이터에 호재</td>\n",
       "      <td>그동안 현대엘리베이터와 &lt;b&gt;오티스엘리베이터&lt;/b&gt; 등 승강기업계에서는 유지관리 최...</td>\n",
       "      <td>http://news1.kr/articles/?2750529</td>\n",
       "      <td>https://news.naver.com/main/read.nhn?mode=LSD&amp;...</td>\n",
       "      <td>2016-08-19 06:00:00</td>\n",
       "    </tr>\n",
       "  </tbody>\n",
       "</table>\n",
       "</div>"
      ],
      "text/plain": [
       "                                    title  \\\n",
       "43         벤처·과학기술계 &quot;데이터 개방&quot; 촉구   \n",
       "213    홍콩서 4층 높이 에스컬레이터 역주행해 18명 부상…2명 체포   \n",
       "281  &quot;1초에 21미터&quot;…초고속에 멀티 엘리베이터까지   \n",
       "284  &quot;1초에 21미터&quot;…초고속에 멀티 엘리베이터까지   \n",
       "348          승강기 보수 최저가입찰제 폐지…현대엘리베이터에 호재   \n",
       "\n",
       "                                           description  \\\n",
       "43   주제 발표를 맡은 이민화 벤처기업협회 명예 회장은 &quot;<b>오티스 엘리베이터...   \n",
       "213  경찰은 엘리베이터 제조업체 <b>오티스 엘리베이터</b> 컴퍼니의 직원 2명을 체포...   \n",
       "281  ▶ 인터뷰 : 이은영 / <b>오티스엘리베이터</b> 부장 - &quot;지진이 발...   \n",
       "284  ▶ 인터뷰 : 이은영 / <b>오티스엘리베이터</b> 부장 - &quot;지진이 발...   \n",
       "348  그동안 현대엘리베이터와 <b>오티스엘리베이터</b> 등 승강기업계에서는 유지관리 최...   \n",
       "\n",
       "                                              org_link  \\\n",
       "43   http://www.newstomato.com/ReadNews.aspx?no=803802   \n",
       "213  http://app.yonhapnews.co.kr/YNA/Basic/SNS/r.as...   \n",
       "281  http://www.mbn.co.kr/pages/vod/programView.mbn...   \n",
       "284  http://mbn.mk.co.kr/pages/news/newsView.php?ca...   \n",
       "348                  http://news1.kr/articles/?2750529   \n",
       "\n",
       "                                                  link                 date  \n",
       "43   http://www.newstomato.com/ReadNews.aspx?no=803802  2018-01-31 17:32:00  \n",
       "213  https://news.naver.com/main/read.nhn?mode=LSD&...  2017-03-28 00:14:00  \n",
       "281  https://news.naver.com/main/read.nhn?mode=LSD&...  2016-11-17 20:09:00  \n",
       "284  https://news.naver.com/main/read.nhn?mode=LSD&...  2016-11-17 19:43:00  \n",
       "348  https://news.naver.com/main/read.nhn?mode=LSD&...  2016-08-19 06:00:00  "
      ]
     },
     "execution_count": 112,
     "metadata": {},
     "output_type": "execute_result"
    }
   ],
   "source": [
    "temp_df[temp_df['description'].str.contains(\"사고\")].head()"
   ]
  },
  {
   "cell_type": "markdown",
   "metadata": {},
   "source": [
    "2018년에 나온 '사고'는 사고를 예방한다의 사고 였다."
   ]
  },
  {
   "cell_type": "code",
   "execution_count": 113,
   "metadata": {},
   "outputs": [
    {
     "data": {
      "text/html": [
       "<div>\n",
       "<style scoped>\n",
       "    .dataframe tbody tr th:only-of-type {\n",
       "        vertical-align: middle;\n",
       "    }\n",
       "\n",
       "    .dataframe tbody tr th {\n",
       "        vertical-align: top;\n",
       "    }\n",
       "\n",
       "    .dataframe thead th {\n",
       "        text-align: right;\n",
       "    }\n",
       "</style>\n",
       "<table border=\"1\" class=\"dataframe\">\n",
       "  <thead>\n",
       "    <tr style=\"text-align: right;\">\n",
       "      <th></th>\n",
       "      <th>title</th>\n",
       "      <th>description</th>\n",
       "      <th>org_link</th>\n",
       "      <th>link</th>\n",
       "      <th>date</th>\n",
       "    </tr>\n",
       "  </thead>\n",
       "  <tbody>\n",
       "    <tr>\n",
       "      <th>664</th>\n",
       "      <td>[광화문 광장-브래들리 벅월터]안전에 투자하라</td>\n",
       "      <td>한국에 와서 얼마 되지 않았을 때, 당시 &lt;b&gt;오티스엘리베이터&lt;/b&gt;에서 근무하고 ...</td>\n",
       "      <td>http://biz.heraldcorp.com/view.php?ud=20150519...</td>\n",
       "      <td>https://news.naver.com/main/read.nhn?mode=LSD&amp;...</td>\n",
       "      <td>2015-05-19 11:03:00</td>\n",
       "    </tr>\n",
       "  </tbody>\n",
       "</table>\n",
       "</div>"
      ],
      "text/plain": [
       "                         title  \\\n",
       "664  [광화문 광장-브래들리 벅월터]안전에 투자하라   \n",
       "\n",
       "                                           description  \\\n",
       "664  한국에 와서 얼마 되지 않았을 때, 당시 <b>오티스엘리베이터</b>에서 근무하고 ...   \n",
       "\n",
       "                                              org_link  \\\n",
       "664  http://biz.heraldcorp.com/view.php?ud=20150519...   \n",
       "\n",
       "                                                  link                 date  \n",
       "664  https://news.naver.com/main/read.nhn?mode=LSD&...  2015-05-19 11:03:00  "
      ]
     },
     "execution_count": 113,
     "metadata": {},
     "output_type": "execute_result"
    }
   ],
   "source": [
    "temp_df[temp_df['description'].str.contains(\"사망\")].head()"
   ]
  },
  {
   "cell_type": "markdown",
   "metadata": {},
   "source": [
    "이거는 새로 취임한 사장님이 예전에 한국 사망사고 급하게 하느라 있었다고 자기는 안 그럴 거라고 하는 내용이다."
   ]
  },
  {
   "cell_type": "code",
   "execution_count": 115,
   "metadata": {},
   "outputs": [
    {
     "data": {
      "text/html": [
       "<div>\n",
       "<style scoped>\n",
       "    .dataframe tbody tr th:only-of-type {\n",
       "        vertical-align: middle;\n",
       "    }\n",
       "\n",
       "    .dataframe tbody tr th {\n",
       "        vertical-align: top;\n",
       "    }\n",
       "\n",
       "    .dataframe thead th {\n",
       "        text-align: right;\n",
       "    }\n",
       "</style>\n",
       "<table border=\"1\" class=\"dataframe\">\n",
       "  <thead>\n",
       "    <tr style=\"text-align: right;\">\n",
       "      <th></th>\n",
       "      <th>title</th>\n",
       "      <th>description</th>\n",
       "      <th>org_link</th>\n",
       "      <th>link</th>\n",
       "      <th>date</th>\n",
       "    </tr>\n",
       "  </thead>\n",
       "  <tbody>\n",
       "    <tr>\n",
       "      <th>631</th>\n",
       "      <td>칠곡군 승강기 승객구조훈련 실시</td>\n",
       "      <td>이번 훈련은 군이 주관하고 칠곡소방서, 승강기 안전관리원, &lt;b&gt;오티스 엘리베이터&lt;...</td>\n",
       "      <td>http://www.hidomin.com/news/articleView.html?i...</td>\n",
       "      <td>http://www.hidomin.com/news/articleView.html?i...</td>\n",
       "      <td>2015-10-22 01:01:00</td>\n",
       "    </tr>\n",
       "    <tr>\n",
       "      <th>633</th>\n",
       "      <td>달성군, '2015 승강기 갇힘사고 승객구조훈련' 실시</td>\n",
       "      <td>달성군이 주관하고 달성군 시설관리공단, 달성소방서, 승강기 안전관리원, &lt;b&gt;오티스...</td>\n",
       "      <td>http://www.anewsa.com/detail.php?number=905976...</td>\n",
       "      <td>http://www.anewsa.com/detail.php?number=905976...</td>\n",
       "      <td>2015-10-18 09:51:00</td>\n",
       "    </tr>\n",
       "    <tr>\n",
       "      <th>829</th>\n",
       "      <td>기업의 미래전략 중점 평가…2013글로벌 스탠더드 경영대상</td>\n",
       "      <td>안전경영대상에는 &lt;b&gt;오티스 엘리베이터&lt;/b&gt; 코리아가 국내 최초 24시간 엘리베이...</td>\n",
       "      <td>http://www.econovill.com/archives/130018</td>\n",
       "      <td>http://www.econovill.com/archives/130018</td>\n",
       "      <td>2013-10-28 11:50:00</td>\n",
       "    </tr>\n",
       "  </tbody>\n",
       "</table>\n",
       "</div>"
      ],
      "text/plain": [
       "                                title  \\\n",
       "631                 칠곡군 승강기 승객구조훈련 실시   \n",
       "633    달성군, '2015 승강기 갇힘사고 승객구조훈련' 실시   \n",
       "829  기업의 미래전략 중점 평가…2013글로벌 스탠더드 경영대상   \n",
       "\n",
       "                                           description  \\\n",
       "631  이번 훈련은 군이 주관하고 칠곡소방서, 승강기 안전관리원, <b>오티스 엘리베이터<...   \n",
       "633  달성군이 주관하고 달성군 시설관리공단, 달성소방서, 승강기 안전관리원, <b>오티스...   \n",
       "829  안전경영대상에는 <b>오티스 엘리베이터</b> 코리아가 국내 최초 24시간 엘리베이...   \n",
       "\n",
       "                                              org_link  \\\n",
       "631  http://www.hidomin.com/news/articleView.html?i...   \n",
       "633  http://www.anewsa.com/detail.php?number=905976...   \n",
       "829           http://www.econovill.com/archives/130018   \n",
       "\n",
       "                                                  link                 date  \n",
       "631  http://www.hidomin.com/news/articleView.html?i...  2015-10-22 01:01:00  \n",
       "633  http://www.anewsa.com/detail.php?number=905976...  2015-10-18 09:51:00  \n",
       "829           http://www.econovill.com/archives/130018  2013-10-28 11:50:00  "
      ]
     },
     "execution_count": 115,
     "metadata": {},
     "output_type": "execute_result"
    }
   ],
   "source": [
    "temp_df[temp_df['description'].str.contains(\"위험\")].head()"
   ]
  },
  {
   "cell_type": "markdown",
   "metadata": {},
   "source": [
    "오티스가 협조한 안전 행사들이다. \n",
    "딱히 안좋은 내용은 없다."
   ]
  },
  {
   "cell_type": "code",
   "execution_count": 117,
   "metadata": {},
   "outputs": [
    {
     "name": "stdout",
     "output_type": "stream",
     "text": [
      "<b>오티스 코리아; 빌딩설비사업본부 부사장; 서울대 영어영문학과; 부사장 대표이사; 코리아(사장 조익서); 파킹시스템\n",
      "사업부문; 롯데월드타워 최상부; 한국지멘스, 한국후지제록스,; 코리아(이하 오티스); 전망대용 엘리베이터; 구성도 설치사례;\n",
      "<b>오티스 코리아(이하; 문도열(전 우석대; 임직원 가족들; 목적층 선행등록; 스탠퍼드대 케임브리지대; >코리아,\n",
      "한국지멘스,; <b>오티스 코리아(사장; 외국인투자기업 주한외국상; 연구소 한국분원\n"
     ]
    }
   ],
   "source": [
    "ko2.collocations()"
   ]
  },
  {
   "cell_type": "markdown",
   "metadata": {},
   "source": [
    "묶여있는 것을 표시하는 colllocations()는 특별한게 없다."
   ]
  },
  {
   "cell_type": "code",
   "execution_count": 119,
   "metadata": {},
   "outputs": [
    {
     "name": "stdout",
     "output_type": "stream",
     "text": [
      "Displaying 17 of 17 matches:\n",
      "격관리 대비 [잡식]언젠간 쓸모 지 지식 18 <b>오티스 코리아, 그린슈츠 캠페인 진행 오티스, 지역 아동센터 엘리베이터 전 교육 <b>오티스\n",
      "행 오티스, 지역 아동센터 엘리베이터 전 교육 <b>오티스 코리아, 그린슈츠 캠페인 진행 <b>오티스 ‘그린슈츠 캠페인’ 진행 <b>오티스 어린\n",
      "들 엘리베이터 교육 &quot;엘리베이터 안전하게&quot; 오티스 그린슈츠 캠페인 <b>오티스 ‘그린슈츠 캠페인’ 실시 어린이 안전교육 캠페인\n",
      "교육 ‘그린슈츠’ 진행 오티스 코리아, 안전한 엘리베이터 이용 교육 그린슈츠 프로그램 런칭 오티스코리아, '그린슈츠 프로그램 런칭… 확대 세계 \n",
      " 안전한 승강기 이용 사회공헌활동 런칭 오티스 안전 승강기 이용교육 그린슈츠 진행 오티스 코리아, 안전한 엘리베이터 이용 교육…그린슈츠 프로그램\n",
      "하 오티스) 경기 시흥시 지역아동센터 방문 ‘그린슈츠 캠페인’ 진행 그린슈츠 캠페인 학습공간 생활환경 개선 승강기 전 교육 진행 사회공헌 시흥서\n",
      "경기 양 금빛지역 아동센터 '그린슈츠(Green 캠페인 진행 22일 그린슈츠 캠페인 안전한 엘리베이터 이용 교육 환경 개 양 금빛아동센터 시설개\n",
      " 금빛지역 아동센터 ‘그린슈츠(Green Shoots)’캠페인 진행 그린슈츠 캠페인 안전한 엘리베이터 이용 교육 환경 개 작업 구성 사회공헌 경\n",
      " 센터 도배 책걸상 교체 작업 참여 >코리아 임직원 아동들 기념사진 그린슈츠 캠페인 오티스코리아 모회사 2011년 전 세계적 진행 사회공헌활동 \n",
      "코리아 서울 신길동 대영초등학교 어린이들 대상 안전 승강기 이용교육 그린슈츠 프로그램 진행 30일 학생들 엘리베이터 모형 <b>오티스 코리아 초\n",
      " <b>오티스 코리아 초등학교 어린이들 안전 승강기 이용 교육 사용 그린슈츠 프로그램 런칭했다 프로그램 사회공헌 활동 일종 2011년 <b>오티\n",
      "서울 신길동 소재 서울대영초등학교 어린이들 안전한 승강기 이용 교육 그린슈츠 프로그램 런칭했다 어린이 눈높이 교육 등 다채로운 행사 오티스코리 \n",
      " 신길동 서울대영초등학교 ‘그린슈츠’ 프로그램 론칭 행사 기념 사진 그린슈츠 프로그램 어린이들 엘리베이터 모형 <b>오티스 코리아 서울 신길동 \n",
      "울 신길동 소재 서울 대영초등학교 어린이들 안전한 승강기 이용 교육 그린슈츠 프로그램 런칭했다 30일 오티스 엘리베이터 에스컬레이터 무빙워크를 \n",
      "코리아 서울 신길동 대영초등학교 어린이들 대상 안전 승강기 이용교육 그린슈츠 프로그램 진행 30일 학생들 엘리베이터 모형 엘리베이터 11월 27\n",
      "서울 신길동 소재 서울대영초등학교 어린이들 안전한 승강기 이용 교육 그린슈츠 프로그램 런칭했다ⓒ오티스코리 박상효 기자]<b>오티스 코리아 서울 \n",
      "서울 신길동 소재 서울대영초등학교 어린이들 안전한 승강기 이용 교육 그린슈츠 프로그램 진행 오티스코리 제공 <b>오티스 LG-<b>오티스 대표 \n"
     ]
    }
   ],
   "source": [
    "ko2.concordance('그린슈츠')"
   ]
  },
  {
   "cell_type": "markdown",
   "metadata": {},
   "source": [
    "이건 그린슈츠 보도자료가 비슷한게 많은가 궁금하다"
   ]
  },
  {
   "cell_type": "code",
   "execution_count": 132,
   "metadata": {},
   "outputs": [
    {
     "data": {
      "text/html": [
       "<div>\n",
       "<style scoped>\n",
       "    .dataframe tbody tr th:only-of-type {\n",
       "        vertical-align: middle;\n",
       "    }\n",
       "\n",
       "    .dataframe tbody tr th {\n",
       "        vertical-align: top;\n",
       "    }\n",
       "\n",
       "    .dataframe thead th {\n",
       "        text-align: right;\n",
       "    }\n",
       "</style>\n",
       "<table border=\"1\" class=\"dataframe\">\n",
       "  <thead>\n",
       "    <tr style=\"text-align: right;\">\n",
       "      <th></th>\n",
       "      <th>title</th>\n",
       "      <th>description</th>\n",
       "      <th>org_link</th>\n",
       "      <th>link</th>\n",
       "      <th>date</th>\n",
       "    </tr>\n",
       "  </thead>\n",
       "  <tbody>\n",
       "    <tr>\n",
       "      <th>107</th>\n",
       "      <td>[포토] &lt;b&gt;오티스엘리베이터&lt;/b&gt; `행복 벽화`</td>\n",
       "      <td>&lt;b&gt;오티스엘리베이터&lt;/b&gt;코리아의 사내 모임인 '우먼스 카운슬' 회원과 가족 등 ...</td>\n",
       "      <td>http://news.mk.co.kr/newsRead.php?year=2017&amp;no...</td>\n",
       "      <td>https://news.naver.com/main/read.nhn?mode=LSD&amp;...</td>\n",
       "      <td>2017-10-16 17:34:00</td>\n",
       "    </tr>\n",
       "    <tr>\n",
       "      <th>181</th>\n",
       "      <td>오티스, 환경개선 ‘그린슈츠 캠페인’ 진행</td>\n",
       "      <td>5월 30일 경기도 시흥시 자연과 아이들 지역아동센터에서 ‘그린슈츠 캠페인’ 에 참...</td>\n",
       "      <td>http://www.electimes.com/article.php?aid=14963...</td>\n",
       "      <td>http://www.electimes.com/article.php?aid=14963...</td>\n",
       "      <td>2017-06-01 17:00:00</td>\n",
       "    </tr>\n",
       "    <tr>\n",
       "      <th>183</th>\n",
       "      <td>&lt;b&gt;오티스엘리베이터&lt;/b&gt;, 시흥 아동센터서 환경 개선활동과 승강기 안전교육 진행</td>\n",
       "      <td>&lt;b&gt;오티스엘리베이터&lt;/b&gt;코리아는 지난 30일 경기도 시흥 지역아동센터를 방문해 ...</td>\n",
       "      <td>http://biz.chosun.com/site/data/html_dir/2017/...</td>\n",
       "      <td>https://news.naver.com/main/read.nhn?mode=LSD&amp;...</td>\n",
       "      <td>2017-05-31 16:50:00</td>\n",
       "    </tr>\n",
       "    <tr>\n",
       "      <th>184</th>\n",
       "      <td>오티스, 시흥 아동센터 공부방 환경개선</td>\n",
       "      <td>&lt;b&gt;오티스엘리베이터&lt;/b&gt;코리아가 경기 시흥 지역아동센터를 방문해 학습공간을 개선...</td>\n",
       "      <td>http://news.mk.co.kr/newsRead.php?&amp;year=2017&amp;n...</td>\n",
       "      <td>https://news.naver.com/main/read.nhn?mode=LSD&amp;...</td>\n",
       "      <td>2017-05-31 16:15:00</td>\n",
       "    </tr>\n",
       "    <tr>\n",
       "      <th>185</th>\n",
       "      <td>오티스, 시흥 아동센터 공부방 환경개선</td>\n",
       "      <td>&lt;b&gt;오티스엘리베이터&lt;/b&gt;코리아가 경기 시흥 지역아동센터를 방문해 학습공간을 개선...</td>\n",
       "      <td>http://news.mk.co.kr/newsRead.php?&amp;year=2017&amp;n...</td>\n",
       "      <td>https://news.naver.com/main/read.nhn?mode=LSD&amp;...</td>\n",
       "      <td>2017-05-31 15:01:00</td>\n",
       "    </tr>\n",
       "  </tbody>\n",
       "</table>\n",
       "</div>"
      ],
      "text/plain": [
       "                                              title  \\\n",
       "107                    [포토] <b>오티스엘리베이터</b> `행복 벽화`   \n",
       "181                         오티스, 환경개선 ‘그린슈츠 캠페인’ 진행   \n",
       "183  <b>오티스엘리베이터</b>, 시흥 아동센터서 환경 개선활동과 승강기 안전교육 진행   \n",
       "184                           오티스, 시흥 아동센터 공부방 환경개선   \n",
       "185                           오티스, 시흥 아동센터 공부방 환경개선   \n",
       "\n",
       "                                           description  \\\n",
       "107  <b>오티스엘리베이터</b>코리아의 사내 모임인 '우먼스 카운슬' 회원과 가족 등 ...   \n",
       "181  5월 30일 경기도 시흥시 자연과 아이들 지역아동센터에서 ‘그린슈츠 캠페인’ 에 참...   \n",
       "183  <b>오티스엘리베이터</b>코리아는 지난 30일 경기도 시흥 지역아동센터를 방문해 ...   \n",
       "184  <b>오티스엘리베이터</b>코리아가 경기 시흥 지역아동센터를 방문해 학습공간을 개선...   \n",
       "185  <b>오티스엘리베이터</b>코리아가 경기 시흥 지역아동센터를 방문해 학습공간을 개선...   \n",
       "\n",
       "                                              org_link  \\\n",
       "107  http://news.mk.co.kr/newsRead.php?year=2017&no...   \n",
       "181  http://www.electimes.com/article.php?aid=14963...   \n",
       "183  http://biz.chosun.com/site/data/html_dir/2017/...   \n",
       "184  http://news.mk.co.kr/newsRead.php?&year=2017&n...   \n",
       "185  http://news.mk.co.kr/newsRead.php?&year=2017&n...   \n",
       "\n",
       "                                                  link                 date  \n",
       "107  https://news.naver.com/main/read.nhn?mode=LSD&...  2017-10-16 17:34:00  \n",
       "181  http://www.electimes.com/article.php?aid=14963...  2017-06-01 17:00:00  \n",
       "183  https://news.naver.com/main/read.nhn?mode=LSD&...  2017-05-31 16:50:00  \n",
       "184  https://news.naver.com/main/read.nhn?mode=LSD&...  2017-05-31 16:15:00  \n",
       "185  https://news.naver.com/main/read.nhn?mode=LSD&...  2017-05-31 15:01:00  "
      ]
     },
     "execution_count": 132,
     "metadata": {},
     "output_type": "execute_result"
    }
   ],
   "source": [
    "temp_df[temp_df['description'].str.contains(\"그린\")].head()"
   ]
  },
  {
   "cell_type": "markdown",
   "metadata": {},
   "source": [
    "그린 슈츠 관련 기사다. 아마 API 가져올 때 날짜 순으로 가져오지 않아서 그런거 같다.  \n",
    "제대로 하려면 서버에 새로운 기사들을 저장하고, 실시간으로 내가 만든 서버에서 가져와야하는데\n",
    "그렇게까지 빡세게 할 필요는 없을 것 같았다\n",
    "\n",
    "만약 그렇게 할라면 bs4를 쓰면 될 듯하다."
   ]
  },
  {
   "cell_type": "code",
   "execution_count": 136,
   "metadata": {},
   "outputs": [],
   "source": [
    "# bs4 예시\n",
    "import pandas as pd\n",
    "import numpy as np\n",
    "\n",
    "import platform\n",
    "import matplotlib.pyplot as plt\n",
    "\n",
    "%matplotlib inline\n",
    "\n",
    "path = \"c:/Windows/Fonts/malgun.ttf\"\n",
    "from matplotlib import font_manager, rc\n",
    "if platform.system() == 'Darwin':\n",
    "    rc('font', family='AppleGothic')\n",
    "elif platform.system() == 'Windows':\n",
    "    font_name = font_manager.FontProperties(fname=path).get_name()\n",
    "    rc('font', family=font_name)\n",
    "else:\n",
    "    print('Unknown system... sorry~~~~')    \n",
    "\n",
    "plt.rcParams['axes.unicode_minus'] = False\n",
    "\n",
    "from bs4 import BeautifulSoup \n",
    "from urllib.request import urlopen\n",
    "import urllib\n",
    "import time"
   ]
  },
  {
   "cell_type": "code",
   "execution_count": 138,
   "metadata": {},
   "outputs": [
    {
     "data": {
      "text/plain": [
       "[' 기본검색   입력한 단어가 하나이상 포함된 문서 검색  ',\n",
       " ' 상세검색  정확히 일치하는 단어/문장(\" \") 반드시 포함하는 단어(+) 제외하는 단어(-)  기본검색의 결과 범위를 줄이고자 할 때 사용합니다.여러개의 단어를 입력하실 때는쉼표(,)로 구분해서 입력하세요.   ',\n",
       " ' 연관검색어도움말    오티스   오티스 엘리베이터 연봉   현대엘리베이터   오티스 엘리베이터 파업   엘리베이터   오티스 엘리베이터 채용   미쓰비시엘리베이터   티센크루프 엘리베이터   otis   한국미쓰비시엘리베이터     닫기 후 1주일간 유지됩니다. 연관검색어를 다시 보시겠습니까? 열기 ',\n",
       " \" 오티스, 향균 기능 특화 ‘젠투 케어’ 엘리베이터 출시 이뉴스투데이  2018.08.13.   보내기   오티스는 엘리베이터, 에스컬레이터, 무빙워크를 포함한 빌딩 내 운송설비 제품 관련 제조 및 유지관리 전문기업으로, 유나이티드 테크놀로지스(UTC)의 자회사다. 젠투 케어 카 내부에는 항균성을 강화해 세균...     오티스, 항균 기능 특화 '젠투 케어' 엘리베이터 출시… 차별화 가치제고 만전  국토일보  2018.08.13.     오티스, 항균 기능 특화된 ‘젠투 케어’ 엘리베이터 출시  전기신문  2018.08.13.     \",\n",
       " \" 현대, 상반기 엘리베이터 시공 '넘버 원'…누적대수도 1위 전기신문  2018.09.06.   보내기   이어서 외국계 기업인 티센크루프엘리베이터가 5480대로 2위를 차지했고, 오티스엘리베이터가 2483대, 미쓰비시엘리베이터가 796대를 설치하며 뒤를 이었다. 한국쉰들러는 불과 19대, 지난해 국내에 새롭게 진출한... \",\n",
       " \" 오티스엘리베이터, 새 ‘시그니처 서비스’ 연말 론칭 미디어펜  2018.05.30.   보내기   사진=오티스엘리베이터 제공 오티스의 새로운 시그니처 서비스는 지난 160여년간 축적된 전문 경험을 보유하고 있는 숙련된 직원들과 오티스 문화 및 가치에 대한 그들의 열정과 헌신을 기반으로 한다. 새로운 기술과...     오티스 엘리베이터, 新 서비스 브랜드 '시그니처 서비스' 론칭  국토일보  2018.05.30.     오티스 엘리베이터, '시그니처 서비스' 론칭  G밸리뉴스  2018.05.30.     오티스 엘리베이터, 서비스 브랜드 ‘시그니처 서비스’ 론칭  전기신문  2018.05.30.     오티스엘리베이터, 새로운 서비스 브랜드 ‘시그니처 서비스’ 론칭  비즈트리뷴  2018.05.30.     관련뉴스 6건 전체보기   \",\n",
       " ' 오티스, 혁신적 플랫벨트 적용된 젠투라이프 엘리베이터로 ‘2018 이노스타’... SBS CNBC  2018.04.13.  네이버뉴스   보내기   한편 오티스는 엘리베이터, 에스컬레이터, 무빙워크를 포함한 승강기 관련 세계적인 제조 및 유지관리 전문 기업으로 전 세계 200여개 국가에 제품과 서비스를 공급하고 있다. 국내에서는 1910년 조선호텔에 우리나라... ',\n",
       " ' 오티스 젠투라이프, 안전ㆍ비용절감ㆍ디자인 모두 갖춘 엘리베이터로 ‘2018 ... 건설경제신문  2018.04.09.   보내기   한편 오티스는 엘리베이터, 에스컬레이터, 무빙워크를 포함한 승강기 관련 세계 최대의 제조 및 유지관리 전문기업이다. 160여년 전 세계 최초로 안전장치가 부착된 엘리베이터를 개발하면서 현대적인 승강기 보급에... ',\n",
       " ' 오티스, 젠투라이프 엘리베이터로 ‘2018 이노스타’ 혁신상품 수상 뉴스1  2018.04.06.  네이버뉴스   보내기   한편 오티스는 엘리베이터, 에스컬레이터, 무빙워크를 포함한 승강기 관련 세계 최대의 제조 및 유지관리 전문기업이다. 160여년 전 세계 최초로 안전장치가 부착된 엘리베이터를 개발하면서 현대적인 승강기... ',\n",
       " \" 오티스 젠투라이프 엘리베이터 '혁신 1위' 선정 뉴스핌  2018.04.05.   보내기   한편 오티스는 엘리베이터, 에스컬레이터, 무빙워크를 포함한 승강기 관련 세계 최대의 제조 및 유지관리 전문기업이다. 160여년 전 세계 최초로 안전장치가 부착된 엘리베이터를 개발하면서 현대적인 승강기 보급에... \",\n",
       " ' 오티스 엘리베이터, 소규모 공사 약속 준공도 못 시키자 소비자 \"비난봇물\" 뉴스프리존  2018.04.01.   보내기   오티스가 준공을 못 마친 문제의 효정빌딩 [뉴스프리존 허정임, 김양훈 기자] 오티스엘리베이터는 약 6만5000명이 근무하는 대기업으로 LG오티스를 인수받아 오티스로 명명해 운영 중에 있다. 이런 대기업이 인천 남구... ',\n",
       " \" [기업 포커스] 오티스 젠투라이프, 혁신 엘리베이터 1위 한국경제  A15면2단  2018.03.20.  네이버뉴스   보내기   오티스엘리베이터의 젠투라이프 엘리베이터가 20일 ‘2018 이노스타 혁신상품’ 엘리베이터 부문 1위에 선정됐다. 글로벌 승강기 전문기업 오티스는 젠투 엘리베이터 시리즈로 2015년부터 올해까지 4년 연속 1위를...     오티스 젠투라이프, ‘2018 이노스타’ 엘리베이터 부문 1위 선정  EBN  2018.03.20.     오티스 젠투라이프, '이노스타' 엘리베이터 부문 1위 선정...4년 연속  녹색경제신문  2018.03.20.     오티스 '젠투라이프', '2018 이노스타' 엘리베이터 부문 혁신상품 1위 '영예'  국토일보  2018.03.20.     오티스 젠투라이프, 엘리베이터 부문 혁신상품 1위  전기신문  2018.03.20.     관련뉴스 7건 전체보기   \",\n",
       " \" 오티스 코리아, '그린슈츠 캠페인' 전개 아파트관리신문  2018.07.10.   보내기   펼치는 등 전사적으로 나눔 문화를 실천하고 있다. 오티스는 엘리베이터, 에스컬레이터, 무빙워크를 포함한 빌딩 내 운송설비 제품 관련 세계적인 제조 및 유지관리 전문기업으로, UTC(United Technologies Corp.)의 자회사다. \"]"
      ]
     },
     "execution_count": 138,
     "metadata": {},
     "output_type": "execute_result"
    }
   ],
   "source": [
    "from bs4 import BeautifulSoup \n",
    "from urllib.request import urlopen, Request\n",
    "import urllib\n",
    "html = 'https://search.naver.com/search.naver?query={key_word}&where=news&ie=utf8&sm=nws_hty'\n",
    "#html = 'http://kin.naver.com/search/list.nhn?query={key_word}&page={num}'\n",
    "\n",
    "req = Request(html.format(num=1, key_word=urllib.parse.quote('오티스 엘리베이터')));\n",
    "req.add_header('Referer', 'http://www.naver.com/')\n",
    "\n",
    "response = urlopen(req)\n",
    "\n",
    "soup = BeautifulSoup(response, \"html.parser\")\n",
    "\n",
    "tmp = soup.find_all('dl')\n",
    "\n",
    "tmp_list = []\n",
    "for line in tmp:\n",
    "    tmp_list.append(line.text)\n",
    "    \n",
    "tmp_list"
   ]
  }
 ],
 "metadata": {
  "kernelspec": {
   "display_name": "Python 3",
   "language": "python",
   "name": "python3"
  },
  "language_info": {
   "codemirror_mode": {
    "name": "ipython",
    "version": 3
   },
   "file_extension": ".py",
   "mimetype": "text/x-python",
   "name": "python",
   "nbconvert_exporter": "python",
   "pygments_lexer": "ipython3",
   "version": "3.6.6"
  }
 },
 "nbformat": 4,
 "nbformat_minor": 2
}
