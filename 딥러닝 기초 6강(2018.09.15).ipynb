{
 "cells": [
  {
   "cell_type": "markdown",
   "metadata": {},
   "source": [
    "# 딥러닝 기초 6강(2018.09.15)"
   ]
  },
  {
   "cell_type": "code",
   "execution_count": 1,
   "metadata": {},
   "outputs": [
    {
     "data": {
      "text/html": [
       "'C:/Users/Playdata/OneDrive/R/LS_Deep'"
      ],
      "text/latex": [
       "'C:/Users/Playdata/OneDrive/R/LS\\_Deep'"
      ],
      "text/markdown": [
       "'C:/Users/Playdata/OneDrive/R/LS_Deep'"
      ],
      "text/plain": [
       "[1] \"C:/Users/Playdata/OneDrive/R/LS_Deep\""
      ]
     },
     "metadata": {},
     "output_type": "display_data"
    }
   ],
   "source": [
    "options(scipen=999)\n",
    "getwd()"
   ]
  },
  {
   "cell_type": "markdown",
   "metadata": {},
   "source": [
    "1. 문제상황 이해\n",
    "2. 데이터 이해\n",
    "###EDA\n",
    "3. 전처리\n",
    "4. feature engineering\n",
    "\n",
    "5. modeling"
   ]
  },
  {
   "cell_type": "markdown",
   "metadata": {},
   "source": [
    "# 1. wine data로 LM, tree 실습"
   ]
  },
  {
   "cell_type": "code",
   "execution_count": 2,
   "metadata": {},
   "outputs": [
    {
     "data": {
      "text/html": [
       "<ol class=list-inline>\n",
       "\t<li>'fixed_acidity'</li>\n",
       "\t<li>'volatile_acidity'</li>\n",
       "\t<li>'citric_acid'</li>\n",
       "\t<li>'residual_sugar'</li>\n",
       "\t<li>'chlorides'</li>\n",
       "\t<li>'free_sulfur_dioxide'</li>\n",
       "\t<li>'total_sulfur_dioxide'</li>\n",
       "\t<li>'density'</li>\n",
       "\t<li>'pH'</li>\n",
       "\t<li>'sulphates'</li>\n",
       "\t<li>'alcohol'</li>\n",
       "\t<li>'quality'</li>\n",
       "\t<li>'type'</li>\n",
       "</ol>\n"
      ],
      "text/latex": [
       "\\begin{enumerate*}\n",
       "\\item 'fixed\\_acidity'\n",
       "\\item 'volatile\\_acidity'\n",
       "\\item 'citric\\_acid'\n",
       "\\item 'residual\\_sugar'\n",
       "\\item 'chlorides'\n",
       "\\item 'free\\_sulfur\\_dioxide'\n",
       "\\item 'total\\_sulfur\\_dioxide'\n",
       "\\item 'density'\n",
       "\\item 'pH'\n",
       "\\item 'sulphates'\n",
       "\\item 'alcohol'\n",
       "\\item 'quality'\n",
       "\\item 'type'\n",
       "\\end{enumerate*}\n"
      ],
      "text/markdown": [
       "1. 'fixed_acidity'\n",
       "2. 'volatile_acidity'\n",
       "3. 'citric_acid'\n",
       "4. 'residual_sugar'\n",
       "5. 'chlorides'\n",
       "6. 'free_sulfur_dioxide'\n",
       "7. 'total_sulfur_dioxide'\n",
       "8. 'density'\n",
       "9. 'pH'\n",
       "10. 'sulphates'\n",
       "11. 'alcohol'\n",
       "12. 'quality'\n",
       "13. 'type'\n",
       "\n",
       "\n"
      ],
      "text/plain": [
       " [1] \"fixed_acidity\"        \"volatile_acidity\"     \"citric_acid\"         \n",
       " [4] \"residual_sugar\"       \"chlorides\"            \"free_sulfur_dioxide\" \n",
       " [7] \"total_sulfur_dioxide\" \"density\"              \"pH\"                  \n",
       "[10] \"sulphates\"            \"alcohol\"              \"quality\"             \n",
       "[13] \"type\"                "
      ]
     },
     "metadata": {},
     "output_type": "display_data"
    }
   ],
   "source": [
    "###1-a) data4_1\n",
    "data4_1 <- read.csv(\"data4_1.csv\", header = TRUE)\n",
    "test_df <- data4_1\n",
    "colnames(test_df)"
   ]
  },
  {
   "cell_type": "markdown",
   "metadata": {},
   "source": [
    "# a). test_set, train_set 나누기"
   ]
  },
  {
   "cell_type": "code",
   "execution_count": 3,
   "metadata": {},
   "outputs": [],
   "source": [
    "set.seed(10)\n",
    "wine <- test_df \n",
    "\n",
    "train_test_split <- sample(1:nrow(wine), 0.8*nrow(wine))\n",
    "\n",
    "train_set <- wine[train_test_split, ]\n",
    "test_set <- wine[-train_test_split, ]\n",
    "\n",
    "write.csv(test_set, \"test_set.csv\", row.names=F)\n",
    "write.csv(train_set, \"train_set.csv\", row.names=F)\n",
    "\n",
    "rm(test_set)#remove test_set!!"
   ]
  },
  {
   "cell_type": "markdown",
   "metadata": {},
   "source": [
    "# b) train_set만 가지고 학습하기"
   ]
  },
  {
   "cell_type": "code",
   "execution_count": 4,
   "metadata": {},
   "outputs": [
    {
     "data": {
      "text/html": [
       "0.26"
      ],
      "text/latex": [
       "0.26"
      ],
      "text/markdown": [
       "0.26"
      ],
      "text/plain": [
       "[1] 0.26"
      ]
     },
     "metadata": {},
     "output_type": "display_data"
    }
   ],
   "source": [
    "# 1.  train set will not be contaminated   \n",
    "wine <- read.csv(\"train_set.csv\")\n",
    "wine[1,2]\n",
    "# 2. split validation set 2:8 again\n",
    "train_valid_split <- sample(1:nrow(wine), 0.8*nrow(wine))"
   ]
  },
  {
   "cell_type": "markdown",
   "metadata": {},
   "source": [
    "# c) lm"
   ]
  },
  {
   "cell_type": "code",
   "execution_count": 5,
   "metadata": {},
   "outputs": [
    {
     "name": "stderr",
     "output_type": "stream",
     "text": [
      "Warning message in real_quality - pred_quality_lm:\n",
      "\"두 객체의 길이가 서로 배수관계에 있지 않습니다\""
     ]
    }
   ],
   "source": [
    "real_quality <- wine$quality[train_valid_split]\n",
    "\n",
    "model <- lm(quality~., data=wine[train_valid_split, ])\n",
    "\n",
    "pred_quality_lm <- predict(model, wine[-train_valid_split, ])\n",
    "\n",
    "validation_error_lm <- mean((real_quality - pred_quality_lm)^2)\n"
   ]
  },
  {
   "cell_type": "markdown",
   "metadata": {},
   "source": [
    "# d) tree"
   ]
  },
  {
   "cell_type": "code",
   "execution_count": 6,
   "metadata": {},
   "outputs": [
    {
     "ename": "ERROR",
     "evalue": "Error in library(tree): there is no package called 'tree'\n",
     "output_type": "error",
     "traceback": [
      "Error in library(tree): there is no package called 'tree'\nTraceback:\n",
      "1. library(tree)",
      "2. stop(txt, domain = NA)"
     ]
    }
   ],
   "source": [
    "library(tree)"
   ]
  },
  {
   "cell_type": "code",
   "execution_count": 7,
   "metadata": {},
   "outputs": [
    {
     "ename": "ERROR",
     "evalue": "Error in tree(quality ~ ., data = wine[train_valid_split, ]): 함수 \"tree\"를 찾을 수 없습니다\n",
     "output_type": "error",
     "traceback": [
      "Error in tree(quality ~ ., data = wine[train_valid_split, ]): 함수 \"tree\"를 찾을 수 없습니다\nTraceback:\n"
     ]
    }
   ],
   "source": [
    "real_quality <- wine$quality[train_valid_split]\n",
    "\n",
    "model <- tree(quality~., data=wine[train_valid_split, ])\n",
    "\n",
    "pred_quality_tree <- predict(model, wine[-train_valid_split, ])\n",
    "\n",
    "validation_error_tree <- mean((real_quality - pred_quality_tree)^2)"
   ]
  },
  {
   "cell_type": "code",
   "execution_count": 8,
   "metadata": {},
   "outputs": [
    {
     "name": "stdout",
     "output_type": "stream",
     "text": [
      "validation_error_lm의 값:  1.010103\n"
     ]
    },
    {
     "ename": "ERROR",
     "evalue": "Error in cat(\"validation_error_tree의 값: \", validation_error_tree): 객체 'validation_error_tree'를 찾을 수 없습니다\n",
     "output_type": "error",
     "traceback": [
      "Error in cat(\"validation_error_tree의 값: \", validation_error_tree): 객체 'validation_error_tree'를 찾을 수 없습니다\nTraceback:\n",
      "1. cat(\"validation_error_tree의 값: \", validation_error_tree)"
     ]
    }
   ],
   "source": [
    "# e) lm과 tree의 validation_error(test_error) 비교\n",
    "\n",
    "cat(\"validation_error_lm의 값: \", validation_error_lm)\n",
    "cat(\"\\n\")\n",
    "cat(\"validation_error_tree의 값: \", validation_error_tree)"
   ]
  },
  {
   "cell_type": "markdown",
   "metadata": {},
   "source": [
    "# 2. wine data로 GML 실습\n",
    "\n",
    "## gml\n",
    "\n",
    "generalized linear model(glm)\n",
    "output이 따르는 확률 분포 정규분포\n",
    "\n",
    "logistic regression은 ouput이 이항분포"
   ]
  },
  {
   "cell_type": "code",
   "execution_count": 9,
   "metadata": {},
   "outputs": [
    {
     "name": "stderr",
     "output_type": "stream",
     "text": [
      "Loading required package: Matrix\n",
      "Loading required package: foreach\n",
      "Loaded glmnet 2.0-16\n",
      "\n"
     ]
    }
   ],
   "source": [
    "library(\"glmnet\")"
   ]
  },
  {
   "cell_type": "code",
   "execution_count": 10,
   "metadata": {},
   "outputs": [
    {
     "data": {
      "text/plain": [
       "\n",
       "   0    1 \n",
       "1293 3904 "
      ]
     },
     "metadata": {},
     "output_type": "display_data"
    }
   ],
   "source": [
    "#  와인타입\n",
    "table(wine$type)"
   ]
  },
  {
   "cell_type": "code",
   "execution_count": 11,
   "metadata": {},
   "outputs": [],
   "source": [
    "real_type <- wine$type[-train_valid_split]\n",
    "  \n",
    "model <- glm(formula =type~., \n",
    "             data = wine[train_valid_split, ],\n",
    "             family ='binomial' )\n",
    "  \n",
    "pred_type <- predict(model, wine[-train_valid_split, ], type='response')\n",
    "\n",
    "#확률 예측한것을 레이블롬 ㅏㄴ들자\n",
    "pred_type_label <-ifelse(pred_type > 0.5, 1, 0) #true에 1, false에 0 "
   ]
  },
  {
   "cell_type": "markdown",
   "metadata": {},
   "source": [
    "\n",
    "# accurcy 정확도\n",
    "(251+780) / (251 + 6 + 3 +  780) accuracy: 정확도"
   ]
  },
  {
   "cell_type": "code",
   "execution_count": 12,
   "metadata": {},
   "outputs": [
    {
     "data": {
      "text/plain": [
       "         pred_type_label\n",
       "real_type   0   1\n",
       "        0 274   4\n",
       "        1   3 759"
      ]
     },
     "metadata": {},
     "output_type": "display_data"
    }
   ],
   "source": [
    "table(real_type, pred_type_label)"
   ]
  },
  {
   "cell_type": "markdown",
   "metadata": {},
   "source": [
    "# 여러 기준의 accuracy\n",
    "### Recall, Precision"
   ]
  },
  {
   "cell_type": "code",
   "execution_count": 13,
   "metadata": {},
   "outputs": [
    {
     "data": {
      "text/plain": [
       "         pred_type_label1\n",
       "real_type   0   1\n",
       "        0 274   4\n",
       "        1   3 759"
      ]
     },
     "metadata": {},
     "output_type": "display_data"
    },
    {
     "data": {
      "text/plain": [
       "         pred_type_label2\n",
       "real_type   0   1\n",
       "        0 275   3\n",
       "        1  10 752"
      ]
     },
     "metadata": {},
     "output_type": "display_data"
    },
    {
     "data": {
      "text/plain": [
       "         pred_type_label3\n",
       "real_type   0   1\n",
       "        0 270   8\n",
       "        1   1 761"
      ]
     },
     "metadata": {},
     "output_type": "display_data"
    }
   ],
   "source": [
    "pred_type_label1 <-ifelse(pred_type > 0.5, 1, 0) #true에 1, false에 0 \n",
    "pred_type_label2 <-ifelse(pred_type > 0.9, 1, 0) #true에 1, false에 0 \n",
    "pred_type_label3 <-ifelse(pred_type > 0.2, 1, 0) #true에 1, false에 0  화이트 와인 기준 느슨하\n",
    "\n",
    "\n",
    "table(real_type, pred_type_label1)\n",
    "table(real_type, pred_type_label2)\n",
    "table(real_type, pred_type_label3)\n"
   ]
  },
  {
   "cell_type": "markdown",
   "metadata": {},
   "source": [
    "# 3. Keraas CNN\n",
    "https://towardsdatascience.com/how-to-implement-deep-learning-in-r-using-keras-and-tensorflow-82d135ae4889\n",
    "\n",
    "784 -> 2(압축) -> 784 \n",
    "loss를 mse로\n",
    "원본 이미지를 넣어서, 원본 이미지를 예측하는 모델 \n",
    "\n",
    "denoise autoencoder\n",
    "<img src=\"https://www.doc.ic.ac.uk/~js4416/163/website/img/autoencoders/denoising-example.png\" width=\"400\">\n",
    "\n",
    "convolutional autoencoder\n",
    "<img src=\"https://cdn-images-1.medium.com/max/2000/1*8ixTe1VHLsmKB3AquWdxpQ.png\" width=\"400\">"
   ]
  },
  {
   "cell_type": "code",
   "execution_count": 14,
   "metadata": {},
   "outputs": [],
   "source": [
    "#library(keras)\n",
    "#install_keras()\n",
    "# mnist <- dataset_mnist()"
   ]
  },
  {
   "cell_type": "code",
   "execution_count": 15,
   "metadata": {},
   "outputs": [
    {
     "ename": "ERROR",
     "evalue": "Error in eval(expr, envir, enclos): 객체 'mnist'를 찾을 수 없습니다\n",
     "output_type": "error",
     "traceback": [
      "Error in eval(expr, envir, enclos): 객체 'mnist'를 찾을 수 없습니다\nTraceback:\n"
     ]
    }
   ],
   "source": [
    "class(mnist)"
   ]
  },
  {
   "cell_type": "code",
   "execution_count": 16,
   "metadata": {},
   "outputs": [
    {
     "ename": "ERROR",
     "evalue": "Error in eval(expr, envir, enclos): 객체 'mnist'를 찾을 수 없습니다\n",
     "output_type": "error",
     "traceback": [
      "Error in eval(expr, envir, enclos): 객체 'mnist'를 찾을 수 없습니다\nTraceback:\n"
     ]
    }
   ],
   "source": [
    "class(mnist)"
   ]
  },
  {
   "cell_type": "code",
   "execution_count": 18,
   "metadata": {},
   "outputs": [
    {
     "ename": "ERROR",
     "evalue": "Error in keras_model_sequential() %>% layer_dense(units = 2, input_shape = 784) %>% : 함수 \"%>%\"를 찾을 수 없습니다\n",
     "output_type": "error",
     "traceback": [
      "Error in keras_model_sequential() %>% layer_dense(units = 2, input_shape = 784) %>% : 함수 \"%>%\"를 찾을 수 없습니다\nTraceback:\n"
     ]
    }
   ],
   "source": [
    "model <- keras_model_sequential() %>%\n",
    "layer_dense(units = 2, input_shape = 784) %>%\n",
    "layer_activtaion('relu') %>% \n",
    "\n",
    "layer_dense(units = 784) %>%\n",
    "layer_activtaion('sigmoid') %>% \n",
    "\n",
    "compile(loss='mse', optimizer='adam')\n",
    "\n",
    "fit(model, image_train, image_train)"
   ]
  },
  {
   "cell_type": "markdown",
   "metadata": {},
   "source": [
    "# 4. wine data로 XGboosting 실습\n",
    "  \n",
    "1. 파라미터\n",
    "\n",
    "  1. eta: 작게 작으면 오버피팅 적음  \n",
    "  2. max_depth : 나무 깊이, 오버피팅과 비례  \n",
    "  3. subsample : 하나의 나무를 만들 때 일정 데이터만 샘플링하면 bagging 과 같은 효과가 나옴  \n",
    "  4. lambda: ridge같은 것 l2 regularization  \n",
    "  5. alpha: lasso 같은것 l1 regularization  \n",
    "\n",
    "https://xgboost.readthedocs.io/en/latest/parameter.html\n"
   ]
  },
  {
   "cell_type": "code",
   "execution_count": 19,
   "metadata": {},
   "outputs": [
    {
     "ename": "ERROR",
     "evalue": "Error in library(xgboost): there is no package called 'xgboost'\n",
     "output_type": "error",
     "traceback": [
      "Error in library(xgboost): there is no package called 'xgboost'\nTraceback:\n",
      "1. library(xgboost)",
      "2. stop(txt, domain = NA)"
     ]
    }
   ],
   "source": [
    "library(xgboost)"
   ]
  },
  {
   "cell_type": "markdown",
   "metadata": {},
   "source": [
    "# a) train, validation, test set을 나눴음  "
   ]
  },
  {
   "cell_type": "code",
   "execution_count": 20,
   "metadata": {},
   "outputs": [
    {
     "ename": "ERROR",
     "evalue": "Error in xgboost(data = input[train, ], label = output[train], params = hyperparameter, : 함수 \"xgboost\"를 찾을 수 없습니다\n",
     "output_type": "error",
     "traceback": [
      "Error in xgboost(data = input[train, ], label = output[train], params = hyperparameter, : 함수 \"xgboost\"를 찾을 수 없습니다\nTraceback:\n"
     ]
    }
   ],
   "source": [
    "wine <- read.csv(\"train_set.csv\")\n",
    "set.seed(10)\n",
    "\n",
    "train <- sample(1:nrow(wine), 0.8*nrow(wine))\n",
    "\n",
    "input <- model.matrix(quality ~., data=wine)\n",
    "output <- wine$quality\n",
    "\n",
    "hyperparameter <- list(eta = 0.03,\n",
    "                       max_depth = 8,\n",
    "                       eta =0.8)\n",
    "\n",
    "model <- xgboost(data = input[train, ],\n",
    "                label = output[train],\n",
    "                params = hyperparameter,\n",
    "                nrounds = 30)\n",
    "\n",
    "pred_output <- predict(model, input[-train,])\n",
    "real_output <- output[-train]\n",
    "\n",
    "val_error <- mean((real_output - pred_output)^2)\n",
    "\n",
    "val_error"
   ]
  },
  {
   "cell_type": "markdown",
   "metadata": {},
   "source": [
    "# b) 전체 데이터로 cross validataion\n",
    "\n",
    "  ### xgb.cv : 하이퍼 파라미터 어떤 것이 중요한지 알 수 있음\n",
    "  \n",
    "  50번까지 뽑았는데, 이 때의 validation error(test-error)를 알 수 있음"
   ]
  },
  {
   "cell_type": "code",
   "execution_count": 21,
   "metadata": {},
   "outputs": [
    {
     "ename": "ERROR",
     "evalue": "Error in xgb.cv(data = input[train, ], label = output[train], params = hyperparameter, : 함수 \"xgb.cv\"를 찾을 수 없습니다\n",
     "output_type": "error",
     "traceback": [
      "Error in xgb.cv(data = input[train, ], label = output[train], params = hyperparameter, : 함수 \"xgb.cv\"를 찾을 수 없습니다\nTraceback:\n"
     ]
    }
   ],
   "source": [
    "wine_full <- read.csv(\"data4_1.csv\")\n",
    "set.seed(10)\n",
    "\n",
    "train <- sample(1:nrow(wine_full), 0.8*nrow(wine_full))\n",
    "\n",
    "input <- model.matrix(quality ~., data=wine_full)\n",
    "output <- wine_full$quality\n",
    "\n",
    "hyperparameter <- list(eta = 0.3,\n",
    "                       max_depth = 8,\n",
    "                       eta =0.8)\n",
    "\n",
    "model <- xgb.cv(data = input[train, ],\n",
    "                label = output[train],\n",
    "                params = hyperparameter,\n",
    "                nrounds = 50,\n",
    "                nfold=5)"
   ]
  },
  {
   "cell_type": "markdown",
   "metadata": {},
   "source": [
    "# c) 나무 갯수 99999로 하다가 earlystopping rounds 로 설정\n",
    "\n",
    "validation error가 20번 똑같으면 멈추자\n",
    "\n"
   ]
  },
  {
   "cell_type": "code",
   "execution_count": 22,
   "metadata": {},
   "outputs": [
    {
     "ename": "ERROR",
     "evalue": "Error in xgb.cv(data = input[train, ], label = output[train], params = hyperparameter, : 함수 \"xgb.cv\"를 찾을 수 없습니다\n",
     "output_type": "error",
     "traceback": [
      "Error in xgb.cv(data = input[train, ], label = output[train], params = hyperparameter, : 함수 \"xgb.cv\"를 찾을 수 없습니다\nTraceback:\n"
     ]
    }
   ],
   "source": [
    "wine_full <- read.csv(\"data4_1.csv\")\n",
    "set.seed(10)\n",
    "\n",
    "train <- sample(1:nrow(wine_full), 0.8*nrow(wine_full))\n",
    "\n",
    "input <- model.matrix(quality ~., data=wine_full)\n",
    "output <- wine_full$quality\n",
    "\n",
    "hyperparameter <- list(eta = 0.03,\n",
    "                       max_depth = 8,\n",
    "                       eta =0.8)\n",
    "\n",
    "model <- xgb.cv(data = input[train, ],\n",
    "                label = output[train],\n",
    "                params = hyperparameter,\n",
    "                nrounds = 999999,\n",
    "                nfold=5,\n",
    "                early_stopping_rounds = 20)\n"
   ]
  },
  {
   "cell_type": "markdown",
   "metadata": {},
   "source": [
    "***\n",
    "Model_final <- xgboost(data=input,  \n",
    "> label = output,   \n",
    "> params = \"__적절한 하이퍼파라미터__\",  \n",
    ">  nrounds = \"__적절한 개수__\")    \n",
    "\n",
    "xgb.cv는 validation error를 계산하느 ㄴ것, 모델을 만드는 것이 아님\n",
    "하이퍼 파라미터가 무엇이 중요한지 알 수 있음 \n",
    "\n",
    "그리고 xgboost로 모델을 만들고, 평가함  \n"
   ]
  },
  {
   "cell_type": "markdown",
   "metadata": {},
   "source": [
    "# 4. san 데이터로 random tree 실습"
   ]
  },
  {
   "cell_type": "code",
   "execution_count": 23,
   "metadata": {},
   "outputs": [
    {
     "data": {
      "text/html": [
       "'C:/Users/Playdata/OneDrive/R/LS_Deep/satander'"
      ],
      "text/latex": [
       "'C:/Users/Playdata/OneDrive/R/LS\\_Deep/satander'"
      ],
      "text/markdown": [
       "'C:/Users/Playdata/OneDrive/R/LS_Deep/satander'"
      ],
      "text/plain": [
       "[1] \"C:/Users/Playdata/OneDrive/R/LS_Deep/satander\""
      ]
     },
     "metadata": {},
     "output_type": "display_data"
    }
   ],
   "source": [
    "setwd(\"C:\\\\Users\\\\Playdata\\\\OneDrive\\\\R\\\\LS_Deep\\\\satander\")\n",
    "getwd()"
   ]
  },
  {
   "cell_type": "code",
   "execution_count": 24,
   "metadata": {},
   "outputs": [],
   "source": [
    "library(ranger)\n",
    "san  <- read.csv(\"train.csv\")"
   ]
  },
  {
   "cell_type": "code",
   "execution_count": 25,
   "metadata": {},
   "outputs": [],
   "source": [
    "#use 80% of random data as a training set\n",
    "train <- sample(1:nrow(san), 0.8*nrow(san))\n",
    "\n",
    "train_set <- san[train, ]\n",
    "test_set <- san[-train, ]\n",
    "\n",
    "\n",
    "write.csv(test_set, \"test_set_san.csv\", row.names=F)\n",
    "write.csv(train_set, \"train_set_san.csv\", row.names=F)\n"
   ]
  },
  {
   "cell_type": "code",
   "execution_count": 26,
   "metadata": {},
   "outputs": [
    {
     "data": {
      "text/html": [
       "60439609203403.4"
      ],
      "text/latex": [
       "60439609203403.4"
      ],
      "text/markdown": [
       "60439609203403.4"
      ],
      "text/plain": [
       "[1] 60439609203403"
      ]
     },
     "metadata": {},
     "output_type": "display_data"
    }
   ],
   "source": [
    "# 새로 불러오기  \n",
    "san <- read.csv(\"train_set_san.csv\")\n",
    "\n",
    "set.seed(10)\n",
    "\n",
    "train <- sample(1:nrow(san), 0.8*nrow(san))\n",
    "model <- ranger(target~.-ID, data=san[train, ], mtry = 2)\n",
    "\n",
    "#predict에는 $prediction 해줘야함\n",
    "pred_target <- predict(model, san[-train, ])$predictions\n",
    "real_target <- san$target[-train]\n",
    "\n",
    "val_error <- mean((real_target - pred_target)^2)\n",
    "val_error"
   ]
  },
  {
   "cell_type": "code",
   "execution_count": 28,
   "metadata": {},
   "outputs": [
    {
     "ename": "ERROR",
     "evalue": "Error in parse(text = x, srcfile = src): <text>:5:61: 예상하지 못한 기호(symbol)입니다.\n4: \n5: model <- ranger(target~.-ID, data=san[train, ], mtry = 가장 적절한\n                                                               ^\n",
     "output_type": "error",
     "traceback": [
      "Error in parse(text = x, srcfile = src): <text>:5:61: 예상하지 못한 기호(symbol)입니다.\n4: \n5: model <- ranger(target~.-ID, data=san[train, ], mtry = 가장 적절한\n                                                               ^\nTraceback:\n"
     ]
    }
   ],
   "source": [
    "# 수개월 후 학습이 끝나면\n",
    "\n",
    "test_set <- read.csv(\"test_set_san.csv\")\n",
    "\n",
    "model <- ranger(target~.-ID, data=san[train, ], mtry = 가장 적절한)\n",
    "\n",
    "pred_target <- predict(mode, test_set)$predictions\n",
    "real_target <- test_set$target\n",
    "\n",
    "test_error <- mean((real_target - pred_target)^2)\n",
    "\n",
    "test_error"
   ]
  },
  {
   "cell_type": "markdown",
   "metadata": {},
   "source": [
    "*** \n",
    "# R^2 \n",
    "\n",
    "0에 가까우면 안좋고, 1에 가까우면 좋다\n",
    "머신러닝할ㄸ MSE 많이 씀, \n",
    "\n",
    "y_bar  trainng set의 평균"
   ]
  },
  {
   "cell_type": "code",
   "execution_count": null,
   "metadata": {},
   "outputs": [],
   "source": []
  }
 ],
 "metadata": {
  "kernelspec": {
   "display_name": "R",
   "language": "R",
   "name": "ir"
  },
  "language_info": {
   "codemirror_mode": "r",
   "file_extension": ".r",
   "mimetype": "text/x-r-source",
   "name": "R",
   "pygments_lexer": "r",
   "version": "3.5.1"
  }
 },
 "nbformat": 4,
 "nbformat_minor": 2
}
