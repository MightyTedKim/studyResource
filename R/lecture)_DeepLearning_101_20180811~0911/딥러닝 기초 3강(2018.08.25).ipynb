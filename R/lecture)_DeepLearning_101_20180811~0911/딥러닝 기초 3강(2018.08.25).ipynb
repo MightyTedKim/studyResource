{
 "cells": [
  {
   "cell_type": "markdown",
   "metadata": {},
   "source": [
    "# 딥러닝 기초 3강(2018.08.25)\n",
    "***    \n",
    "\n",
    "* __강의 목표__: 기계 학습에 대한 기본 용어 학습  \n",
    "\n",
    "* __이론__: 경사하강법 위주 (Learning problem, computational graph )\n",
    "\n",
    "* __실습__:  R 기초    \n",
    "\n"
   ]
  },
  {
   "cell_type": "code",
   "execution_count": 1,
   "metadata": {},
   "outputs": [],
   "source": [
    "#기본 옵션\n",
    "options(repr.plot.width=4, repr.plot.height=3)"
   ]
  },
  {
   "cell_type": "markdown",
   "metadata": {},
   "source": [
    "***\n",
    "\n",
    "# 0.요약  \n",
    "1. filter: 결과값을 원하는 방식으로 나타내는 것   \n",
    "\n",
    "2. 통계 학파: 빈도주의/ 베이즈 주의\n",
    "http://gentlej90.tistory.com/61\n",
    "\n",
    "3. 베이즈 정리: 고등학교 때 배운 조건부 서식\n",
    "4. 베이즈 정리의 의의\n",
    "> prior(이미 알고 있는 비율)  \n",
    "  likelihood (사건이 발생할 확률: 가능도)   \n",
    "  posterior (발생한 결과)  \n",
    "\n",
    "> posterior: 이미 알고 있는 결과를 의심 -> 새로운 데이터를 찾음  \n",
    "likelihood: 특정 전제하에서 사건이 발생할 가능성을 고려 -> 새로운 모델 (뉴턴), 딥러닝, model selection  \n",
    "http://rstudio-pubs-static.s3.amazonaws.com/204928_c2d6c62565b74a4987e935f756badfba.html\n",
    "\n",
    "5. 확률을 이용해 classification을 푸는 2가지 방법    \n",
    "> MAP(Maximum A Posterior) : 결과 기준이라 다 더하면 100% (계산 어려움)\n",
    "  MLE(Maximum Likelihood Estimation) : 더 큰 확률을 선택 (많이 사용)  \n",
    "    - 장점: posterior보다 계산하기 쉬움\n",
    "    - 단점: training에는 맞지만, 실제 data와 차이 있을 수 있음(일반화의 오류)\n",
    " \n",
    "6. classification의 loss \n",
    "> 각 모델의 loss 값을 곱한다. \n",
    "\n",
    "7. 로그 법칙\n",
    "> 로그 씌우면 지수가 로그 앞으로 가서 계산이 쉬워지고, 보기도 편해진다.\n",
    "\n",
    "8. one-hot-encoding\n",
    "> ouput 여러개여도 행열로 표현 가능\n",
    "https://hackernoon.com/what-is-one-hot-encoding-why-and-when-do-you-have-to-use-it-e3c6186d008f\n",
    " \n",
    "9. 시그모이드 필터\n",
    ">범주형 데이터를 0과 1사이의 연속된 숫자로 바꿔주는 함수    \n",
    "logistic linear model 이라고도 함\n",
    "10. softmax 함수: 시그모이드 필터와 동일(조건: 양수, 합=1), 비선형은 안됨  \n",
    "\n",
    "11. MLP(Multilayer Perception)\n",
    "> 파라미터 갯수 계산하는 법 중요, eg) 신경망\n"
   ]
  },
  {
   "cell_type": "markdown",
   "metadata": {},
   "source": [
    "# 시그모이드 필터"
   ]
  },
  {
   "cell_type": "code",
   "execution_count": 2,
   "metadata": {},
   "outputs": [],
   "source": [
    "# 필터\n",
    "Sigmoid <- function(x){\n",
    "  s <- 1 / (1 +exp(-x))\n",
    "  return(s)\n",
    "}\n",
    "\n",
    "Machine_Sigmoid <- function(x, w, b){\n",
    "  result <- Sigmoid(x*w+b)  # 1차 함수 돌렸을 떄의 값을 리턴해줌\n",
    "  return(result)\n",
    "  \n",
    "}\n",
    "\n",
    "Cost_Sigmoid <- function(x, w, b, y) {\n",
    "  y_hat <- Machine_Sigmoid(x,w,b) #예측값\n",
    "  loss <- -( y * log(y_hat) + (1 - y) * log(1-y_hat) ) \n",
    "  cost <- mean(loss) # 제곱한 것의 평균\n",
    "  return(cost) \n",
    "}\n",
    "\n",
    "Gradient_Sigmoid <- function(x, w, b, y){\n",
    "  dw <- ( Cost_Sigmoid(x, w + 0.0001, b, y) - Cost_Sigmoid(x, w, b, y) )/0.0001 \n",
    "  db <- ( Cost_Sigmoid(x, w, b + 0.0001, y) - Cost_Sigmoid(x, w, b, y) )/0.0001\n",
    "  grad <-list(dw=dw, db=db)\n",
    "  return(grad)\n",
    "}"
   ]
  },
  {
   "cell_type": "code",
   "execution_count": 3,
   "metadata": {},
   "outputs": [
    {
     "data": {
      "text/html": [
       "<ol class=list-inline>\n",
       "\t<li>10</li>\n",
       "\t<li>2</li>\n",
       "</ol>\n"
      ],
      "text/latex": [
       "\\begin{enumerate*}\n",
       "\\item 10\n",
       "\\item 2\n",
       "\\end{enumerate*}\n"
      ],
      "text/markdown": [
       "1. 10\n",
       "2. 2\n",
       "\n",
       "\n"
      ],
      "text/plain": [
       "[1] 10  2"
      ]
     },
     "metadata": {},
     "output_type": "display_data"
    },
    {
     "data": {
      "text/plain": [
       "     money            happiness  \n",
       " Min.   :-1.70336   Min.   :0.0  \n",
       " 1st Qu.:-0.40986   1st Qu.:0.0  \n",
       " Median : 0.11657   Median :0.5  \n",
       " Mean   : 0.05704   Mean   :0.5  \n",
       " 3rd Qu.: 0.51771   3rd Qu.:1.0  \n",
       " Max.   : 1.97308   Max.   :1.0  "
      ]
     },
     "metadata": {},
     "output_type": "display_data"
    },
    {
     "name": "stdout",
     "output_type": "stream",
     "text": [
      "'data.frame':\t10 obs. of  2 variables:\n",
      " $ money    : num  -1.70336 -1.25799 -0.54499 -0.00445 0.11019 ...\n",
      " $ happiness: int  0 0 0 1 1 0 0 1 1 1\n"
     ]
    }
   ],
   "source": [
    "test_df <- read.csv(\"data3_1.csv\", header = TRUE) \n",
    "dim(test_df)\n",
    "summary(test_df)\n",
    "str(test_df)"
   ]
  },
  {
   "cell_type": "code",
   "execution_count": 4,
   "metadata": {},
   "outputs": [
    {
     "data": {
      "image/png": "[encoded data removed]",
      "text/plain": [
       "plot without title"
      ]
     },
     "metadata": {},
     "output_type": "display_data"
    }
   ],
   "source": [
    "#lm 함수의 선형 회귀\n",
    "plot(test_df$money, test_df$happiness, pch=19, cex=1, col=\"grey\")\n",
    "abline(lm(happiness~money, data=test_df), lwd=5, col=\"red\")\n",
    "\n",
    "#초기값\n",
    "w<-0\n",
    "b<-0\n",
    "\n",
    "#1000번 학습\n",
    "for(i in 1:1000){\n",
    "  grad <- Gradient_Sigmoid(x=test_df$money, y=test_df$happiness, w=w, b=b)\n",
    "  w<- w - 0.01*grad$dw\n",
    "  b<- b - 0.01*grad$db\n",
    "}\n",
    "\n",
    "\n",
    "#학습 후의 곡선\n",
    "temp <- seq(-3, 3, length=1000)\n",
    "points(temp, Machine_Sigmoid(temp, w, b), lwd=5, type='l', col='blue')"
   ]
  },
  {
   "cell_type": "markdown",
   "metadata": {},
   "source": [
    "__4강에서 배울 내용__  \n",
    "  \n",
    ">1강: 머신러닝 기초, 2강: regression(수치), 3강: classification(범주형)을 배웠으면    \n",
    "어디까지 학습해야되는지를 보기 위해 `overfitting`을 배움  \n",
    "\n",
    "> - 예측이 맞을 범위를 구하는 VC 이론    \n",
    "> - 모델의 정확도를 평가하는 model assessment, cross validation  \n",
    "> - 평가를 하는 여러 기준인 validation set(k-fold, LOO)  \n",
    "> - 함수의 복잡도(크기)  \n",
    "> - shrinkage method: ridge/ lasso  \n",
    " "
   ]
  }
 ],
 "metadata": {
  "kernelspec": {
   "display_name": "R",
   "language": "R",
   "name": "ir"
  },
  "language_info": {
   "codemirror_mode": "r",
   "file_extension": ".r",
   "mimetype": "text/x-r-source",
   "name": "R",
   "pygments_lexer": "r",
   "version": "3.4.4"
  }
 },
 "nbformat": 4,
 "nbformat_minor": 2
}
